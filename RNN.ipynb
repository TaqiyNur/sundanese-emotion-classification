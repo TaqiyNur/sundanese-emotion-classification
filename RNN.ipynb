{
  "nbformat": 4,
  "nbformat_minor": 0,
  "metadata": {
    "colab": {
      "provenance": [],
      "authorship_tag": "ABX9TyMBr2uDDeijuHRIHJ1eU47G",
      "include_colab_link": true
    },
    "kernelspec": {
      "name": "python3",
      "display_name": "Python 3"
    },
    "language_info": {
      "name": "python"
    }
  },
  "cells": [
    {
      "cell_type": "markdown",
      "metadata": {
        "id": "view-in-github",
        "colab_type": "text"
      },
      "source": [
        "<a href=\"https://colab.research.google.com/github/TaqiyNur/sundanese-emotion-classification/blob/main/RNN.ipynb\" target=\"_parent\"><img src=\"https://colab.research.google.com/assets/colab-badge.svg\" alt=\"Open In Colab\"/></a>"
      ]
    },
    {
      "cell_type": "markdown",
      "source": [
        "Notebook ini dapat diakses pada [UAS AI-Muhammad Taqiy Nur Furqon]( https://colab.research.google.com/drive/1L56oInGLP05LhoNz05bVXF4AwXcIygoH?usp=sharing)\n",
        "# Proyek UAS Kecerdasan Buatan\n",
        "---\n",
        "## Sundanese Twitter Emotion Classification\n",
        "Muhammad Taqiy Nur Furqon - 2006468900\n"
      ],
      "metadata": {
        "id": "9omixhCo2aoV"
      }
    },
    {
      "cell_type": "markdown",
      "source": [
        "## Preparation"
      ],
      "metadata": {
        "id": "TcuDaL2f4TGT"
      }
    },
    {
      "cell_type": "code",
      "execution_count": 43,
      "metadata": {
        "id": "RA-2UH4AAbWY",
        "colab": {
          "base_uri": "https://localhost:8080/"
        },
        "outputId": "66661abc-bced-4cc4-df33-ef3bdbe42512"
      },
      "outputs": [
        {
          "output_type": "stream",
          "name": "stdout",
          "text": [
            "Looking in indexes: https://pypi.org/simple, https://us-python.pkg.dev/colab-wheels/public/simple/\n",
            "Requirement already satisfied: PySastrawi in /usr/local/lib/python3.10/dist-packages (1.2.0)\n"
          ]
        },
        {
          "output_type": "stream",
          "name": "stderr",
          "text": [
            "[nltk_data] Downloading package stopwords to /root/nltk_data...\n",
            "[nltk_data]   Package stopwords is already up-to-date!\n"
          ]
        }
      ],
      "source": [
        "!pip install PySastrawi\n",
        "import numpy as np\n",
        "import pandas as pd\n",
        "import re\n",
        "import tensorflow as tf\n",
        "from sklearn.model_selection import train_test_split\n",
        "from sklearn.preprocessing import LabelEncoder\n",
        "from keras.preprocessing.text import Tokenizer\n",
        "from keras.utils import pad_sequences\n",
        "from keras.models import Sequential\n",
        "from keras.models import load_model\n",
        "from keras.layers import Embedding, LSTM, Dense, Dropout\n",
        "from keras.utils import to_categorical\n",
        "from sklearn.metrics import accuracy_score, precision_score, recall_score, f1_score\n",
        "from sklearn.feature_extraction.text import TfidfVectorizer\n",
        "import nltk\n",
        "nltk.download('stopwords')\n",
        "from nltk.corpus import stopwords\n",
        "from Sastrawi.Stemmer.StemmerFactory import StemmerFactory\n",
        "from google.colab import drive\n",
        "import os\n"
      ]
    },
    {
      "cell_type": "code",
      "source": [
        "drive.mount('/content/drive', force_remount=True)\n",
        "os.chdir('/content/drive/MyDrive/Proyek UTS AI/')\n",
        "# Load the Sundanese Twitter dataset\n",
        "train = pd.read_csv('sundanese_twitter_dataset.csv', sep=\"\\t\")\n",
        "test = pd.read_csv('test_sundanese_twitter_dataset.csv', sep=\"\\t\")"
      ],
      "metadata": {
        "colab": {
          "base_uri": "https://localhost:8080/"
        },
        "id": "2OenKXp5It04",
        "outputId": "b8f8d308-d98b-4451-ddfe-1cbdcc70fc5d"
      },
      "execution_count": 44,
      "outputs": [
        {
          "output_type": "stream",
          "name": "stdout",
          "text": [
            "Mounted at /content/drive\n"
          ]
        }
      ]
    },
    {
      "cell_type": "code",
      "source": [
        "print(\"Dataset shape:\")\n",
        "print(\"Train:\", train.shape)\n",
        "print(\"Test:\", test.shape)\n"
      ],
      "metadata": {
        "colab": {
          "base_uri": "https://localhost:8080/"
        },
        "id": "ESuaECgw3K0V",
        "outputId": "0b4b9449-4872-423f-856b-75f07aad67a5"
      },
      "execution_count": 45,
      "outputs": [
        {
          "output_type": "stream",
          "name": "stdout",
          "text": [
            "Dataset shape:\n",
            "Train: (2106, 1)\n",
            "Test: (412, 1)\n"
          ]
        }
      ]
    },
    {
      "cell_type": "code",
      "source": [
        "train.head(10)"
      ],
      "metadata": {
        "colab": {
          "base_uri": "https://localhost:8080/",
          "height": 363
        },
        "id": "5AB6uuHCJK2R",
        "outputId": "62af4416-7309-43a9-cd41-dd8556cc9b8e"
      },
      "execution_count": 46,
      "outputs": [
        {
          "output_type": "execute_result",
          "data": {
            "text/plain": [
              "                                           label,twt\n",
              "0  anger,\"sok geura leungit atuh sia teh corona, ...\n",
              "1  anger,\"Nu katoel katuhu nu nyerina kenca, gobl...\n",
              "2  joy,Bingah pisan patepang sareng pangerasa. Si...\n",
              "3  fear,asa hariwang kieu.. lalakon hirup teh asa...\n",
              "4  anger,\"Orang mana sih anying, sampis pisan. Bu...\n",
              "5  sadness,nya prihatin siih tp kedah kitu at pak...\n",
              "6  joy,sae nya kang ai tos ningal kompak kitu teh...\n",
              "7  sadness,\"Cai soca ngeclak mun emut kana dosa, ...\n",
              "8  anger,\"Gokar! Punteun, buat yg masih pd nongkr...\n",
              "9  anger,\"kumah pernahnya naik angkot dari Cihamp..."
            ],
            "text/html": [
              "\n",
              "  <div id=\"df-6e4bb050-039e-4751-8a77-59c2c95548f6\">\n",
              "    <div class=\"colab-df-container\">\n",
              "      <div>\n",
              "<style scoped>\n",
              "    .dataframe tbody tr th:only-of-type {\n",
              "        vertical-align: middle;\n",
              "    }\n",
              "\n",
              "    .dataframe tbody tr th {\n",
              "        vertical-align: top;\n",
              "    }\n",
              "\n",
              "    .dataframe thead th {\n",
              "        text-align: right;\n",
              "    }\n",
              "</style>\n",
              "<table border=\"1\" class=\"dataframe\">\n",
              "  <thead>\n",
              "    <tr style=\"text-align: right;\">\n",
              "      <th></th>\n",
              "      <th>label,twt</th>\n",
              "    </tr>\n",
              "  </thead>\n",
              "  <tbody>\n",
              "    <tr>\n",
              "      <th>0</th>\n",
              "      <td>anger,\"sok geura leungit atuh sia teh corona, ...</td>\n",
              "    </tr>\n",
              "    <tr>\n",
              "      <th>1</th>\n",
              "      <td>anger,\"Nu katoel katuhu nu nyerina kenca, gobl...</td>\n",
              "    </tr>\n",
              "    <tr>\n",
              "      <th>2</th>\n",
              "      <td>joy,Bingah pisan patepang sareng pangerasa. Si...</td>\n",
              "    </tr>\n",
              "    <tr>\n",
              "      <th>3</th>\n",
              "      <td>fear,asa hariwang kieu.. lalakon hirup teh asa...</td>\n",
              "    </tr>\n",
              "    <tr>\n",
              "      <th>4</th>\n",
              "      <td>anger,\"Orang mana sih anying, sampis pisan. Bu...</td>\n",
              "    </tr>\n",
              "    <tr>\n",
              "      <th>5</th>\n",
              "      <td>sadness,nya prihatin siih tp kedah kitu at pak...</td>\n",
              "    </tr>\n",
              "    <tr>\n",
              "      <th>6</th>\n",
              "      <td>joy,sae nya kang ai tos ningal kompak kitu teh...</td>\n",
              "    </tr>\n",
              "    <tr>\n",
              "      <th>7</th>\n",
              "      <td>sadness,\"Cai soca ngeclak mun emut kana dosa, ...</td>\n",
              "    </tr>\n",
              "    <tr>\n",
              "      <th>8</th>\n",
              "      <td>anger,\"Gokar! Punteun, buat yg masih pd nongkr...</td>\n",
              "    </tr>\n",
              "    <tr>\n",
              "      <th>9</th>\n",
              "      <td>anger,\"kumah pernahnya naik angkot dari Cihamp...</td>\n",
              "    </tr>\n",
              "  </tbody>\n",
              "</table>\n",
              "</div>\n",
              "      <button class=\"colab-df-convert\" onclick=\"convertToInteractive('df-6e4bb050-039e-4751-8a77-59c2c95548f6')\"\n",
              "              title=\"Convert this dataframe to an interactive table.\"\n",
              "              style=\"display:none;\">\n",
              "        \n",
              "  <svg xmlns=\"http://www.w3.org/2000/svg\" height=\"24px\"viewBox=\"0 0 24 24\"\n",
              "       width=\"24px\">\n",
              "    <path d=\"M0 0h24v24H0V0z\" fill=\"none\"/>\n",
              "    <path d=\"M18.56 5.44l.94 2.06.94-2.06 2.06-.94-2.06-.94-.94-2.06-.94 2.06-2.06.94zm-11 1L8.5 8.5l.94-2.06 2.06-.94-2.06-.94L8.5 2.5l-.94 2.06-2.06.94zm10 10l.94 2.06.94-2.06 2.06-.94-2.06-.94-.94-2.06-.94 2.06-2.06.94z\"/><path d=\"M17.41 7.96l-1.37-1.37c-.4-.4-.92-.59-1.43-.59-.52 0-1.04.2-1.43.59L10.3 9.45l-7.72 7.72c-.78.78-.78 2.05 0 2.83L4 21.41c.39.39.9.59 1.41.59.51 0 1.02-.2 1.41-.59l7.78-7.78 2.81-2.81c.8-.78.8-2.07 0-2.86zM5.41 20L4 18.59l7.72-7.72 1.47 1.35L5.41 20z\"/>\n",
              "  </svg>\n",
              "      </button>\n",
              "      \n",
              "  <style>\n",
              "    .colab-df-container {\n",
              "      display:flex;\n",
              "      flex-wrap:wrap;\n",
              "      gap: 12px;\n",
              "    }\n",
              "\n",
              "    .colab-df-convert {\n",
              "      background-color: #E8F0FE;\n",
              "      border: none;\n",
              "      border-radius: 50%;\n",
              "      cursor: pointer;\n",
              "      display: none;\n",
              "      fill: #1967D2;\n",
              "      height: 32px;\n",
              "      padding: 0 0 0 0;\n",
              "      width: 32px;\n",
              "    }\n",
              "\n",
              "    .colab-df-convert:hover {\n",
              "      background-color: #E2EBFA;\n",
              "      box-shadow: 0px 1px 2px rgba(60, 64, 67, 0.3), 0px 1px 3px 1px rgba(60, 64, 67, 0.15);\n",
              "      fill: #174EA6;\n",
              "    }\n",
              "\n",
              "    [theme=dark] .colab-df-convert {\n",
              "      background-color: #3B4455;\n",
              "      fill: #D2E3FC;\n",
              "    }\n",
              "\n",
              "    [theme=dark] .colab-df-convert:hover {\n",
              "      background-color: #434B5C;\n",
              "      box-shadow: 0px 1px 3px 1px rgba(0, 0, 0, 0.15);\n",
              "      filter: drop-shadow(0px 1px 2px rgba(0, 0, 0, 0.3));\n",
              "      fill: #FFFFFF;\n",
              "    }\n",
              "  </style>\n",
              "\n",
              "      <script>\n",
              "        const buttonEl =\n",
              "          document.querySelector('#df-6e4bb050-039e-4751-8a77-59c2c95548f6 button.colab-df-convert');\n",
              "        buttonEl.style.display =\n",
              "          google.colab.kernel.accessAllowed ? 'block' : 'none';\n",
              "\n",
              "        async function convertToInteractive(key) {\n",
              "          const element = document.querySelector('#df-6e4bb050-039e-4751-8a77-59c2c95548f6');\n",
              "          const dataTable =\n",
              "            await google.colab.kernel.invokeFunction('convertToInteractive',\n",
              "                                                     [key], {});\n",
              "          if (!dataTable) return;\n",
              "\n",
              "          const docLinkHtml = 'Like what you see? Visit the ' +\n",
              "            '<a target=\"_blank\" href=https://colab.research.google.com/notebooks/data_table.ipynb>data table notebook</a>'\n",
              "            + ' to learn more about interactive tables.';\n",
              "          element.innerHTML = '';\n",
              "          dataTable['output_type'] = 'display_data';\n",
              "          await google.colab.output.renderOutput(dataTable, element);\n",
              "          const docLink = document.createElement('div');\n",
              "          docLink.innerHTML = docLinkHtml;\n",
              "          element.appendChild(docLink);\n",
              "        }\n",
              "      </script>\n",
              "    </div>\n",
              "  </div>\n",
              "  "
            ]
          },
          "metadata": {},
          "execution_count": 46
        }
      ]
    },
    {
      "cell_type": "code",
      "source": [
        "test.head(10)"
      ],
      "metadata": {
        "colab": {
          "base_uri": "https://localhost:8080/",
          "height": 363
        },
        "id": "kUijoDFW-If9",
        "outputId": "2a8f02bd-80a3-4c95-a4b3-2cd6dc150e2b"
      },
      "execution_count": 47,
      "outputs": [
        {
          "output_type": "execute_result",
          "data": {
            "text/plain": [
              "                                           label,twt\n",
              "0  fear,\"meuni asa rame nya crime dimamana... kem...\n",
              "1  joy,\"Merinding ningali mic check rrq. Pernah n...\n",
              "2  sadness,\"mentang2 mamah ges dulur sabelah, meu...\n",
              "3  fear,meni serem atuh pas buka grup keluarga is...\n",
              "4  sadness,\"Meni sedih udah mah ga boleh keluar, ...\n",
              "5  sadness,Meni sedih tapi pami ningal Kopo- Cigo...\n",
              "6            sadness,Meni sedih nempo pimpinan urang\n",
              "7  sadness,Meni sedih laguna bang Bry... Inget ja...\n",
              "8  sadness,\"Meni saredih nya, teu paruguh jadina ...\n",
              "9  sadness,\"Meni saredih nya, teu paruguh jadina ..."
            ],
            "text/html": [
              "\n",
              "  <div id=\"df-3fcfa33d-d5dd-4bf3-b1cb-b05e47be3b17\">\n",
              "    <div class=\"colab-df-container\">\n",
              "      <div>\n",
              "<style scoped>\n",
              "    .dataframe tbody tr th:only-of-type {\n",
              "        vertical-align: middle;\n",
              "    }\n",
              "\n",
              "    .dataframe tbody tr th {\n",
              "        vertical-align: top;\n",
              "    }\n",
              "\n",
              "    .dataframe thead th {\n",
              "        text-align: right;\n",
              "    }\n",
              "</style>\n",
              "<table border=\"1\" class=\"dataframe\">\n",
              "  <thead>\n",
              "    <tr style=\"text-align: right;\">\n",
              "      <th></th>\n",
              "      <th>label,twt</th>\n",
              "    </tr>\n",
              "  </thead>\n",
              "  <tbody>\n",
              "    <tr>\n",
              "      <th>0</th>\n",
              "      <td>fear,\"meuni asa rame nya crime dimamana... kem...</td>\n",
              "    </tr>\n",
              "    <tr>\n",
              "      <th>1</th>\n",
              "      <td>joy,\"Merinding ningali mic check rrq. Pernah n...</td>\n",
              "    </tr>\n",
              "    <tr>\n",
              "      <th>2</th>\n",
              "      <td>sadness,\"mentang2 mamah ges dulur sabelah, meu...</td>\n",
              "    </tr>\n",
              "    <tr>\n",
              "      <th>3</th>\n",
              "      <td>fear,meni serem atuh pas buka grup keluarga is...</td>\n",
              "    </tr>\n",
              "    <tr>\n",
              "      <th>4</th>\n",
              "      <td>sadness,\"Meni sedih udah mah ga boleh keluar, ...</td>\n",
              "    </tr>\n",
              "    <tr>\n",
              "      <th>5</th>\n",
              "      <td>sadness,Meni sedih tapi pami ningal Kopo- Cigo...</td>\n",
              "    </tr>\n",
              "    <tr>\n",
              "      <th>6</th>\n",
              "      <td>sadness,Meni sedih nempo pimpinan urang</td>\n",
              "    </tr>\n",
              "    <tr>\n",
              "      <th>7</th>\n",
              "      <td>sadness,Meni sedih laguna bang Bry... Inget ja...</td>\n",
              "    </tr>\n",
              "    <tr>\n",
              "      <th>8</th>\n",
              "      <td>sadness,\"Meni saredih nya, teu paruguh jadina ...</td>\n",
              "    </tr>\n",
              "    <tr>\n",
              "      <th>9</th>\n",
              "      <td>sadness,\"Meni saredih nya, teu paruguh jadina ...</td>\n",
              "    </tr>\n",
              "  </tbody>\n",
              "</table>\n",
              "</div>\n",
              "      <button class=\"colab-df-convert\" onclick=\"convertToInteractive('df-3fcfa33d-d5dd-4bf3-b1cb-b05e47be3b17')\"\n",
              "              title=\"Convert this dataframe to an interactive table.\"\n",
              "              style=\"display:none;\">\n",
              "        \n",
              "  <svg xmlns=\"http://www.w3.org/2000/svg\" height=\"24px\"viewBox=\"0 0 24 24\"\n",
              "       width=\"24px\">\n",
              "    <path d=\"M0 0h24v24H0V0z\" fill=\"none\"/>\n",
              "    <path d=\"M18.56 5.44l.94 2.06.94-2.06 2.06-.94-2.06-.94-.94-2.06-.94 2.06-2.06.94zm-11 1L8.5 8.5l.94-2.06 2.06-.94-2.06-.94L8.5 2.5l-.94 2.06-2.06.94zm10 10l.94 2.06.94-2.06 2.06-.94-2.06-.94-.94-2.06-.94 2.06-2.06.94z\"/><path d=\"M17.41 7.96l-1.37-1.37c-.4-.4-.92-.59-1.43-.59-.52 0-1.04.2-1.43.59L10.3 9.45l-7.72 7.72c-.78.78-.78 2.05 0 2.83L4 21.41c.39.39.9.59 1.41.59.51 0 1.02-.2 1.41-.59l7.78-7.78 2.81-2.81c.8-.78.8-2.07 0-2.86zM5.41 20L4 18.59l7.72-7.72 1.47 1.35L5.41 20z\"/>\n",
              "  </svg>\n",
              "      </button>\n",
              "      \n",
              "  <style>\n",
              "    .colab-df-container {\n",
              "      display:flex;\n",
              "      flex-wrap:wrap;\n",
              "      gap: 12px;\n",
              "    }\n",
              "\n",
              "    .colab-df-convert {\n",
              "      background-color: #E8F0FE;\n",
              "      border: none;\n",
              "      border-radius: 50%;\n",
              "      cursor: pointer;\n",
              "      display: none;\n",
              "      fill: #1967D2;\n",
              "      height: 32px;\n",
              "      padding: 0 0 0 0;\n",
              "      width: 32px;\n",
              "    }\n",
              "\n",
              "    .colab-df-convert:hover {\n",
              "      background-color: #E2EBFA;\n",
              "      box-shadow: 0px 1px 2px rgba(60, 64, 67, 0.3), 0px 1px 3px 1px rgba(60, 64, 67, 0.15);\n",
              "      fill: #174EA6;\n",
              "    }\n",
              "\n",
              "    [theme=dark] .colab-df-convert {\n",
              "      background-color: #3B4455;\n",
              "      fill: #D2E3FC;\n",
              "    }\n",
              "\n",
              "    [theme=dark] .colab-df-convert:hover {\n",
              "      background-color: #434B5C;\n",
              "      box-shadow: 0px 1px 3px 1px rgba(0, 0, 0, 0.15);\n",
              "      filter: drop-shadow(0px 1px 2px rgba(0, 0, 0, 0.3));\n",
              "      fill: #FFFFFF;\n",
              "    }\n",
              "  </style>\n",
              "\n",
              "      <script>\n",
              "        const buttonEl =\n",
              "          document.querySelector('#df-3fcfa33d-d5dd-4bf3-b1cb-b05e47be3b17 button.colab-df-convert');\n",
              "        buttonEl.style.display =\n",
              "          google.colab.kernel.accessAllowed ? 'block' : 'none';\n",
              "\n",
              "        async function convertToInteractive(key) {\n",
              "          const element = document.querySelector('#df-3fcfa33d-d5dd-4bf3-b1cb-b05e47be3b17');\n",
              "          const dataTable =\n",
              "            await google.colab.kernel.invokeFunction('convertToInteractive',\n",
              "                                                     [key], {});\n",
              "          if (!dataTable) return;\n",
              "\n",
              "          const docLinkHtml = 'Like what you see? Visit the ' +\n",
              "            '<a target=\"_blank\" href=https://colab.research.google.com/notebooks/data_table.ipynb>data table notebook</a>'\n",
              "            + ' to learn more about interactive tables.';\n",
              "          element.innerHTML = '';\n",
              "          dataTable['output_type'] = 'display_data';\n",
              "          await google.colab.output.renderOutput(dataTable, element);\n",
              "          const docLink = document.createElement('div');\n",
              "          docLink.innerHTML = docLinkHtml;\n",
              "          element.appendChild(docLink);\n",
              "        }\n",
              "      </script>\n",
              "    </div>\n",
              "  </div>\n",
              "  "
            ]
          },
          "metadata": {},
          "execution_count": 47
        }
      ]
    },
    {
      "cell_type": "code",
      "source": [
        "# Split the combined column into separate columns\n",
        "train[['label', 'twt']] = train['label,twt'].str.split(',', 1, expand=True)\n",
        "test[['label', 'twt']] = test['label,twt'].str.split(',', 1, expand=True)\n",
        "\n",
        "# Remove the combined column\n",
        "train.drop('label,twt', axis=1, inplace=True)\n",
        "test.drop('label,twt', axis=1, inplace=True)"
      ],
      "metadata": {
        "colab": {
          "base_uri": "https://localhost:8080/"
        },
        "id": "xLFzA1o-JNsA",
        "outputId": "248f32d7-760d-4689-fe07-50ce62c20af1"
      },
      "execution_count": 48,
      "outputs": [
        {
          "output_type": "stream",
          "name": "stderr",
          "text": [
            "<ipython-input-48-63954661ec8a>:2: FutureWarning: In a future version of pandas all arguments of StringMethods.split except for the argument 'pat' will be keyword-only.\n",
            "  train[['label', 'twt']] = train['label,twt'].str.split(',', 1, expand=True)\n",
            "<ipython-input-48-63954661ec8a>:3: FutureWarning: In a future version of pandas all arguments of StringMethods.split except for the argument 'pat' will be keyword-only.\n",
            "  test[['label', 'twt']] = test['label,twt'].str.split(',', 1, expand=True)\n"
          ]
        }
      ]
    },
    {
      "cell_type": "code",
      "source": [
        "train.head()"
      ],
      "metadata": {
        "colab": {
          "base_uri": "https://localhost:8080/",
          "height": 206
        },
        "id": "gM7Mj11RJQ_X",
        "outputId": "e1f47953-8cea-4694-f34f-ff87992123a8"
      },
      "execution_count": 49,
      "outputs": [
        {
          "output_type": "execute_result",
          "data": {
            "text/plain": [
              "   label                                                twt\n",
              "0  anger  \"sok geura leungit atuh sia teh corona, matak ...\n",
              "1  anger  \"Nu katoel katuhu nu nyerina kenca, goblog was...\n",
              "2    joy  Bingah pisan patepang sareng pangerasa. Sing k...\n",
              "3   fear  asa hariwang kieu.. lalakon hirup teh asa nyor...\n",
              "4  anger  \"Orang mana sih anying, sampis pisan. Bunuh ae..."
            ],
            "text/html": [
              "\n",
              "  <div id=\"df-1f932d39-bb47-41f6-ab2a-ff32e6d798ed\">\n",
              "    <div class=\"colab-df-container\">\n",
              "      <div>\n",
              "<style scoped>\n",
              "    .dataframe tbody tr th:only-of-type {\n",
              "        vertical-align: middle;\n",
              "    }\n",
              "\n",
              "    .dataframe tbody tr th {\n",
              "        vertical-align: top;\n",
              "    }\n",
              "\n",
              "    .dataframe thead th {\n",
              "        text-align: right;\n",
              "    }\n",
              "</style>\n",
              "<table border=\"1\" class=\"dataframe\">\n",
              "  <thead>\n",
              "    <tr style=\"text-align: right;\">\n",
              "      <th></th>\n",
              "      <th>label</th>\n",
              "      <th>twt</th>\n",
              "    </tr>\n",
              "  </thead>\n",
              "  <tbody>\n",
              "    <tr>\n",
              "      <th>0</th>\n",
              "      <td>anger</td>\n",
              "      <td>\"sok geura leungit atuh sia teh corona, matak ...</td>\n",
              "    </tr>\n",
              "    <tr>\n",
              "      <th>1</th>\n",
              "      <td>anger</td>\n",
              "      <td>\"Nu katoel katuhu nu nyerina kenca, goblog was...</td>\n",
              "    </tr>\n",
              "    <tr>\n",
              "      <th>2</th>\n",
              "      <td>joy</td>\n",
              "      <td>Bingah pisan patepang sareng pangerasa. Sing k...</td>\n",
              "    </tr>\n",
              "    <tr>\n",
              "      <th>3</th>\n",
              "      <td>fear</td>\n",
              "      <td>asa hariwang kieu.. lalakon hirup teh asa nyor...</td>\n",
              "    </tr>\n",
              "    <tr>\n",
              "      <th>4</th>\n",
              "      <td>anger</td>\n",
              "      <td>\"Orang mana sih anying, sampis pisan. Bunuh ae...</td>\n",
              "    </tr>\n",
              "  </tbody>\n",
              "</table>\n",
              "</div>\n",
              "      <button class=\"colab-df-convert\" onclick=\"convertToInteractive('df-1f932d39-bb47-41f6-ab2a-ff32e6d798ed')\"\n",
              "              title=\"Convert this dataframe to an interactive table.\"\n",
              "              style=\"display:none;\">\n",
              "        \n",
              "  <svg xmlns=\"http://www.w3.org/2000/svg\" height=\"24px\"viewBox=\"0 0 24 24\"\n",
              "       width=\"24px\">\n",
              "    <path d=\"M0 0h24v24H0V0z\" fill=\"none\"/>\n",
              "    <path d=\"M18.56 5.44l.94 2.06.94-2.06 2.06-.94-2.06-.94-.94-2.06-.94 2.06-2.06.94zm-11 1L8.5 8.5l.94-2.06 2.06-.94-2.06-.94L8.5 2.5l-.94 2.06-2.06.94zm10 10l.94 2.06.94-2.06 2.06-.94-2.06-.94-.94-2.06-.94 2.06-2.06.94z\"/><path d=\"M17.41 7.96l-1.37-1.37c-.4-.4-.92-.59-1.43-.59-.52 0-1.04.2-1.43.59L10.3 9.45l-7.72 7.72c-.78.78-.78 2.05 0 2.83L4 21.41c.39.39.9.59 1.41.59.51 0 1.02-.2 1.41-.59l7.78-7.78 2.81-2.81c.8-.78.8-2.07 0-2.86zM5.41 20L4 18.59l7.72-7.72 1.47 1.35L5.41 20z\"/>\n",
              "  </svg>\n",
              "      </button>\n",
              "      \n",
              "  <style>\n",
              "    .colab-df-container {\n",
              "      display:flex;\n",
              "      flex-wrap:wrap;\n",
              "      gap: 12px;\n",
              "    }\n",
              "\n",
              "    .colab-df-convert {\n",
              "      background-color: #E8F0FE;\n",
              "      border: none;\n",
              "      border-radius: 50%;\n",
              "      cursor: pointer;\n",
              "      display: none;\n",
              "      fill: #1967D2;\n",
              "      height: 32px;\n",
              "      padding: 0 0 0 0;\n",
              "      width: 32px;\n",
              "    }\n",
              "\n",
              "    .colab-df-convert:hover {\n",
              "      background-color: #E2EBFA;\n",
              "      box-shadow: 0px 1px 2px rgba(60, 64, 67, 0.3), 0px 1px 3px 1px rgba(60, 64, 67, 0.15);\n",
              "      fill: #174EA6;\n",
              "    }\n",
              "\n",
              "    [theme=dark] .colab-df-convert {\n",
              "      background-color: #3B4455;\n",
              "      fill: #D2E3FC;\n",
              "    }\n",
              "\n",
              "    [theme=dark] .colab-df-convert:hover {\n",
              "      background-color: #434B5C;\n",
              "      box-shadow: 0px 1px 3px 1px rgba(0, 0, 0, 0.15);\n",
              "      filter: drop-shadow(0px 1px 2px rgba(0, 0, 0, 0.3));\n",
              "      fill: #FFFFFF;\n",
              "    }\n",
              "  </style>\n",
              "\n",
              "      <script>\n",
              "        const buttonEl =\n",
              "          document.querySelector('#df-1f932d39-bb47-41f6-ab2a-ff32e6d798ed button.colab-df-convert');\n",
              "        buttonEl.style.display =\n",
              "          google.colab.kernel.accessAllowed ? 'block' : 'none';\n",
              "\n",
              "        async function convertToInteractive(key) {\n",
              "          const element = document.querySelector('#df-1f932d39-bb47-41f6-ab2a-ff32e6d798ed');\n",
              "          const dataTable =\n",
              "            await google.colab.kernel.invokeFunction('convertToInteractive',\n",
              "                                                     [key], {});\n",
              "          if (!dataTable) return;\n",
              "\n",
              "          const docLinkHtml = 'Like what you see? Visit the ' +\n",
              "            '<a target=\"_blank\" href=https://colab.research.google.com/notebooks/data_table.ipynb>data table notebook</a>'\n",
              "            + ' to learn more about interactive tables.';\n",
              "          element.innerHTML = '';\n",
              "          dataTable['output_type'] = 'display_data';\n",
              "          await google.colab.output.renderOutput(dataTable, element);\n",
              "          const docLink = document.createElement('div');\n",
              "          docLink.innerHTML = docLinkHtml;\n",
              "          element.appendChild(docLink);\n",
              "        }\n",
              "      </script>\n",
              "    </div>\n",
              "  </div>\n",
              "  "
            ]
          },
          "metadata": {},
          "execution_count": 49
        }
      ]
    },
    {
      "cell_type": "code",
      "source": [
        "test.head()"
      ],
      "metadata": {
        "colab": {
          "base_uri": "https://localhost:8080/",
          "height": 206
        },
        "id": "pCS32t0W-uCk",
        "outputId": "0d9c2084-c7f1-40f9-bb47-a3925a8e471c"
      },
      "execution_count": 50,
      "outputs": [
        {
          "output_type": "execute_result",
          "data": {
            "text/plain": [
              "     label                                                twt\n",
              "0     fear  \"meuni asa rame nya crime dimamana... kemarin ...\n",
              "1      joy  \"Merinding ningali mic check rrq. Pernah ngasa...\n",
              "2  sadness  \"mentang2 mamah ges dulur sabelah, meuni te di...\n",
              "3     fear  meni serem atuh pas buka grup keluarga isinya ...\n",
              "4  sadness  \"Meni sedih udah mah ga boleh keluar, di dalem..."
            ],
            "text/html": [
              "\n",
              "  <div id=\"df-f9edb105-0675-42f7-81cc-35227d6459e8\">\n",
              "    <div class=\"colab-df-container\">\n",
              "      <div>\n",
              "<style scoped>\n",
              "    .dataframe tbody tr th:only-of-type {\n",
              "        vertical-align: middle;\n",
              "    }\n",
              "\n",
              "    .dataframe tbody tr th {\n",
              "        vertical-align: top;\n",
              "    }\n",
              "\n",
              "    .dataframe thead th {\n",
              "        text-align: right;\n",
              "    }\n",
              "</style>\n",
              "<table border=\"1\" class=\"dataframe\">\n",
              "  <thead>\n",
              "    <tr style=\"text-align: right;\">\n",
              "      <th></th>\n",
              "      <th>label</th>\n",
              "      <th>twt</th>\n",
              "    </tr>\n",
              "  </thead>\n",
              "  <tbody>\n",
              "    <tr>\n",
              "      <th>0</th>\n",
              "      <td>fear</td>\n",
              "      <td>\"meuni asa rame nya crime dimamana... kemarin ...</td>\n",
              "    </tr>\n",
              "    <tr>\n",
              "      <th>1</th>\n",
              "      <td>joy</td>\n",
              "      <td>\"Merinding ningali mic check rrq. Pernah ngasa...</td>\n",
              "    </tr>\n",
              "    <tr>\n",
              "      <th>2</th>\n",
              "      <td>sadness</td>\n",
              "      <td>\"mentang2 mamah ges dulur sabelah, meuni te di...</td>\n",
              "    </tr>\n",
              "    <tr>\n",
              "      <th>3</th>\n",
              "      <td>fear</td>\n",
              "      <td>meni serem atuh pas buka grup keluarga isinya ...</td>\n",
              "    </tr>\n",
              "    <tr>\n",
              "      <th>4</th>\n",
              "      <td>sadness</td>\n",
              "      <td>\"Meni sedih udah mah ga boleh keluar, di dalem...</td>\n",
              "    </tr>\n",
              "  </tbody>\n",
              "</table>\n",
              "</div>\n",
              "      <button class=\"colab-df-convert\" onclick=\"convertToInteractive('df-f9edb105-0675-42f7-81cc-35227d6459e8')\"\n",
              "              title=\"Convert this dataframe to an interactive table.\"\n",
              "              style=\"display:none;\">\n",
              "        \n",
              "  <svg xmlns=\"http://www.w3.org/2000/svg\" height=\"24px\"viewBox=\"0 0 24 24\"\n",
              "       width=\"24px\">\n",
              "    <path d=\"M0 0h24v24H0V0z\" fill=\"none\"/>\n",
              "    <path d=\"M18.56 5.44l.94 2.06.94-2.06 2.06-.94-2.06-.94-.94-2.06-.94 2.06-2.06.94zm-11 1L8.5 8.5l.94-2.06 2.06-.94-2.06-.94L8.5 2.5l-.94 2.06-2.06.94zm10 10l.94 2.06.94-2.06 2.06-.94-2.06-.94-.94-2.06-.94 2.06-2.06.94z\"/><path d=\"M17.41 7.96l-1.37-1.37c-.4-.4-.92-.59-1.43-.59-.52 0-1.04.2-1.43.59L10.3 9.45l-7.72 7.72c-.78.78-.78 2.05 0 2.83L4 21.41c.39.39.9.59 1.41.59.51 0 1.02-.2 1.41-.59l7.78-7.78 2.81-2.81c.8-.78.8-2.07 0-2.86zM5.41 20L4 18.59l7.72-7.72 1.47 1.35L5.41 20z\"/>\n",
              "  </svg>\n",
              "      </button>\n",
              "      \n",
              "  <style>\n",
              "    .colab-df-container {\n",
              "      display:flex;\n",
              "      flex-wrap:wrap;\n",
              "      gap: 12px;\n",
              "    }\n",
              "\n",
              "    .colab-df-convert {\n",
              "      background-color: #E8F0FE;\n",
              "      border: none;\n",
              "      border-radius: 50%;\n",
              "      cursor: pointer;\n",
              "      display: none;\n",
              "      fill: #1967D2;\n",
              "      height: 32px;\n",
              "      padding: 0 0 0 0;\n",
              "      width: 32px;\n",
              "    }\n",
              "\n",
              "    .colab-df-convert:hover {\n",
              "      background-color: #E2EBFA;\n",
              "      box-shadow: 0px 1px 2px rgba(60, 64, 67, 0.3), 0px 1px 3px 1px rgba(60, 64, 67, 0.15);\n",
              "      fill: #174EA6;\n",
              "    }\n",
              "\n",
              "    [theme=dark] .colab-df-convert {\n",
              "      background-color: #3B4455;\n",
              "      fill: #D2E3FC;\n",
              "    }\n",
              "\n",
              "    [theme=dark] .colab-df-convert:hover {\n",
              "      background-color: #434B5C;\n",
              "      box-shadow: 0px 1px 3px 1px rgba(0, 0, 0, 0.15);\n",
              "      filter: drop-shadow(0px 1px 2px rgba(0, 0, 0, 0.3));\n",
              "      fill: #FFFFFF;\n",
              "    }\n",
              "  </style>\n",
              "\n",
              "      <script>\n",
              "        const buttonEl =\n",
              "          document.querySelector('#df-f9edb105-0675-42f7-81cc-35227d6459e8 button.colab-df-convert');\n",
              "        buttonEl.style.display =\n",
              "          google.colab.kernel.accessAllowed ? 'block' : 'none';\n",
              "\n",
              "        async function convertToInteractive(key) {\n",
              "          const element = document.querySelector('#df-f9edb105-0675-42f7-81cc-35227d6459e8');\n",
              "          const dataTable =\n",
              "            await google.colab.kernel.invokeFunction('convertToInteractive',\n",
              "                                                     [key], {});\n",
              "          if (!dataTable) return;\n",
              "\n",
              "          const docLinkHtml = 'Like what you see? Visit the ' +\n",
              "            '<a target=\"_blank\" href=https://colab.research.google.com/notebooks/data_table.ipynb>data table notebook</a>'\n",
              "            + ' to learn more about interactive tables.';\n",
              "          element.innerHTML = '';\n",
              "          dataTable['output_type'] = 'display_data';\n",
              "          await google.colab.output.renderOutput(dataTable, element);\n",
              "          const docLink = document.createElement('div');\n",
              "          docLink.innerHTML = docLinkHtml;\n",
              "          element.appendChild(docLink);\n",
              "        }\n",
              "      </script>\n",
              "    </div>\n",
              "  </div>\n",
              "  "
            ]
          },
          "metadata": {},
          "execution_count": 50
        }
      ]
    },
    {
      "cell_type": "code",
      "source": [
        "train.info()"
      ],
      "metadata": {
        "colab": {
          "base_uri": "https://localhost:8080/"
        },
        "id": "5OSZKLYm49Bj",
        "outputId": "6a1d5fd0-22bf-4da7-9073-91c524402826"
      },
      "execution_count": 51,
      "outputs": [
        {
          "output_type": "stream",
          "name": "stdout",
          "text": [
            "<class 'pandas.core.frame.DataFrame'>\n",
            "RangeIndex: 2106 entries, 0 to 2105\n",
            "Data columns (total 2 columns):\n",
            " #   Column  Non-Null Count  Dtype \n",
            "---  ------  --------------  ----- \n",
            " 0   label   2106 non-null   object\n",
            " 1   twt     2106 non-null   object\n",
            "dtypes: object(2)\n",
            "memory usage: 33.0+ KB\n"
          ]
        }
      ]
    },
    {
      "cell_type": "code",
      "source": [
        "test.info()"
      ],
      "metadata": {
        "colab": {
          "base_uri": "https://localhost:8080/"
        },
        "id": "-UMzGsds_LZU",
        "outputId": "4bedc0db-9b08-402f-97f0-e070c0d8e027"
      },
      "execution_count": 52,
      "outputs": [
        {
          "output_type": "stream",
          "name": "stdout",
          "text": [
            "<class 'pandas.core.frame.DataFrame'>\n",
            "RangeIndex: 412 entries, 0 to 411\n",
            "Data columns (total 2 columns):\n",
            " #   Column  Non-Null Count  Dtype \n",
            "---  ------  --------------  ----- \n",
            " 0   label   412 non-null    object\n",
            " 1   twt     412 non-null    object\n",
            "dtypes: object(2)\n",
            "memory usage: 6.6+ KB\n"
          ]
        }
      ]
    },
    {
      "cell_type": "code",
      "source": [
        "train.isnull().sum()"
      ],
      "metadata": {
        "colab": {
          "base_uri": "https://localhost:8080/"
        },
        "id": "IkvVC_V44-XK",
        "outputId": "01e6631b-14d4-41a7-b9f4-90e84fba1a65"
      },
      "execution_count": 53,
      "outputs": [
        {
          "output_type": "execute_result",
          "data": {
            "text/plain": [
              "label    0\n",
              "twt      0\n",
              "dtype: int64"
            ]
          },
          "metadata": {},
          "execution_count": 53
        }
      ]
    },
    {
      "cell_type": "code",
      "source": [
        "test.isnull().sum()"
      ],
      "metadata": {
        "colab": {
          "base_uri": "https://localhost:8080/"
        },
        "id": "dkB0iW7S_IHc",
        "outputId": "00244f7b-a381-4fb5-a6ea-e93a20bbf18b"
      },
      "execution_count": 54,
      "outputs": [
        {
          "output_type": "execute_result",
          "data": {
            "text/plain": [
              "label    0\n",
              "twt      0\n",
              "dtype: int64"
            ]
          },
          "metadata": {},
          "execution_count": 54
        }
      ]
    },
    {
      "cell_type": "code",
      "source": [
        "# Convert labels to categorical format\n",
        "label_encoder = LabelEncoder()\n",
        "train_labels = label_encoder.fit_transform(train['label'])\n",
        "test_labels = label_encoder.fit_transform(test['label'])\n",
        "train_labels = to_categorical(train_labels)\n",
        "test_labels = to_categorical(test_labels)\n"
      ],
      "metadata": {
        "id": "HKgBAm-3_P6T"
      },
      "execution_count": 55,
      "outputs": []
    },
    {
      "cell_type": "code",
      "source": [
        "# Compile regular expressions\n",
        "preprocess_regex = re.compile(r'http\\S+|www\\S+|https\\S+|@[^\\s]+|[^a-zA-Z\\s]')\n",
        "\n",
        "stopsunda = open('stopwordv1.txt', 'r').read().split()\n",
        "tokenizer = Tokenizer()\n",
        "\n",
        "# Create a stemmer instance\n",
        "stemmer = StemmerFactory().create_stemmer()\n",
        "\n",
        "# Preprocess and stem the text\n",
        "def preprocess_text(text):\n",
        "    # Convert to lowercase\n",
        "    text = text.lower()\n",
        "\n",
        "    # Remove URLs, mentions, special characters, and extra whitespaces\n",
        "    text = preprocess_regex.sub(' ', text).strip()\n",
        "\n",
        "    # Remove stopwords and stem the text\n",
        "    tokens = text.split()\n",
        "    tokens = [stemmer.stem(token) for token in tokens if token not in stopsunda]\n",
        "\n",
        "    return ' '.join(tokens)\n"
      ],
      "metadata": {
        "id": "Nxf6ED1ml3J-"
      },
      "execution_count": 56,
      "outputs": []
    },
    {
      "cell_type": "code",
      "source": [
        "train['twt'] = train['twt'].apply(preprocess_text)\n",
        "test['twt'] = test['twt'].apply(preprocess_text)"
      ],
      "metadata": {
        "id": "eDujj7W-l7T0"
      },
      "execution_count": 57,
      "outputs": []
    },
    {
      "cell_type": "code",
      "source": [
        "# Create a tokenizer and fit on the preprocessed text\n",
        "tokenizer = Tokenizer()\n",
        "tokenizer.fit_on_texts(train['twt'])\n",
        "tokenizer.fit_on_texts(test['twt'])\n",
        "\n",
        "# Convert the preprocessed text to sequences\n",
        "sequences_train = tokenizer.texts_to_sequences(train['twt'])\n",
        "sequences_test = tokenizer.texts_to_sequences(test['twt'])\n"
      ],
      "metadata": {
        "id": "F41KN-te_W2V"
      },
      "execution_count": 58,
      "outputs": []
    },
    {
      "cell_type": "code",
      "source": [
        "# Pad sequences to have the same length\n",
        "max_sequence_length = 200\n",
        "padded_sequences_train = pad_sequences(sequences_train, maxlen=max_sequence_length)\n",
        "padded_sequences_test = pad_sequences(sequences_test, maxlen=max_sequence_length)\n"
      ],
      "metadata": {
        "id": "k7AaCtS7_cPE"
      },
      "execution_count": 59,
      "outputs": []
    },
    {
      "cell_type": "code",
      "source": [
        "# Convert the preprocessed text to TF-IDF features\n",
        "tfidf_vectorizer = TfidfVectorizer()\n",
        "features_train = tfidf_vectorizer.fit_transform(train['twt'])\n",
        "features_test = tfidf_vectorizer.transform(test['twt'])"
      ],
      "metadata": {
        "id": "uT3dd7NsPm5o"
      },
      "execution_count": 60,
      "outputs": []
    },
    {
      "cell_type": "code",
      "source": [
        "X_train = features_train\n",
        "y_train = train_labels\n",
        "\n",
        "X_test = features_test\n",
        "y_test = test_labels\n",
        "\n",
        "X_train.sort_indices()\n",
        "X_test.sort_indices()"
      ],
      "metadata": {
        "id": "bGMl3bNz_fDs"
      },
      "execution_count": 61,
      "outputs": []
    },
    {
      "cell_type": "code",
      "source": [
        "print(\"Training X Shape:\",X_train.shape)\n",
        "print(\"Testing X Shape:\",X_test.shape)"
      ],
      "metadata": {
        "id": "kV_mk93OCgDx",
        "colab": {
          "base_uri": "https://localhost:8080/"
        },
        "outputId": "e55d6d49-265f-4596-a686-e7991a58b301"
      },
      "execution_count": 62,
      "outputs": [
        {
          "output_type": "stream",
          "name": "stdout",
          "text": [
            "Training X Shape: (2106, 6501)\n",
            "Testing X Shape: (412, 6501)\n"
          ]
        }
      ]
    },
    {
      "cell_type": "markdown",
      "source": [
        "##ANN"
      ],
      "metadata": {
        "id": "lJHQw_vH0mx5"
      }
    },
    {
      "cell_type": "code",
      "source": [
        "ann = Sequential()\n",
        "ann.add(Dense(64, activation='relu'))\n",
        "# Adding dropout to prevent overfitting\n",
        "ann.add(Dropout(0.5))\n",
        "ann.add(Dense(32, activation='relu'))\n",
        "\n",
        "ann.add(Dense(len(label_encoder.classes_), activation='sigmoid'))\n",
        "\n",
        "ann.compile(optimizer='adam', loss='binary_crossentropy', metrics=['accuracy'])"
      ],
      "metadata": {
        "id": "Cq_yn2PM_y1N"
      },
      "execution_count": 63,
      "outputs": []
    },
    {
      "cell_type": "code",
      "source": [
        "ann.fit(X_train, y_train, epochs=150,validation_data=(X_test,y_test))"
      ],
      "metadata": {
        "id": "SbLyJj4z_8Qu",
        "colab": {
          "base_uri": "https://localhost:8080/"
        },
        "outputId": "61ba1f32-07a2-4b8e-9638-68222698c2ca"
      },
      "execution_count": 64,
      "outputs": [
        {
          "output_type": "stream",
          "name": "stdout",
          "text": [
            "Epoch 1/150\n",
            "66/66 [==============================] - 2s 15ms/step - loss: 0.6269 - accuracy: 0.2583 - val_loss: 0.5446 - val_accuracy: 0.3762\n",
            "Epoch 2/150\n",
            "66/66 [==============================] - 1s 12ms/step - loss: 0.5078 - accuracy: 0.6728 - val_loss: 0.4392 - val_accuracy: 0.8859\n",
            "Epoch 3/150\n",
            "66/66 [==============================] - 1s 17ms/step - loss: 0.3552 - accuracy: 0.9008 - val_loss: 0.2857 - val_accuracy: 0.9126\n",
            "Epoch 4/150\n",
            "66/66 [==============================] - 1s 18ms/step - loss: 0.1922 - accuracy: 0.9729 - val_loss: 0.1799 - val_accuracy: 0.9175\n",
            "Epoch 5/150\n",
            "66/66 [==============================] - 1s 18ms/step - loss: 0.0935 - accuracy: 0.9867 - val_loss: 0.1338 - val_accuracy: 0.9272\n",
            "Epoch 6/150\n",
            "66/66 [==============================] - 1s 13ms/step - loss: 0.0507 - accuracy: 0.9919 - val_loss: 0.1189 - val_accuracy: 0.9296\n",
            "Epoch 7/150\n",
            "66/66 [==============================] - 1s 13ms/step - loss: 0.0320 - accuracy: 0.9967 - val_loss: 0.1115 - val_accuracy: 0.9272\n",
            "Epoch 8/150\n",
            "66/66 [==============================] - 1s 12ms/step - loss: 0.0202 - accuracy: 0.9991 - val_loss: 0.1070 - val_accuracy: 0.9272\n",
            "Epoch 9/150\n",
            "66/66 [==============================] - 1s 14ms/step - loss: 0.0149 - accuracy: 0.9991 - val_loss: 0.1045 - val_accuracy: 0.9296\n",
            "Epoch 10/150\n",
            "66/66 [==============================] - 1s 13ms/step - loss: 0.0116 - accuracy: 1.0000 - val_loss: 0.1058 - val_accuracy: 0.9320\n",
            "Epoch 11/150\n",
            "66/66 [==============================] - 1s 13ms/step - loss: 0.0096 - accuracy: 0.9991 - val_loss: 0.1036 - val_accuracy: 0.9296\n",
            "Epoch 12/150\n",
            "66/66 [==============================] - 1s 12ms/step - loss: 0.0073 - accuracy: 0.9995 - val_loss: 0.1080 - val_accuracy: 0.9296\n",
            "Epoch 13/150\n",
            "66/66 [==============================] - 1s 14ms/step - loss: 0.0068 - accuracy: 0.9986 - val_loss: 0.1061 - val_accuracy: 0.9296\n",
            "Epoch 14/150\n",
            "66/66 [==============================] - 1s 13ms/step - loss: 0.0052 - accuracy: 1.0000 - val_loss: 0.1102 - val_accuracy: 0.9296\n",
            "Epoch 15/150\n",
            "66/66 [==============================] - 1s 13ms/step - loss: 0.0042 - accuracy: 1.0000 - val_loss: 0.1069 - val_accuracy: 0.9296\n",
            "Epoch 16/150\n",
            "66/66 [==============================] - 1s 16ms/step - loss: 0.0039 - accuracy: 0.9995 - val_loss: 0.1065 - val_accuracy: 0.9296\n",
            "Epoch 17/150\n",
            "66/66 [==============================] - 1s 16ms/step - loss: 0.0033 - accuracy: 1.0000 - val_loss: 0.1100 - val_accuracy: 0.9296\n",
            "Epoch 18/150\n",
            "66/66 [==============================] - 1s 20ms/step - loss: 0.0027 - accuracy: 1.0000 - val_loss: 0.1123 - val_accuracy: 0.9296\n",
            "Epoch 19/150\n",
            "66/66 [==============================] - 1s 17ms/step - loss: 0.0028 - accuracy: 1.0000 - val_loss: 0.1128 - val_accuracy: 0.9345\n",
            "Epoch 20/150\n",
            "66/66 [==============================] - 1s 19ms/step - loss: 0.0024 - accuracy: 1.0000 - val_loss: 0.1127 - val_accuracy: 0.9369\n",
            "Epoch 21/150\n",
            "66/66 [==============================] - 1s 12ms/step - loss: 0.0023 - accuracy: 1.0000 - val_loss: 0.1123 - val_accuracy: 0.9320\n",
            "Epoch 22/150\n",
            "66/66 [==============================] - 1s 12ms/step - loss: 0.0017 - accuracy: 1.0000 - val_loss: 0.1109 - val_accuracy: 0.9393\n",
            "Epoch 23/150\n",
            "66/66 [==============================] - 1s 13ms/step - loss: 0.0022 - accuracy: 0.9991 - val_loss: 0.1184 - val_accuracy: 0.9296\n",
            "Epoch 24/150\n",
            "66/66 [==============================] - 1s 15ms/step - loss: 0.0016 - accuracy: 1.0000 - val_loss: 0.1167 - val_accuracy: 0.9296\n",
            "Epoch 25/150\n",
            "66/66 [==============================] - 1s 13ms/step - loss: 0.0014 - accuracy: 1.0000 - val_loss: 0.1173 - val_accuracy: 0.9345\n",
            "Epoch 26/150\n",
            "66/66 [==============================] - 1s 13ms/step - loss: 0.0011 - accuracy: 1.0000 - val_loss: 0.1199 - val_accuracy: 0.9345\n",
            "Epoch 27/150\n",
            "66/66 [==============================] - 1s 12ms/step - loss: 0.0011 - accuracy: 1.0000 - val_loss: 0.1230 - val_accuracy: 0.9320\n",
            "Epoch 28/150\n",
            "66/66 [==============================] - 1s 13ms/step - loss: 8.5714e-04 - accuracy: 1.0000 - val_loss: 0.1248 - val_accuracy: 0.9320\n",
            "Epoch 29/150\n",
            "66/66 [==============================] - 1s 14ms/step - loss: 0.0011 - accuracy: 1.0000 - val_loss: 0.1227 - val_accuracy: 0.9320\n",
            "Epoch 30/150\n",
            "66/66 [==============================] - 1s 18ms/step - loss: 9.1639e-04 - accuracy: 1.0000 - val_loss: 0.1213 - val_accuracy: 0.9345\n",
            "Epoch 31/150\n",
            "66/66 [==============================] - 1s 20ms/step - loss: 8.9898e-04 - accuracy: 1.0000 - val_loss: 0.1208 - val_accuracy: 0.9369\n",
            "Epoch 32/150\n",
            "66/66 [==============================] - 1s 19ms/step - loss: 6.7818e-04 - accuracy: 1.0000 - val_loss: 0.1242 - val_accuracy: 0.9320\n",
            "Epoch 33/150\n",
            "66/66 [==============================] - 1s 18ms/step - loss: 8.8187e-04 - accuracy: 1.0000 - val_loss: 0.1268 - val_accuracy: 0.9320\n",
            "Epoch 34/150\n",
            "66/66 [==============================] - 1s 13ms/step - loss: 0.0011 - accuracy: 1.0000 - val_loss: 0.1217 - val_accuracy: 0.9345\n",
            "Epoch 35/150\n",
            "66/66 [==============================] - 1s 14ms/step - loss: 6.8813e-04 - accuracy: 1.0000 - val_loss: 0.1230 - val_accuracy: 0.9345\n",
            "Epoch 36/150\n",
            "66/66 [==============================] - 1s 13ms/step - loss: 7.5847e-04 - accuracy: 1.0000 - val_loss: 0.1257 - val_accuracy: 0.9296\n",
            "Epoch 37/150\n",
            "66/66 [==============================] - 1s 12ms/step - loss: 8.7071e-04 - accuracy: 1.0000 - val_loss: 0.1294 - val_accuracy: 0.9248\n",
            "Epoch 38/150\n",
            "66/66 [==============================] - 1s 13ms/step - loss: 9.2035e-04 - accuracy: 0.9995 - val_loss: 0.1261 - val_accuracy: 0.9345\n",
            "Epoch 39/150\n",
            "66/66 [==============================] - 1s 13ms/step - loss: 7.0815e-04 - accuracy: 1.0000 - val_loss: 0.1221 - val_accuracy: 0.9345\n",
            "Epoch 40/150\n",
            "66/66 [==============================] - 1s 13ms/step - loss: 6.8338e-04 - accuracy: 1.0000 - val_loss: 0.1206 - val_accuracy: 0.9369\n",
            "Epoch 41/150\n",
            "66/66 [==============================] - 1s 14ms/step - loss: 4.9541e-04 - accuracy: 1.0000 - val_loss: 0.1277 - val_accuracy: 0.9345\n",
            "Epoch 42/150\n",
            "66/66 [==============================] - 1s 11ms/step - loss: 5.1207e-04 - accuracy: 1.0000 - val_loss: 0.1267 - val_accuracy: 0.9369\n",
            "Epoch 43/150\n",
            "66/66 [==============================] - 1s 12ms/step - loss: 3.7860e-04 - accuracy: 1.0000 - val_loss: 0.1281 - val_accuracy: 0.9369\n",
            "Epoch 44/150\n",
            "66/66 [==============================] - 1s 12ms/step - loss: 4.6143e-04 - accuracy: 1.0000 - val_loss: 0.1308 - val_accuracy: 0.9369\n",
            "Epoch 45/150\n",
            "66/66 [==============================] - 1s 8ms/step - loss: 5.0626e-04 - accuracy: 1.0000 - val_loss: 0.1391 - val_accuracy: 0.9320\n",
            "Epoch 46/150\n",
            "66/66 [==============================] - 1s 7ms/step - loss: 4.5380e-04 - accuracy: 1.0000 - val_loss: 0.1374 - val_accuracy: 0.9296\n",
            "Epoch 47/150\n",
            "66/66 [==============================] - 0s 7ms/step - loss: 4.7325e-04 - accuracy: 1.0000 - val_loss: 0.1333 - val_accuracy: 0.9320\n",
            "Epoch 48/150\n",
            "66/66 [==============================] - 1s 8ms/step - loss: 3.5169e-04 - accuracy: 1.0000 - val_loss: 0.1277 - val_accuracy: 0.9369\n",
            "Epoch 49/150\n",
            "66/66 [==============================] - 0s 7ms/step - loss: 4.3821e-04 - accuracy: 1.0000 - val_loss: 0.1251 - val_accuracy: 0.9417\n",
            "Epoch 50/150\n",
            "66/66 [==============================] - 1s 8ms/step - loss: 5.1039e-04 - accuracy: 1.0000 - val_loss: 0.1290 - val_accuracy: 0.9417\n",
            "Epoch 51/150\n",
            "66/66 [==============================] - 1s 7ms/step - loss: 2.5755e-04 - accuracy: 1.0000 - val_loss: 0.1303 - val_accuracy: 0.9417\n",
            "Epoch 52/150\n",
            "66/66 [==============================] - 1s 8ms/step - loss: 3.2554e-04 - accuracy: 1.0000 - val_loss: 0.1313 - val_accuracy: 0.9417\n",
            "Epoch 53/150\n",
            "66/66 [==============================] - 1s 8ms/step - loss: 3.4735e-04 - accuracy: 1.0000 - val_loss: 0.1317 - val_accuracy: 0.9393\n",
            "Epoch 54/150\n",
            "66/66 [==============================] - 0s 7ms/step - loss: 2.5007e-04 - accuracy: 1.0000 - val_loss: 0.1351 - val_accuracy: 0.9393\n",
            "Epoch 55/150\n",
            "66/66 [==============================] - 0s 7ms/step - loss: 2.4127e-04 - accuracy: 1.0000 - val_loss: 0.1364 - val_accuracy: 0.9417\n",
            "Epoch 56/150\n",
            "66/66 [==============================] - 1s 8ms/step - loss: 4.3155e-04 - accuracy: 1.0000 - val_loss: 0.1342 - val_accuracy: 0.9417\n",
            "Epoch 57/150\n",
            "66/66 [==============================] - 1s 8ms/step - loss: 2.1808e-04 - accuracy: 1.0000 - val_loss: 0.1366 - val_accuracy: 0.9369\n",
            "Epoch 58/150\n",
            "66/66 [==============================] - 0s 7ms/step - loss: 3.9983e-04 - accuracy: 1.0000 - val_loss: 0.1386 - val_accuracy: 0.9393\n",
            "Epoch 59/150\n",
            "66/66 [==============================] - 1s 8ms/step - loss: 2.3371e-04 - accuracy: 1.0000 - val_loss: 0.1433 - val_accuracy: 0.9369\n",
            "Epoch 60/150\n",
            "66/66 [==============================] - 0s 7ms/step - loss: 2.0224e-04 - accuracy: 1.0000 - val_loss: 0.1456 - val_accuracy: 0.9320\n",
            "Epoch 61/150\n",
            "66/66 [==============================] - 1s 9ms/step - loss: 5.0017e-04 - accuracy: 0.9995 - val_loss: 0.1370 - val_accuracy: 0.9442\n",
            "Epoch 62/150\n",
            "66/66 [==============================] - 1s 11ms/step - loss: 2.6867e-04 - accuracy: 1.0000 - val_loss: 0.1387 - val_accuracy: 0.9442\n",
            "Epoch 63/150\n",
            "66/66 [==============================] - 1s 12ms/step - loss: 2.0242e-04 - accuracy: 1.0000 - val_loss: 0.1415 - val_accuracy: 0.9393\n",
            "Epoch 64/150\n",
            "66/66 [==============================] - 1s 12ms/step - loss: 3.7744e-04 - accuracy: 1.0000 - val_loss: 0.1399 - val_accuracy: 0.9417\n",
            "Epoch 65/150\n",
            "66/66 [==============================] - 1s 11ms/step - loss: 3.1939e-04 - accuracy: 1.0000 - val_loss: 0.1433 - val_accuracy: 0.9393\n",
            "Epoch 66/150\n",
            "66/66 [==============================] - 1s 10ms/step - loss: 1.4567e-04 - accuracy: 1.0000 - val_loss: 0.1421 - val_accuracy: 0.9417\n",
            "Epoch 67/150\n",
            "66/66 [==============================] - 1s 8ms/step - loss: 1.5870e-04 - accuracy: 1.0000 - val_loss: 0.1427 - val_accuracy: 0.9417\n",
            "Epoch 68/150\n",
            "66/66 [==============================] - 1s 8ms/step - loss: 1.6188e-04 - accuracy: 1.0000 - val_loss: 0.1455 - val_accuracy: 0.9417\n",
            "Epoch 69/150\n",
            "66/66 [==============================] - 1s 8ms/step - loss: 1.5345e-04 - accuracy: 1.0000 - val_loss: 0.1455 - val_accuracy: 0.9417\n",
            "Epoch 70/150\n",
            "66/66 [==============================] - 0s 7ms/step - loss: 1.2889e-04 - accuracy: 1.0000 - val_loss: 0.1495 - val_accuracy: 0.9393\n",
            "Epoch 71/150\n",
            "66/66 [==============================] - 1s 8ms/step - loss: 1.2857e-04 - accuracy: 1.0000 - val_loss: 0.1564 - val_accuracy: 0.9296\n",
            "Epoch 72/150\n",
            "66/66 [==============================] - 0s 7ms/step - loss: 2.4679e-04 - accuracy: 1.0000 - val_loss: 0.1519 - val_accuracy: 0.9369\n",
            "Epoch 73/150\n",
            "66/66 [==============================] - 0s 7ms/step - loss: 1.6255e-04 - accuracy: 1.0000 - val_loss: 0.1528 - val_accuracy: 0.9393\n",
            "Epoch 74/150\n",
            "66/66 [==============================] - 0s 7ms/step - loss: 1.7180e-04 - accuracy: 1.0000 - val_loss: 0.1558 - val_accuracy: 0.9320\n",
            "Epoch 75/150\n",
            "66/66 [==============================] - 0s 7ms/step - loss: 1.9802e-04 - accuracy: 1.0000 - val_loss: 0.1557 - val_accuracy: 0.9345\n",
            "Epoch 76/150\n",
            "66/66 [==============================] - 1s 7ms/step - loss: 8.8594e-05 - accuracy: 1.0000 - val_loss: 0.1560 - val_accuracy: 0.9369\n",
            "Epoch 77/150\n",
            "66/66 [==============================] - 0s 7ms/step - loss: 1.2649e-04 - accuracy: 1.0000 - val_loss: 0.1641 - val_accuracy: 0.9296\n",
            "Epoch 78/150\n",
            "66/66 [==============================] - 1s 8ms/step - loss: 1.7265e-04 - accuracy: 1.0000 - val_loss: 0.1681 - val_accuracy: 0.9296\n",
            "Epoch 79/150\n",
            "66/66 [==============================] - 0s 7ms/step - loss: 1.8153e-04 - accuracy: 1.0000 - val_loss: 0.1649 - val_accuracy: 0.9296\n",
            "Epoch 80/150\n",
            "66/66 [==============================] - 1s 8ms/step - loss: 9.6673e-05 - accuracy: 1.0000 - val_loss: 0.1584 - val_accuracy: 0.9320\n",
            "Epoch 81/150\n",
            "66/66 [==============================] - 1s 8ms/step - loss: 1.0384e-04 - accuracy: 1.0000 - val_loss: 0.1597 - val_accuracy: 0.9320\n",
            "Epoch 82/150\n",
            "66/66 [==============================] - 1s 7ms/step - loss: 1.0176e-04 - accuracy: 1.0000 - val_loss: 0.1554 - val_accuracy: 0.9369\n",
            "Epoch 83/150\n",
            "66/66 [==============================] - 1s 8ms/step - loss: 1.0916e-04 - accuracy: 1.0000 - val_loss: 0.1719 - val_accuracy: 0.9296\n",
            "Epoch 84/150\n",
            "66/66 [==============================] - 1s 9ms/step - loss: 5.8025e-05 - accuracy: 1.0000 - val_loss: 0.1681 - val_accuracy: 0.9320\n",
            "Epoch 85/150\n",
            "66/66 [==============================] - 1s 12ms/step - loss: 1.6737e-04 - accuracy: 1.0000 - val_loss: 0.1720 - val_accuracy: 0.9296\n",
            "Epoch 86/150\n",
            "66/66 [==============================] - 1s 11ms/step - loss: 8.0634e-05 - accuracy: 1.0000 - val_loss: 0.1703 - val_accuracy: 0.9320\n",
            "Epoch 87/150\n",
            "66/66 [==============================] - 1s 11ms/step - loss: 6.4278e-05 - accuracy: 1.0000 - val_loss: 0.1692 - val_accuracy: 0.9320\n",
            "Epoch 88/150\n",
            "66/66 [==============================] - 0s 7ms/step - loss: 1.0690e-04 - accuracy: 1.0000 - val_loss: 0.1695 - val_accuracy: 0.9320\n",
            "Epoch 89/150\n",
            "66/66 [==============================] - 0s 7ms/step - loss: 3.9213e-05 - accuracy: 1.0000 - val_loss: 0.1702 - val_accuracy: 0.9320\n",
            "Epoch 90/150\n",
            "66/66 [==============================] - 1s 8ms/step - loss: 8.1714e-05 - accuracy: 1.0000 - val_loss: 0.1669 - val_accuracy: 0.9345\n",
            "Epoch 91/150\n",
            "66/66 [==============================] - 1s 7ms/step - loss: 1.3588e-04 - accuracy: 1.0000 - val_loss: 0.1704 - val_accuracy: 0.9320\n",
            "Epoch 92/150\n",
            "66/66 [==============================] - 1s 8ms/step - loss: 7.7360e-05 - accuracy: 1.0000 - val_loss: 0.1691 - val_accuracy: 0.9345\n",
            "Epoch 93/150\n",
            "66/66 [==============================] - 1s 8ms/step - loss: 7.3484e-05 - accuracy: 1.0000 - val_loss: 0.1751 - val_accuracy: 0.9345\n",
            "Epoch 94/150\n",
            "66/66 [==============================] - 1s 8ms/step - loss: 6.3794e-05 - accuracy: 1.0000 - val_loss: 0.1769 - val_accuracy: 0.9320\n",
            "Epoch 95/150\n",
            "66/66 [==============================] - 1s 8ms/step - loss: 9.7858e-05 - accuracy: 1.0000 - val_loss: 0.1854 - val_accuracy: 0.9296\n",
            "Epoch 96/150\n",
            "66/66 [==============================] - 1s 8ms/step - loss: 7.8726e-05 - accuracy: 1.0000 - val_loss: 0.1757 - val_accuracy: 0.9345\n",
            "Epoch 97/150\n",
            "66/66 [==============================] - 1s 8ms/step - loss: 1.0262e-04 - accuracy: 1.0000 - val_loss: 0.1824 - val_accuracy: 0.9320\n",
            "Epoch 98/150\n",
            "66/66 [==============================] - 1s 8ms/step - loss: 6.0993e-05 - accuracy: 1.0000 - val_loss: 0.1755 - val_accuracy: 0.9345\n",
            "Epoch 99/150\n",
            "66/66 [==============================] - 1s 8ms/step - loss: 1.2873e-04 - accuracy: 1.0000 - val_loss: 0.1707 - val_accuracy: 0.9393\n",
            "Epoch 100/150\n",
            "66/66 [==============================] - 1s 7ms/step - loss: 5.7411e-05 - accuracy: 1.0000 - val_loss: 0.1719 - val_accuracy: 0.9320\n",
            "Epoch 101/150\n",
            "66/66 [==============================] - 0s 7ms/step - loss: 6.7058e-05 - accuracy: 1.0000 - val_loss: 0.1710 - val_accuracy: 0.9345\n",
            "Epoch 102/150\n",
            "66/66 [==============================] - 0s 7ms/step - loss: 5.2710e-05 - accuracy: 1.0000 - val_loss: 0.1732 - val_accuracy: 0.9320\n",
            "Epoch 103/150\n",
            "66/66 [==============================] - 0s 7ms/step - loss: 7.6803e-05 - accuracy: 1.0000 - val_loss: 0.1762 - val_accuracy: 0.9320\n",
            "Epoch 104/150\n",
            "66/66 [==============================] - 0s 7ms/step - loss: 7.5436e-05 - accuracy: 1.0000 - val_loss: 0.1761 - val_accuracy: 0.9345\n",
            "Epoch 105/150\n",
            "66/66 [==============================] - 1s 10ms/step - loss: 8.6126e-05 - accuracy: 1.0000 - val_loss: 0.1841 - val_accuracy: 0.9296\n",
            "Epoch 106/150\n",
            "66/66 [==============================] - 1s 12ms/step - loss: 4.1607e-04 - accuracy: 0.9995 - val_loss: 0.2092 - val_accuracy: 0.9223\n",
            "Epoch 107/150\n",
            "66/66 [==============================] - 1s 12ms/step - loss: 6.6281e-05 - accuracy: 1.0000 - val_loss: 0.1932 - val_accuracy: 0.9272\n",
            "Epoch 108/150\n",
            "66/66 [==============================] - 1s 11ms/step - loss: 3.7142e-05 - accuracy: 1.0000 - val_loss: 0.1875 - val_accuracy: 0.9272\n",
            "Epoch 109/150\n",
            "66/66 [==============================] - 0s 7ms/step - loss: 3.1877e-05 - accuracy: 1.0000 - val_loss: 0.1837 - val_accuracy: 0.9296\n",
            "Epoch 110/150\n",
            "66/66 [==============================] - 1s 8ms/step - loss: 5.0100e-05 - accuracy: 1.0000 - val_loss: 0.1865 - val_accuracy: 0.9296\n",
            "Epoch 111/150\n",
            "66/66 [==============================] - 1s 8ms/step - loss: 2.4049e-05 - accuracy: 1.0000 - val_loss: 0.1877 - val_accuracy: 0.9272\n",
            "Epoch 112/150\n",
            "66/66 [==============================] - 1s 8ms/step - loss: 9.0427e-05 - accuracy: 1.0000 - val_loss: 0.1686 - val_accuracy: 0.9320\n",
            "Epoch 113/150\n",
            "66/66 [==============================] - 1s 8ms/step - loss: 2.7211e-05 - accuracy: 1.0000 - val_loss: 0.1723 - val_accuracy: 0.9345\n",
            "Epoch 114/150\n",
            "66/66 [==============================] - 0s 7ms/step - loss: 7.2712e-05 - accuracy: 1.0000 - val_loss: 0.1697 - val_accuracy: 0.9369\n",
            "Epoch 115/150\n",
            "66/66 [==============================] - 1s 8ms/step - loss: 1.0257e-04 - accuracy: 1.0000 - val_loss: 0.1695 - val_accuracy: 0.9369\n",
            "Epoch 116/150\n",
            "66/66 [==============================] - 0s 7ms/step - loss: 5.1256e-05 - accuracy: 1.0000 - val_loss: 0.1801 - val_accuracy: 0.9320\n",
            "Epoch 117/150\n",
            "66/66 [==============================] - 0s 7ms/step - loss: 1.4005e-04 - accuracy: 1.0000 - val_loss: 0.1864 - val_accuracy: 0.9320\n",
            "Epoch 118/150\n",
            "66/66 [==============================] - 0s 7ms/step - loss: 2.6911e-05 - accuracy: 1.0000 - val_loss: 0.1885 - val_accuracy: 0.9320\n",
            "Epoch 119/150\n",
            "66/66 [==============================] - 0s 7ms/step - loss: 7.0329e-05 - accuracy: 1.0000 - val_loss: 0.1950 - val_accuracy: 0.9296\n",
            "Epoch 120/150\n",
            "66/66 [==============================] - 1s 8ms/step - loss: 2.3486e-05 - accuracy: 1.0000 - val_loss: 0.1926 - val_accuracy: 0.9296\n",
            "Epoch 121/150\n",
            "66/66 [==============================] - 1s 8ms/step - loss: 6.8542e-05 - accuracy: 1.0000 - val_loss: 0.1975 - val_accuracy: 0.9296\n",
            "Epoch 122/150\n",
            "66/66 [==============================] - 1s 8ms/step - loss: 1.5551e-04 - accuracy: 1.0000 - val_loss: 0.2049 - val_accuracy: 0.9272\n",
            "Epoch 123/150\n",
            "66/66 [==============================] - 1s 8ms/step - loss: 2.1946e-05 - accuracy: 1.0000 - val_loss: 0.2029 - val_accuracy: 0.9272\n",
            "Epoch 124/150\n",
            "66/66 [==============================] - 1s 8ms/step - loss: 7.0115e-05 - accuracy: 1.0000 - val_loss: 0.2023 - val_accuracy: 0.9272\n",
            "Epoch 125/150\n",
            "66/66 [==============================] - 1s 8ms/step - loss: 5.9707e-05 - accuracy: 1.0000 - val_loss: 0.2000 - val_accuracy: 0.9320\n",
            "Epoch 126/150\n",
            "66/66 [==============================] - 1s 12ms/step - loss: 3.8838e-05 - accuracy: 1.0000 - val_loss: 0.1911 - val_accuracy: 0.9345\n",
            "Epoch 127/150\n",
            "66/66 [==============================] - 1s 12ms/step - loss: 3.7572e-05 - accuracy: 1.0000 - val_loss: 0.1956 - val_accuracy: 0.9345\n",
            "Epoch 128/150\n",
            "66/66 [==============================] - 1s 11ms/step - loss: 6.0003e-05 - accuracy: 1.0000 - val_loss: 0.1929 - val_accuracy: 0.9345\n",
            "Epoch 129/150\n",
            "66/66 [==============================] - 1s 11ms/step - loss: 1.6629e-05 - accuracy: 1.0000 - val_loss: 0.1885 - val_accuracy: 0.9345\n",
            "Epoch 130/150\n",
            "66/66 [==============================] - 1s 8ms/step - loss: 3.7864e-05 - accuracy: 1.0000 - val_loss: 0.1869 - val_accuracy: 0.9320\n",
            "Epoch 131/150\n",
            "66/66 [==============================] - 1s 8ms/step - loss: 5.5098e-05 - accuracy: 1.0000 - val_loss: 0.1964 - val_accuracy: 0.9320\n",
            "Epoch 132/150\n",
            "66/66 [==============================] - 1s 8ms/step - loss: 3.2388e-05 - accuracy: 1.0000 - val_loss: 0.2059 - val_accuracy: 0.9320\n",
            "Epoch 133/150\n",
            "66/66 [==============================] - 1s 8ms/step - loss: 2.0220e-05 - accuracy: 1.0000 - val_loss: 0.1987 - val_accuracy: 0.9320\n",
            "Epoch 134/150\n",
            "66/66 [==============================] - 1s 8ms/step - loss: 2.1125e-05 - accuracy: 1.0000 - val_loss: 0.1938 - val_accuracy: 0.9320\n",
            "Epoch 135/150\n",
            "66/66 [==============================] - 1s 8ms/step - loss: 3.3415e-05 - accuracy: 1.0000 - val_loss: 0.1959 - val_accuracy: 0.9320\n",
            "Epoch 136/150\n",
            "66/66 [==============================] - 1s 8ms/step - loss: 1.6349e-05 - accuracy: 1.0000 - val_loss: 0.1928 - val_accuracy: 0.9320\n",
            "Epoch 137/150\n",
            "66/66 [==============================] - 1s 8ms/step - loss: 2.1779e-05 - accuracy: 1.0000 - val_loss: 0.1965 - val_accuracy: 0.9320\n",
            "Epoch 138/150\n",
            "66/66 [==============================] - 1s 8ms/step - loss: 1.2698e-05 - accuracy: 1.0000 - val_loss: 0.2006 - val_accuracy: 0.9320\n",
            "Epoch 139/150\n",
            "66/66 [==============================] - 0s 7ms/step - loss: 3.6761e-05 - accuracy: 1.0000 - val_loss: 0.2027 - val_accuracy: 0.9345\n",
            "Epoch 140/150\n",
            "66/66 [==============================] - 1s 8ms/step - loss: 2.6661e-05 - accuracy: 1.0000 - val_loss: 0.1978 - val_accuracy: 0.9320\n",
            "Epoch 141/150\n",
            "66/66 [==============================] - 1s 8ms/step - loss: 2.4778e-05 - accuracy: 1.0000 - val_loss: 0.2018 - val_accuracy: 0.9345\n",
            "Epoch 142/150\n",
            "66/66 [==============================] - 1s 8ms/step - loss: 9.0652e-06 - accuracy: 1.0000 - val_loss: 0.2105 - val_accuracy: 0.9320\n",
            "Epoch 143/150\n",
            "66/66 [==============================] - 1s 7ms/step - loss: 1.4658e-04 - accuracy: 1.0000 - val_loss: 0.2046 - val_accuracy: 0.9345\n",
            "Epoch 144/150\n",
            "66/66 [==============================] - 1s 8ms/step - loss: 9.7281e-05 - accuracy: 1.0000 - val_loss: 0.2242 - val_accuracy: 0.9296\n",
            "Epoch 145/150\n",
            "66/66 [==============================] - 1s 7ms/step - loss: 2.6377e-05 - accuracy: 1.0000 - val_loss: 0.2209 - val_accuracy: 0.9296\n",
            "Epoch 146/150\n",
            "66/66 [==============================] - 1s 9ms/step - loss: 2.5934e-05 - accuracy: 1.0000 - val_loss: 0.2044 - val_accuracy: 0.9369\n",
            "Epoch 147/150\n",
            "66/66 [==============================] - 1s 11ms/step - loss: 6.9749e-05 - accuracy: 1.0000 - val_loss: 0.2197 - val_accuracy: 0.9296\n",
            "Epoch 148/150\n",
            "66/66 [==============================] - 1s 12ms/step - loss: 1.4906e-05 - accuracy: 1.0000 - val_loss: 0.2215 - val_accuracy: 0.9296\n",
            "Epoch 149/150\n",
            "66/66 [==============================] - 1s 12ms/step - loss: 1.0588e-05 - accuracy: 1.0000 - val_loss: 0.2198 - val_accuracy: 0.9296\n",
            "Epoch 150/150\n",
            "66/66 [==============================] - 1s 9ms/step - loss: 4.8861e-05 - accuracy: 1.0000 - val_loss: 0.2157 - val_accuracy: 0.9320\n"
          ]
        },
        {
          "output_type": "execute_result",
          "data": {
            "text/plain": [
              "<keras.callbacks.History at 0x7f66d1761690>"
            ]
          },
          "metadata": {},
          "execution_count": 64
        }
      ]
    },
    {
      "cell_type": "code",
      "source": [
        "losses = pd.DataFrame(ann.history.history)\n",
        "losses.plot()"
      ],
      "metadata": {
        "id": "W5H4dnR2FDFK",
        "colab": {
          "base_uri": "https://localhost:8080/",
          "height": 447
        },
        "outputId": "2bfae560-957f-4f61-f284-8985825fe7d1"
      },
      "execution_count": 65,
      "outputs": [
        {
          "output_type": "execute_result",
          "data": {
            "text/plain": [
              "<Axes: >"
            ]
          },
          "metadata": {},
          "execution_count": 65
        },
        {
          "output_type": "display_data",
          "data": {
            "text/plain": [
              "<Figure size 640x480 with 1 Axes>"
            ],
            "image/png": "[encoded data removed]"
          },
          "metadata": {}
        }
      ]
    },
    {
      "cell_type": "code",
      "source": [
        "# Evaluate the model\n",
        "loss, accuracy = ann.evaluate(X_test, y_test)\n",
        "print(\"Test Loss:\", loss)\n",
        "print(\"Test Accuracy:\", accuracy)"
      ],
      "metadata": {
        "id": "g28MRuJOFMW_",
        "colab": {
          "base_uri": "https://localhost:8080/"
        },
        "outputId": "086f0686-b28d-40b2-b0ef-f24427c8b71e"
      },
      "execution_count": 66,
      "outputs": [
        {
          "output_type": "stream",
          "name": "stdout",
          "text": [
            "13/13 [==============================] - 0s 2ms/step - loss: 0.2157 - accuracy: 0.9320\n",
            "Test Loss: 0.2157483547925949\n",
            "Test Accuracy: 0.9320388436317444\n"
          ]
        }
      ]
    },
    {
      "cell_type": "code",
      "source": [
        "y_pred = ann.predict(X_test)\n",
        "y_pred_classes = np.argmax(y_pred, axis=1)\n",
        "y_true_classes = np.argmax(y_test, axis=1)\n",
        "y_pred_classes = np.argmax(y_pred, axis=1)\n",
        "y_true_classes = np.argmax(y_test, axis=1)\n",
        "from sklearn.metrics import confusion_matrix\n",
        "import matplotlib.pyplot as plt\n",
        "import seaborn as sns\n",
        "cm = confusion_matrix(y_true_classes, y_pred_classes)\n",
        "plt.figure(figsize=(8, 6))\n",
        "sns.heatmap(cm, annot=True, fmt=\"d\", cmap=\"Blues\", xticklabels=label_encoder.classes_, yticklabels=label_encoder.classes_)\n",
        "plt.xlabel('Predicted Labels')\n",
        "plt.ylabel('True Labels')\n",
        "plt.title('Confusion Matrix')\n",
        "plt.show()"
      ],
      "metadata": {
        "id": "1cG2Ic0-7J1a",
        "colab": {
          "base_uri": "https://localhost:8080/",
          "height": 581
        },
        "outputId": "6850a305-2372-4d86-ddc8-cf44c3c76e42"
      },
      "execution_count": 67,
      "outputs": [
        {
          "output_type": "stream",
          "name": "stdout",
          "text": [
            "13/13 [==============================] - 0s 3ms/step\n"
          ]
        },
        {
          "output_type": "display_data",
          "data": {
            "text/plain": [
              "<Figure size 800x600 with 2 Axes>"
            ],
            "image/png": "[encoded data removed]"
          },
          "metadata": {}
        }
      ]
    },
    {
      "cell_type": "markdown",
      "source": [
        "##RNN"
      ],
      "metadata": {
        "id": "J1XXBfUd0s2k"
      }
    },
    {
      "cell_type": "code",
      "source": [
        "# Convert the padded sequences to numpy arrays\n",
        "X_train = np.array(padded_sequences_train)\n",
        "X_test = np.array(padded_sequences_test)\n",
        "\n",
        "# Define the RNN model\n",
        "embedding_dim = 200\n",
        "vocab_size = len(tokenizer.word_index) + 1\n",
        "hidden_units = 64  # Number of hidden units in the RNN layer\n",
        "\n",
        "rnn = Sequential()\n",
        "rnn.add(Embedding(vocab_size, embedding_dim, input_length=max_sequence_length))\n",
        "rnn.add(LSTM(hidden_units,dropout=0.5))\n",
        "rnn.add(Dense(32, activation='relu'))\n",
        "rnn.add(Dense(16, activation='relu'))\n",
        "rnn.add(Dense(len(label_encoder.classes_), activation='softmax'))\n",
        "\n",
        "# Compile the model\n",
        "rnn.compile(optimizer='adam', loss='categorical_crossentropy', metrics=['accuracy'])\n"
      ],
      "metadata": {
        "id": "uJMmFzKX_ix8"
      },
      "execution_count": 68,
      "outputs": []
    },
    {
      "cell_type": "code",
      "source": [
        "# Train the model\n",
        "batch_size = 64\n",
        "epochs = 100\n",
        "rnn.fit(X_train, y_train, batch_size=batch_size, epochs=epochs, validation_data=(X_test, y_test))\n"
      ],
      "metadata": {
        "id": "a9Gz78P1_ka0",
        "colab": {
          "base_uri": "https://localhost:8080/"
        },
        "outputId": "a5ccef4d-c8b1-4f77-914b-fdfa44b3433c"
      },
      "execution_count": 69,
      "outputs": [
        {
          "output_type": "stream",
          "name": "stdout",
          "text": [
            "Epoch 1/100\n",
            "33/33 [==============================] - 20s 525ms/step - loss: 1.3479 - accuracy: 0.3932 - val_loss: 1.2256 - val_accuracy: 0.4782\n",
            "Epoch 2/100\n",
            "33/33 [==============================] - 14s 431ms/step - loss: 0.9795 - accuracy: 0.6040 - val_loss: 0.8107 - val_accuracy: 0.7379\n",
            "Epoch 3/100\n",
            "33/33 [==============================] - 14s 426ms/step - loss: 0.4778 - accuracy: 0.8789 - val_loss: 0.4525 - val_accuracy: 0.8568\n",
            "Epoch 4/100\n",
            "33/33 [==============================] - 14s 432ms/step - loss: 0.0954 - accuracy: 0.9829 - val_loss: 0.3744 - val_accuracy: 0.8859\n",
            "Epoch 5/100\n",
            "33/33 [==============================] - 14s 428ms/step - loss: 0.0288 - accuracy: 0.9953 - val_loss: 0.3610 - val_accuracy: 0.8883\n",
            "Epoch 6/100\n",
            "33/33 [==============================] - 14s 433ms/step - loss: 0.0115 - accuracy: 0.9981 - val_loss: 0.3905 - val_accuracy: 0.8811\n",
            "Epoch 7/100\n",
            "33/33 [==============================] - 14s 427ms/step - loss: 0.0054 - accuracy: 0.9995 - val_loss: 0.2802 - val_accuracy: 0.9126\n",
            "Epoch 8/100\n",
            "33/33 [==============================] - 14s 433ms/step - loss: 0.0027 - accuracy: 1.0000 - val_loss: 0.2908 - val_accuracy: 0.9078\n",
            "Epoch 9/100\n",
            "33/33 [==============================] - 14s 431ms/step - loss: 0.0015 - accuracy: 1.0000 - val_loss: 0.3068 - val_accuracy: 0.9102\n",
            "Epoch 10/100\n",
            "33/33 [==============================] - 14s 432ms/step - loss: 0.0011 - accuracy: 1.0000 - val_loss: 0.3243 - val_accuracy: 0.9150\n",
            "Epoch 11/100\n",
            "33/33 [==============================] - 14s 441ms/step - loss: 9.0998e-04 - accuracy: 1.0000 - val_loss: 0.3114 - val_accuracy: 0.9223\n",
            "Epoch 12/100\n",
            "33/33 [==============================] - 14s 426ms/step - loss: 7.0927e-04 - accuracy: 1.0000 - val_loss: 0.3213 - val_accuracy: 0.9199\n",
            "Epoch 13/100\n",
            "33/33 [==============================] - 14s 412ms/step - loss: 5.2739e-04 - accuracy: 1.0000 - val_loss: 0.3781 - val_accuracy: 0.9029\n",
            "Epoch 14/100\n",
            "33/33 [==============================] - 14s 418ms/step - loss: 4.1516e-04 - accuracy: 1.0000 - val_loss: 0.3319 - val_accuracy: 0.9150\n",
            "Epoch 15/100\n",
            "33/33 [==============================] - 14s 416ms/step - loss: 3.6932e-04 - accuracy: 1.0000 - val_loss: 0.3356 - val_accuracy: 0.9150\n",
            "Epoch 16/100\n",
            "33/33 [==============================] - 14s 412ms/step - loss: 3.0908e-04 - accuracy: 1.0000 - val_loss: 0.3629 - val_accuracy: 0.9126\n",
            "Epoch 17/100\n",
            "33/33 [==============================] - 14s 420ms/step - loss: 2.1459e-04 - accuracy: 1.0000 - val_loss: 0.3390 - val_accuracy: 0.9199\n",
            "Epoch 18/100\n",
            "33/33 [==============================] - 14s 403ms/step - loss: 2.4496e-04 - accuracy: 1.0000 - val_loss: 0.3798 - val_accuracy: 0.9102\n",
            "Epoch 19/100\n",
            "33/33 [==============================] - 14s 421ms/step - loss: 2.1529e-04 - accuracy: 1.0000 - val_loss: 0.3035 - val_accuracy: 0.9199\n",
            "Epoch 20/100\n",
            "33/33 [==============================] - 14s 428ms/step - loss: 2.0647e-04 - accuracy: 1.0000 - val_loss: 0.3880 - val_accuracy: 0.9126\n",
            "Epoch 21/100\n",
            "33/33 [==============================] - 14s 428ms/step - loss: 2.1323e-04 - accuracy: 1.0000 - val_loss: 0.3288 - val_accuracy: 0.9223\n",
            "Epoch 22/100\n",
            "33/33 [==============================] - 14s 427ms/step - loss: 2.0338e-04 - accuracy: 1.0000 - val_loss: 0.3655 - val_accuracy: 0.9150\n",
            "Epoch 23/100\n",
            "33/33 [==============================] - 14s 427ms/step - loss: 1.2852e-04 - accuracy: 1.0000 - val_loss: 0.3631 - val_accuracy: 0.9175\n",
            "Epoch 24/100\n",
            "33/33 [==============================] - 14s 428ms/step - loss: 1.2600e-04 - accuracy: 1.0000 - val_loss: 0.3685 - val_accuracy: 0.9175\n",
            "Epoch 25/100\n",
            "33/33 [==============================] - 14s 428ms/step - loss: 8.8866e-05 - accuracy: 1.0000 - val_loss: 0.3665 - val_accuracy: 0.9199\n",
            "Epoch 26/100\n",
            "33/33 [==============================] - 14s 432ms/step - loss: 9.7977e-05 - accuracy: 1.0000 - val_loss: 0.3734 - val_accuracy: 0.9199\n",
            "Epoch 27/100\n",
            "33/33 [==============================] - 14s 433ms/step - loss: 7.3734e-05 - accuracy: 1.0000 - val_loss: 0.3661 - val_accuracy: 0.9175\n",
            "Epoch 28/100\n",
            "33/33 [==============================] - 14s 429ms/step - loss: 7.3210e-05 - accuracy: 1.0000 - val_loss: 0.3784 - val_accuracy: 0.9199\n",
            "Epoch 29/100\n",
            "33/33 [==============================] - 14s 432ms/step - loss: 6.2416e-05 - accuracy: 1.0000 - val_loss: 0.3632 - val_accuracy: 0.9199\n",
            "Epoch 30/100\n",
            "33/33 [==============================] - 14s 434ms/step - loss: 6.6836e-05 - accuracy: 1.0000 - val_loss: 0.3856 - val_accuracy: 0.9175\n",
            "Epoch 31/100\n",
            "33/33 [==============================] - 14s 436ms/step - loss: 7.2420e-05 - accuracy: 1.0000 - val_loss: 0.4095 - val_accuracy: 0.9126\n",
            "Epoch 32/100\n",
            "33/33 [==============================] - 14s 435ms/step - loss: 5.1790e-05 - accuracy: 1.0000 - val_loss: 0.3733 - val_accuracy: 0.9199\n",
            "Epoch 33/100\n",
            "33/33 [==============================] - 16s 480ms/step - loss: 5.2678e-05 - accuracy: 1.0000 - val_loss: 0.3760 - val_accuracy: 0.9175\n",
            "Epoch 34/100\n",
            "33/33 [==============================] - 17s 505ms/step - loss: 5.5502e-05 - accuracy: 1.0000 - val_loss: 0.3790 - val_accuracy: 0.9175\n",
            "Epoch 35/100\n",
            "33/33 [==============================] - 14s 436ms/step - loss: 4.6383e-05 - accuracy: 1.0000 - val_loss: 0.3709 - val_accuracy: 0.9223\n",
            "Epoch 36/100\n",
            "33/33 [==============================] - 14s 431ms/step - loss: 4.9154e-05 - accuracy: 1.0000 - val_loss: 0.4264 - val_accuracy: 0.9175\n",
            "Epoch 37/100\n",
            "33/33 [==============================] - 14s 434ms/step - loss: 5.0819e-05 - accuracy: 1.0000 - val_loss: 0.4073 - val_accuracy: 0.9150\n",
            "Epoch 38/100\n",
            "33/33 [==============================] - 14s 434ms/step - loss: 4.5830e-05 - accuracy: 1.0000 - val_loss: 0.4117 - val_accuracy: 0.9150\n",
            "Epoch 39/100\n",
            "33/33 [==============================] - 15s 451ms/step - loss: 3.2730e-05 - accuracy: 1.0000 - val_loss: 0.3996 - val_accuracy: 0.9175\n",
            "Epoch 40/100\n",
            "33/33 [==============================] - 14s 438ms/step - loss: 2.7440e-05 - accuracy: 1.0000 - val_loss: 0.3943 - val_accuracy: 0.9199\n",
            "Epoch 41/100\n",
            "33/33 [==============================] - 14s 431ms/step - loss: 3.0684e-05 - accuracy: 1.0000 - val_loss: 0.3833 - val_accuracy: 0.9199\n",
            "Epoch 42/100\n",
            "33/33 [==============================] - 14s 414ms/step - loss: 2.9812e-05 - accuracy: 1.0000 - val_loss: 0.4061 - val_accuracy: 0.9175\n",
            "Epoch 43/100\n",
            "33/33 [==============================] - 14s 404ms/step - loss: 2.5379e-05 - accuracy: 1.0000 - val_loss: 0.3967 - val_accuracy: 0.9199\n",
            "Epoch 44/100\n",
            "33/33 [==============================] - 14s 414ms/step - loss: 2.6022e-05 - accuracy: 1.0000 - val_loss: 0.3945 - val_accuracy: 0.9199\n",
            "Epoch 45/100\n",
            "33/33 [==============================] - 14s 416ms/step - loss: 2.7455e-05 - accuracy: 1.0000 - val_loss: 0.4161 - val_accuracy: 0.9199\n",
            "Epoch 46/100\n",
            "33/33 [==============================] - 14s 406ms/step - loss: 2.3303e-05 - accuracy: 1.0000 - val_loss: 0.4167 - val_accuracy: 0.9223\n",
            "Epoch 47/100\n",
            "33/33 [==============================] - 14s 425ms/step - loss: 2.1383e-05 - accuracy: 1.0000 - val_loss: 0.4143 - val_accuracy: 0.9223\n",
            "Epoch 48/100\n",
            "33/33 [==============================] - 15s 460ms/step - loss: 2.0066e-05 - accuracy: 1.0000 - val_loss: 0.3774 - val_accuracy: 0.9223\n",
            "Epoch 49/100\n",
            "33/33 [==============================] - 14s 421ms/step - loss: 1.9628e-05 - accuracy: 1.0000 - val_loss: 0.4014 - val_accuracy: 0.9223\n",
            "Epoch 50/100\n",
            "33/33 [==============================] - 14s 435ms/step - loss: 1.8662e-05 - accuracy: 1.0000 - val_loss: 0.3922 - val_accuracy: 0.9248\n",
            "Epoch 51/100\n",
            "33/33 [==============================] - 14s 431ms/step - loss: 1.6293e-05 - accuracy: 1.0000 - val_loss: 0.3883 - val_accuracy: 0.9248\n",
            "Epoch 52/100\n",
            "33/33 [==============================] - 14s 434ms/step - loss: 1.9407e-05 - accuracy: 1.0000 - val_loss: 0.3814 - val_accuracy: 0.9248\n",
            "Epoch 53/100\n",
            "33/33 [==============================] - 15s 445ms/step - loss: 1.7772e-05 - accuracy: 1.0000 - val_loss: 0.4157 - val_accuracy: 0.9175\n",
            "Epoch 54/100\n",
            "33/33 [==============================] - 14s 442ms/step - loss: 1.8716e-05 - accuracy: 1.0000 - val_loss: 0.4344 - val_accuracy: 0.9150\n",
            "Epoch 55/100\n",
            "33/33 [==============================] - 14s 432ms/step - loss: 1.5553e-05 - accuracy: 1.0000 - val_loss: 0.3954 - val_accuracy: 0.9248\n",
            "Epoch 56/100\n",
            "33/33 [==============================] - 14s 439ms/step - loss: 1.6949e-05 - accuracy: 1.0000 - val_loss: 0.3957 - val_accuracy: 0.9199\n",
            "Epoch 57/100\n",
            "33/33 [==============================] - 15s 450ms/step - loss: 1.1841e-05 - accuracy: 1.0000 - val_loss: 0.4047 - val_accuracy: 0.9223\n",
            "Epoch 58/100\n",
            "33/33 [==============================] - 15s 443ms/step - loss: 1.2299e-05 - accuracy: 1.0000 - val_loss: 0.4083 - val_accuracy: 0.9223\n",
            "Epoch 59/100\n",
            "33/33 [==============================] - 15s 443ms/step - loss: 1.2683e-05 - accuracy: 1.0000 - val_loss: 0.4058 - val_accuracy: 0.9223\n",
            "Epoch 60/100\n",
            "33/33 [==============================] - 15s 443ms/step - loss: 1.1774e-05 - accuracy: 1.0000 - val_loss: 0.4119 - val_accuracy: 0.9223\n",
            "Epoch 61/100\n",
            "33/33 [==============================] - 15s 444ms/step - loss: 1.1380e-05 - accuracy: 1.0000 - val_loss: 0.4024 - val_accuracy: 0.9248\n",
            "Epoch 62/100\n",
            "33/33 [==============================] - 14s 440ms/step - loss: 1.1287e-05 - accuracy: 1.0000 - val_loss: 0.4069 - val_accuracy: 0.9248\n",
            "Epoch 63/100\n",
            "33/33 [==============================] - 14s 438ms/step - loss: 1.1447e-05 - accuracy: 1.0000 - val_loss: 0.4404 - val_accuracy: 0.9199\n",
            "Epoch 64/100\n",
            "33/33 [==============================] - 14s 439ms/step - loss: 8.9107e-06 - accuracy: 1.0000 - val_loss: 0.4266 - val_accuracy: 0.9223\n",
            "Epoch 65/100\n",
            "33/33 [==============================] - 14s 436ms/step - loss: 9.6042e-06 - accuracy: 1.0000 - val_loss: 0.4176 - val_accuracy: 0.9223\n",
            "Epoch 66/100\n",
            "33/33 [==============================] - 14s 433ms/step - loss: 1.2455e-05 - accuracy: 1.0000 - val_loss: 0.4654 - val_accuracy: 0.9150\n",
            "Epoch 67/100\n",
            "33/33 [==============================] - 14s 434ms/step - loss: 1.1661e-05 - accuracy: 1.0000 - val_loss: 0.4169 - val_accuracy: 0.9223\n",
            "Epoch 68/100\n",
            "33/33 [==============================] - 14s 435ms/step - loss: 9.1177e-06 - accuracy: 1.0000 - val_loss: 0.4149 - val_accuracy: 0.9223\n",
            "Epoch 69/100\n",
            "33/33 [==============================] - 15s 445ms/step - loss: 1.0163e-05 - accuracy: 1.0000 - val_loss: 0.4058 - val_accuracy: 0.9248\n",
            "Epoch 70/100\n",
            "33/33 [==============================] - 15s 443ms/step - loss: 1.0460e-05 - accuracy: 1.0000 - val_loss: 0.4068 - val_accuracy: 0.9248\n",
            "Epoch 71/100\n",
            "33/33 [==============================] - 14s 426ms/step - loss: 7.2817e-06 - accuracy: 1.0000 - val_loss: 0.3954 - val_accuracy: 0.9248\n",
            "Epoch 72/100\n",
            "33/33 [==============================] - 14s 408ms/step - loss: 1.3415e-05 - accuracy: 1.0000 - val_loss: 0.4713 - val_accuracy: 0.9102\n",
            "Epoch 73/100\n",
            "33/33 [==============================] - 14s 405ms/step - loss: 9.9853e-06 - accuracy: 1.0000 - val_loss: 0.4696 - val_accuracy: 0.9126\n",
            "Epoch 74/100\n",
            "33/33 [==============================] - 14s 416ms/step - loss: 1.0039e-05 - accuracy: 1.0000 - val_loss: 0.3919 - val_accuracy: 0.9272\n",
            "Epoch 75/100\n",
            "33/33 [==============================] - 14s 426ms/step - loss: 6.0114e-06 - accuracy: 1.0000 - val_loss: 0.3931 - val_accuracy: 0.9272\n",
            "Epoch 76/100\n",
            "33/33 [==============================] - 14s 402ms/step - loss: 6.6642e-06 - accuracy: 1.0000 - val_loss: 0.4095 - val_accuracy: 0.9248\n",
            "Epoch 77/100\n",
            "33/33 [==============================] - 14s 415ms/step - loss: 7.6439e-06 - accuracy: 1.0000 - val_loss: 0.4379 - val_accuracy: 0.9199\n",
            "Epoch 78/100\n",
            "33/33 [==============================] - 14s 429ms/step - loss: 5.6782e-06 - accuracy: 1.0000 - val_loss: 0.4295 - val_accuracy: 0.9223\n",
            "Epoch 79/100\n",
            "33/33 [==============================] - 14s 424ms/step - loss: 5.8814e-06 - accuracy: 1.0000 - val_loss: 0.4180 - val_accuracy: 0.9223\n",
            "Epoch 80/100\n",
            "33/33 [==============================] - 14s 431ms/step - loss: 1.0425e-05 - accuracy: 1.0000 - val_loss: 0.3680 - val_accuracy: 0.9272\n",
            "Epoch 81/100\n",
            "33/33 [==============================] - 14s 428ms/step - loss: 6.9893e-06 - accuracy: 1.0000 - val_loss: 0.3892 - val_accuracy: 0.9272\n",
            "Epoch 82/100\n",
            "33/33 [==============================] - 14s 430ms/step - loss: 5.3155e-06 - accuracy: 1.0000 - val_loss: 0.4225 - val_accuracy: 0.9272\n",
            "Epoch 83/100\n",
            "33/33 [==============================] - 14s 430ms/step - loss: 5.8390e-06 - accuracy: 1.0000 - val_loss: 0.4459 - val_accuracy: 0.9199\n",
            "Epoch 84/100\n",
            "33/33 [==============================] - 14s 435ms/step - loss: 5.6073e-06 - accuracy: 1.0000 - val_loss: 0.4254 - val_accuracy: 0.9248\n",
            "Epoch 85/100\n",
            "33/33 [==============================] - 14s 432ms/step - loss: 5.1852e-06 - accuracy: 1.0000 - val_loss: 0.4197 - val_accuracy: 0.9272\n",
            "Epoch 86/100\n",
            "33/33 [==============================] - 14s 431ms/step - loss: 4.4993e-06 - accuracy: 1.0000 - val_loss: 0.4220 - val_accuracy: 0.9272\n",
            "Epoch 87/100\n",
            "33/33 [==============================] - 14s 427ms/step - loss: 4.4460e-06 - accuracy: 1.0000 - val_loss: 0.4282 - val_accuracy: 0.9272\n",
            "Epoch 88/100\n",
            "33/33 [==============================] - 14s 434ms/step - loss: 4.5617e-06 - accuracy: 1.0000 - val_loss: 0.4334 - val_accuracy: 0.9248\n",
            "Epoch 89/100\n",
            "33/33 [==============================] - 14s 437ms/step - loss: 1.2995e-05 - accuracy: 1.0000 - val_loss: 0.4514 - val_accuracy: 0.9248\n",
            "Epoch 90/100\n",
            "33/33 [==============================] - 14s 431ms/step - loss: 7.0120e-06 - accuracy: 1.0000 - val_loss: 0.4094 - val_accuracy: 0.9248\n",
            "Epoch 91/100\n",
            "33/33 [==============================] - 14s 439ms/step - loss: 4.2191e-06 - accuracy: 1.0000 - val_loss: 0.4104 - val_accuracy: 0.9223\n",
            "Epoch 92/100\n",
            "33/33 [==============================] - 13s 407ms/step - loss: 3.4602e-06 - accuracy: 1.0000 - val_loss: 0.4198 - val_accuracy: 0.9272\n",
            "Epoch 93/100\n",
            "33/33 [==============================] - 14s 406ms/step - loss: 4.0494e-06 - accuracy: 1.0000 - val_loss: 0.4195 - val_accuracy: 0.9272\n",
            "Epoch 94/100\n",
            "33/33 [==============================] - 14s 416ms/step - loss: 3.9657e-06 - accuracy: 1.0000 - val_loss: 0.4145 - val_accuracy: 0.9248\n",
            "Epoch 95/100\n",
            "33/33 [==============================] - 14s 418ms/step - loss: 3.2983e-06 - accuracy: 1.0000 - val_loss: 0.4190 - val_accuracy: 0.9272\n",
            "Epoch 96/100\n",
            "33/33 [==============================] - 13s 400ms/step - loss: 3.6280e-06 - accuracy: 1.0000 - val_loss: 0.4184 - val_accuracy: 0.9272\n",
            "Epoch 97/100\n",
            "33/33 [==============================] - 14s 423ms/step - loss: 3.1974e-06 - accuracy: 1.0000 - val_loss: 0.4302 - val_accuracy: 0.9248\n",
            "Epoch 98/100\n",
            "33/33 [==============================] - 14s 431ms/step - loss: 3.7196e-06 - accuracy: 1.0000 - val_loss: 0.4332 - val_accuracy: 0.9248\n",
            "Epoch 99/100\n",
            "33/33 [==============================] - 14s 436ms/step - loss: 2.7994e-06 - accuracy: 1.0000 - val_loss: 0.4387 - val_accuracy: 0.9248\n",
            "Epoch 100/100\n",
            "33/33 [==============================] - 14s 432ms/step - loss: 3.2087e-06 - accuracy: 1.0000 - val_loss: 0.4287 - val_accuracy: 0.9272\n"
          ]
        },
        {
          "output_type": "execute_result",
          "data": {
            "text/plain": [
              "<keras.callbacks.History at 0x7f66c8b3e650>"
            ]
          },
          "metadata": {},
          "execution_count": 69
        }
      ]
    },
    {
      "cell_type": "code",
      "source": [
        "losses = pd.DataFrame(rnn.history.history)\n",
        "losses.plot()"
      ],
      "metadata": {
        "id": "tVQh9r8L2F10",
        "colab": {
          "base_uri": "https://localhost:8080/",
          "height": 449
        },
        "outputId": "c40fbfc2-07cc-4a8b-fd0a-14b65b21eaae"
      },
      "execution_count": 70,
      "outputs": [
        {
          "output_type": "execute_result",
          "data": {
            "text/plain": [
              "<Axes: >"
            ]
          },
          "metadata": {},
          "execution_count": 70
        },
        {
          "output_type": "display_data",
          "data": {
            "text/plain": [
              "<Figure size 640x480 with 1 Axes>"
            ],
            "image/png": "[encoded data removed]"
          },
          "metadata": {}
        }
      ]
    },
    {
      "cell_type": "code",
      "source": [
        "# Evaluate the model\n",
        "loss, accuracy = rnn.evaluate(X_test, y_test)\n",
        "print(\"Test Loss:\", loss)\n",
        "print(\"Test Accuracy:\", accuracy)"
      ],
      "metadata": {
        "id": "jSW5Ph0pJTon",
        "colab": {
          "base_uri": "https://localhost:8080/"
        },
        "outputId": "75d12fc9-e197-48a9-ffd5-fd0bd704f09c"
      },
      "execution_count": 71,
      "outputs": [
        {
          "output_type": "stream",
          "name": "stdout",
          "text": [
            "13/13 [==============================] - 1s 110ms/step - loss: 0.4287 - accuracy: 0.9272\n",
            "Test Loss: 0.4286973774433136\n",
            "Test Accuracy: 0.9271844625473022\n"
          ]
        }
      ]
    },
    {
      "cell_type": "code",
      "source": [
        "y_pred = rnn.predict(X_test)\n",
        "y_pred_classes = np.argmax(y_pred, axis=1)\n",
        "y_true_classes = np.argmax(y_test, axis=1)\n",
        "y_pred_classes = np.argmax(y_pred, axis=1)\n",
        "y_true_classes = np.argmax(y_test, axis=1)\n",
        "from sklearn.metrics import confusion_matrix\n",
        "import matplotlib.pyplot as plt\n",
        "import seaborn as sns\n",
        "cm = confusion_matrix(y_true_classes, y_pred_classes)\n",
        "plt.figure(figsize=(8, 6))\n",
        "sns.heatmap(cm, annot=True, fmt=\"d\", cmap=\"Blues\", xticklabels=label_encoder.classes_, yticklabels=label_encoder.classes_)\n",
        "plt.xlabel('Predicted Labels')\n",
        "plt.ylabel('True Labels')\n",
        "plt.title('Confusion Matrix')\n",
        "plt.show()\n"
      ],
      "metadata": {
        "id": "qxHlsX5234Nc",
        "colab": {
          "base_uri": "https://localhost:8080/",
          "height": 581
        },
        "outputId": "d7eead5b-62fa-4368-8947-00bd1402188c"
      },
      "execution_count": 72,
      "outputs": [
        {
          "output_type": "stream",
          "name": "stdout",
          "text": [
            "13/13 [==============================] - 2s 112ms/step\n"
          ]
        },
        {
          "output_type": "display_data",
          "data": {
            "text/plain": [
              "<Figure size 800x600 with 2 Axes>"
            ],
            "image/png": "[encoded data removed]"
          },
          "metadata": {}
        }
      ]
    }
  ]
}