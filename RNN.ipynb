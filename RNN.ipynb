{
  "nbformat": 4,
  "nbformat_minor": 0,
  "metadata": {
    "colab": {
      "provenance": [],
      "authorship_tag": "ABX9TyNFhSrZE++bGKN3oXMS0PYv",
      "include_colab_link": true
    },
    "kernelspec": {
      "name": "python3",
      "display_name": "Python 3"
    },
    "language_info": {
      "name": "python"
    }
  },
  "cells": [
    {
      "cell_type": "markdown",
      "metadata": {
        "id": "view-in-github",
        "colab_type": "text"
      },
      "source": [
        "<a href=\"https://colab.research.google.com/github/TaqiyNur/sundanese-emotion-classification/blob/main/RNN.ipynb\" target=\"_parent\"><img src=\"https://colab.research.google.com/assets/colab-badge.svg\" alt=\"Open In Colab\"/></a>"
      ]
    },
    {
      "cell_type": "markdown",
      "source": [
        "Notebook ini dapat diakses pada [UAS AI-Muhammad Taqiy Nur Furqon]( https://colab.research.google.com/drive/1L56oInGLP05LhoNz05bVXF4AwXcIygoH?usp=sharing)\n",
        "# Proyek UAS Kecerdasan Buatan\n",
        "---\n",
        "## Sundanese Twitter Emotion Classification\n",
        "Muhammad Taqiy Nur Furqon - 2006468900\n"
      ],
      "metadata": {
        "id": "9omixhCo2aoV"
      }
    },
    {
      "cell_type": "markdown",
      "source": [
        "## Preparation"
      ],
      "metadata": {
        "id": "TcuDaL2f4TGT"
      }
    },
    {
      "cell_type": "code",
      "execution_count": 3,
      "metadata": {
        "id": "RA-2UH4AAbWY",
        "colab": {
          "base_uri": "https://localhost:8080/"
        },
        "outputId": "4ae171fe-a628-4f1e-8475-50e0d2aadc6e"
      },
      "outputs": [
        {
          "output_type": "stream",
          "name": "stdout",
          "text": [
            "Looking in indexes: https://pypi.org/simple, https://us-python.pkg.dev/colab-wheels/public/simple/\n",
            "Collecting PySastrawi\n",
            "  Downloading PySastrawi-1.2.0-py2.py3-none-any.whl (210 kB)\n",
            "\u001b[2K     \u001b[90m━━━━━━━━━━━━━━━━━━━━━━━━━━━━━━━━━━━━━━━\u001b[0m \u001b[32m210.6/210.6 kB\u001b[0m \u001b[31m5.0 MB/s\u001b[0m eta \u001b[36m0:00:00\u001b[0m\n",
            "\u001b[?25hInstalling collected packages: PySastrawi\n",
            "Successfully installed PySastrawi-1.2.0\n"
          ]
        },
        {
          "output_type": "stream",
          "name": "stderr",
          "text": [
            "[nltk_data] Downloading package stopwords to /root/nltk_data...\n",
            "[nltk_data]   Package stopwords is already up-to-date!\n",
            "[nltk_data] Downloading package wordnet to /root/nltk_data...\n",
            "[nltk_data]   Package wordnet is already up-to-date!\n"
          ]
        }
      ],
      "source": [
        "!pip install PySastrawi\n",
        "import numpy as np\n",
        "import pandas as pd\n",
        "import re\n",
        "import tensorflow as tf\n",
        "from sklearn.model_selection import train_test_split\n",
        "from sklearn.preprocessing import LabelEncoder\n",
        "from keras.preprocessing.text import Tokenizer\n",
        "from keras.utils import pad_sequences\n",
        "from keras.models import Sequential\n",
        "from keras.models import load_model\n",
        "from keras.layers import Embedding, LSTM, Dense, Dropout\n",
        "from keras.utils import to_categorical\n",
        "from sklearn.metrics import accuracy_score, precision_score, recall_score, f1_score\n",
        "from sklearn.feature_extraction.text import TfidfVectorizer\n",
        "import nltk\n",
        "nltk.download('stopwords')\n",
        "nltk.download('wordnet')\n",
        "import spacy\n",
        "from nltk.corpus import stopwords\n",
        "from Sastrawi.Stemmer.StemmerFactory import StemmerFactory\n",
        "from google.colab import drive\n",
        "import os\n"
      ]
    },
    {
      "cell_type": "code",
      "source": [
        "drive.mount('/content/drive', force_remount=True)\n",
        "os.chdir('/content/drive/MyDrive/Proyek UTS AI/')\n",
        "# Load the Sundanese Twitter dataset\n",
        "train = pd.read_csv('sundanese_twitter_dataset.csv', sep=\"\\t\")\n",
        "test = pd.read_csv('test_sundanese_twitter_dataset.csv', sep=\"\\t\")"
      ],
      "metadata": {
        "colab": {
          "base_uri": "https://localhost:8080/"
        },
        "id": "2OenKXp5It04",
        "outputId": "cf8ee53f-74a6-4dac-8ba7-8a480792d7b2"
      },
      "execution_count": 4,
      "outputs": [
        {
          "output_type": "stream",
          "name": "stdout",
          "text": [
            "Mounted at /content/drive\n"
          ]
        }
      ]
    },
    {
      "cell_type": "code",
      "source": [
        "print(\"Dataset shape:\")\n",
        "print(\"Train:\", train.shape)\n",
        "print(\"Test:\", test.shape)\n"
      ],
      "metadata": {
        "colab": {
          "base_uri": "https://localhost:8080/"
        },
        "id": "ESuaECgw3K0V",
        "outputId": "f023a58d-087c-487f-f705-f7f29ae57888"
      },
      "execution_count": 5,
      "outputs": [
        {
          "output_type": "stream",
          "name": "stdout",
          "text": [
            "Dataset shape:\n",
            "Train: (2106, 1)\n",
            "Test: (412, 1)\n"
          ]
        }
      ]
    },
    {
      "cell_type": "code",
      "source": [
        "train.head(10)"
      ],
      "metadata": {
        "colab": {
          "base_uri": "https://localhost:8080/",
          "height": 363
        },
        "id": "5AB6uuHCJK2R",
        "outputId": "20c24be4-6c1e-4e2c-aa67-98139194cf00"
      },
      "execution_count": 6,
      "outputs": [
        {
          "output_type": "execute_result",
          "data": {
            "text/plain": [
              "                                           label,twt\n",
              "0  anger,\"sok geura leungit atuh sia teh corona, ...\n",
              "1  anger,\"Nu katoel katuhu nu nyerina kenca, gobl...\n",
              "2  joy,Bingah pisan patepang sareng pangerasa. Si...\n",
              "3  fear,asa hariwang kieu.. lalakon hirup teh asa...\n",
              "4  anger,\"Orang mana sih anying, sampis pisan. Bu...\n",
              "5  sadness,nya prihatin siih tp kedah kitu at pak...\n",
              "6  joy,sae nya kang ai tos ningal kompak kitu teh...\n",
              "7  sadness,\"Cai soca ngeclak mun emut kana dosa, ...\n",
              "8  anger,\"Gokar! Punteun, buat yg masih pd nongkr...\n",
              "9  anger,\"kumah pernahnya naik angkot dari Cihamp..."
            ],
            "text/html": [
              "\n",
              "  <div id=\"df-62ee1f64-f5ab-4dd4-8e2d-f46c4971041f\">\n",
              "    <div class=\"colab-df-container\">\n",
              "      <div>\n",
              "<style scoped>\n",
              "    .dataframe tbody tr th:only-of-type {\n",
              "        vertical-align: middle;\n",
              "    }\n",
              "\n",
              "    .dataframe tbody tr th {\n",
              "        vertical-align: top;\n",
              "    }\n",
              "\n",
              "    .dataframe thead th {\n",
              "        text-align: right;\n",
              "    }\n",
              "</style>\n",
              "<table border=\"1\" class=\"dataframe\">\n",
              "  <thead>\n",
              "    <tr style=\"text-align: right;\">\n",
              "      <th></th>\n",
              "      <th>label,twt</th>\n",
              "    </tr>\n",
              "  </thead>\n",
              "  <tbody>\n",
              "    <tr>\n",
              "      <th>0</th>\n",
              "      <td>anger,\"sok geura leungit atuh sia teh corona, ...</td>\n",
              "    </tr>\n",
              "    <tr>\n",
              "      <th>1</th>\n",
              "      <td>anger,\"Nu katoel katuhu nu nyerina kenca, gobl...</td>\n",
              "    </tr>\n",
              "    <tr>\n",
              "      <th>2</th>\n",
              "      <td>joy,Bingah pisan patepang sareng pangerasa. Si...</td>\n",
              "    </tr>\n",
              "    <tr>\n",
              "      <th>3</th>\n",
              "      <td>fear,asa hariwang kieu.. lalakon hirup teh asa...</td>\n",
              "    </tr>\n",
              "    <tr>\n",
              "      <th>4</th>\n",
              "      <td>anger,\"Orang mana sih anying, sampis pisan. Bu...</td>\n",
              "    </tr>\n",
              "    <tr>\n",
              "      <th>5</th>\n",
              "      <td>sadness,nya prihatin siih tp kedah kitu at pak...</td>\n",
              "    </tr>\n",
              "    <tr>\n",
              "      <th>6</th>\n",
              "      <td>joy,sae nya kang ai tos ningal kompak kitu teh...</td>\n",
              "    </tr>\n",
              "    <tr>\n",
              "      <th>7</th>\n",
              "      <td>sadness,\"Cai soca ngeclak mun emut kana dosa, ...</td>\n",
              "    </tr>\n",
              "    <tr>\n",
              "      <th>8</th>\n",
              "      <td>anger,\"Gokar! Punteun, buat yg masih pd nongkr...</td>\n",
              "    </tr>\n",
              "    <tr>\n",
              "      <th>9</th>\n",
              "      <td>anger,\"kumah pernahnya naik angkot dari Cihamp...</td>\n",
              "    </tr>\n",
              "  </tbody>\n",
              "</table>\n",
              "</div>\n",
              "      <button class=\"colab-df-convert\" onclick=\"convertToInteractive('df-62ee1f64-f5ab-4dd4-8e2d-f46c4971041f')\"\n",
              "              title=\"Convert this dataframe to an interactive table.\"\n",
              "              style=\"display:none;\">\n",
              "        \n",
              "  <svg xmlns=\"http://www.w3.org/2000/svg\" height=\"24px\"viewBox=\"0 0 24 24\"\n",
              "       width=\"24px\">\n",
              "    <path d=\"M0 0h24v24H0V0z\" fill=\"none\"/>\n",
              "    <path d=\"M18.56 5.44l.94 2.06.94-2.06 2.06-.94-2.06-.94-.94-2.06-.94 2.06-2.06.94zm-11 1L8.5 8.5l.94-2.06 2.06-.94-2.06-.94L8.5 2.5l-.94 2.06-2.06.94zm10 10l.94 2.06.94-2.06 2.06-.94-2.06-.94-.94-2.06-.94 2.06-2.06.94z\"/><path d=\"M17.41 7.96l-1.37-1.37c-.4-.4-.92-.59-1.43-.59-.52 0-1.04.2-1.43.59L10.3 9.45l-7.72 7.72c-.78.78-.78 2.05 0 2.83L4 21.41c.39.39.9.59 1.41.59.51 0 1.02-.2 1.41-.59l7.78-7.78 2.81-2.81c.8-.78.8-2.07 0-2.86zM5.41 20L4 18.59l7.72-7.72 1.47 1.35L5.41 20z\"/>\n",
              "  </svg>\n",
              "      </button>\n",
              "      \n",
              "  <style>\n",
              "    .colab-df-container {\n",
              "      display:flex;\n",
              "      flex-wrap:wrap;\n",
              "      gap: 12px;\n",
              "    }\n",
              "\n",
              "    .colab-df-convert {\n",
              "      background-color: #E8F0FE;\n",
              "      border: none;\n",
              "      border-radius: 50%;\n",
              "      cursor: pointer;\n",
              "      display: none;\n",
              "      fill: #1967D2;\n",
              "      height: 32px;\n",
              "      padding: 0 0 0 0;\n",
              "      width: 32px;\n",
              "    }\n",
              "\n",
              "    .colab-df-convert:hover {\n",
              "      background-color: #E2EBFA;\n",
              "      box-shadow: 0px 1px 2px rgba(60, 64, 67, 0.3), 0px 1px 3px 1px rgba(60, 64, 67, 0.15);\n",
              "      fill: #174EA6;\n",
              "    }\n",
              "\n",
              "    [theme=dark] .colab-df-convert {\n",
              "      background-color: #3B4455;\n",
              "      fill: #D2E3FC;\n",
              "    }\n",
              "\n",
              "    [theme=dark] .colab-df-convert:hover {\n",
              "      background-color: #434B5C;\n",
              "      box-shadow: 0px 1px 3px 1px rgba(0, 0, 0, 0.15);\n",
              "      filter: drop-shadow(0px 1px 2px rgba(0, 0, 0, 0.3));\n",
              "      fill: #FFFFFF;\n",
              "    }\n",
              "  </style>\n",
              "\n",
              "      <script>\n",
              "        const buttonEl =\n",
              "          document.querySelector('#df-62ee1f64-f5ab-4dd4-8e2d-f46c4971041f button.colab-df-convert');\n",
              "        buttonEl.style.display =\n",
              "          google.colab.kernel.accessAllowed ? 'block' : 'none';\n",
              "\n",
              "        async function convertToInteractive(key) {\n",
              "          const element = document.querySelector('#df-62ee1f64-f5ab-4dd4-8e2d-f46c4971041f');\n",
              "          const dataTable =\n",
              "            await google.colab.kernel.invokeFunction('convertToInteractive',\n",
              "                                                     [key], {});\n",
              "          if (!dataTable) return;\n",
              "\n",
              "          const docLinkHtml = 'Like what you see? Visit the ' +\n",
              "            '<a target=\"_blank\" href=https://colab.research.google.com/notebooks/data_table.ipynb>data table notebook</a>'\n",
              "            + ' to learn more about interactive tables.';\n",
              "          element.innerHTML = '';\n",
              "          dataTable['output_type'] = 'display_data';\n",
              "          await google.colab.output.renderOutput(dataTable, element);\n",
              "          const docLink = document.createElement('div');\n",
              "          docLink.innerHTML = docLinkHtml;\n",
              "          element.appendChild(docLink);\n",
              "        }\n",
              "      </script>\n",
              "    </div>\n",
              "  </div>\n",
              "  "
            ]
          },
          "metadata": {},
          "execution_count": 6
        }
      ]
    },
    {
      "cell_type": "code",
      "source": [
        "test.head(10)"
      ],
      "metadata": {
        "colab": {
          "base_uri": "https://localhost:8080/",
          "height": 363
        },
        "id": "kUijoDFW-If9",
        "outputId": "dc18e5dc-f83d-4466-9a54-682de223723e"
      },
      "execution_count": 7,
      "outputs": [
        {
          "output_type": "execute_result",
          "data": {
            "text/plain": [
              "                                           label,twt\n",
              "0  fear,\"meuni asa rame nya crime dimamana... kem...\n",
              "1  joy,\"Merinding ningali mic check rrq. Pernah n...\n",
              "2  sadness,\"mentang2 mamah ges dulur sabelah, meu...\n",
              "3  fear,meni serem atuh pas buka grup keluarga is...\n",
              "4  sadness,\"Meni sedih udah mah ga boleh keluar, ...\n",
              "5  sadness,Meni sedih tapi pami ningal Kopo- Cigo...\n",
              "6            sadness,Meni sedih nempo pimpinan urang\n",
              "7  sadness,Meni sedih laguna bang Bry... Inget ja...\n",
              "8  sadness,\"Meni saredih nya, teu paruguh jadina ...\n",
              "9  sadness,\"Meni saredih nya, teu paruguh jadina ..."
            ],
            "text/html": [
              "\n",
              "  <div id=\"df-75a8f090-3e63-4d88-b555-0fab562f41b9\">\n",
              "    <div class=\"colab-df-container\">\n",
              "      <div>\n",
              "<style scoped>\n",
              "    .dataframe tbody tr th:only-of-type {\n",
              "        vertical-align: middle;\n",
              "    }\n",
              "\n",
              "    .dataframe tbody tr th {\n",
              "        vertical-align: top;\n",
              "    }\n",
              "\n",
              "    .dataframe thead th {\n",
              "        text-align: right;\n",
              "    }\n",
              "</style>\n",
              "<table border=\"1\" class=\"dataframe\">\n",
              "  <thead>\n",
              "    <tr style=\"text-align: right;\">\n",
              "      <th></th>\n",
              "      <th>label,twt</th>\n",
              "    </tr>\n",
              "  </thead>\n",
              "  <tbody>\n",
              "    <tr>\n",
              "      <th>0</th>\n",
              "      <td>fear,\"meuni asa rame nya crime dimamana... kem...</td>\n",
              "    </tr>\n",
              "    <tr>\n",
              "      <th>1</th>\n",
              "      <td>joy,\"Merinding ningali mic check rrq. Pernah n...</td>\n",
              "    </tr>\n",
              "    <tr>\n",
              "      <th>2</th>\n",
              "      <td>sadness,\"mentang2 mamah ges dulur sabelah, meu...</td>\n",
              "    </tr>\n",
              "    <tr>\n",
              "      <th>3</th>\n",
              "      <td>fear,meni serem atuh pas buka grup keluarga is...</td>\n",
              "    </tr>\n",
              "    <tr>\n",
              "      <th>4</th>\n",
              "      <td>sadness,\"Meni sedih udah mah ga boleh keluar, ...</td>\n",
              "    </tr>\n",
              "    <tr>\n",
              "      <th>5</th>\n",
              "      <td>sadness,Meni sedih tapi pami ningal Kopo- Cigo...</td>\n",
              "    </tr>\n",
              "    <tr>\n",
              "      <th>6</th>\n",
              "      <td>sadness,Meni sedih nempo pimpinan urang</td>\n",
              "    </tr>\n",
              "    <tr>\n",
              "      <th>7</th>\n",
              "      <td>sadness,Meni sedih laguna bang Bry... Inget ja...</td>\n",
              "    </tr>\n",
              "    <tr>\n",
              "      <th>8</th>\n",
              "      <td>sadness,\"Meni saredih nya, teu paruguh jadina ...</td>\n",
              "    </tr>\n",
              "    <tr>\n",
              "      <th>9</th>\n",
              "      <td>sadness,\"Meni saredih nya, teu paruguh jadina ...</td>\n",
              "    </tr>\n",
              "  </tbody>\n",
              "</table>\n",
              "</div>\n",
              "      <button class=\"colab-df-convert\" onclick=\"convertToInteractive('df-75a8f090-3e63-4d88-b555-0fab562f41b9')\"\n",
              "              title=\"Convert this dataframe to an interactive table.\"\n",
              "              style=\"display:none;\">\n",
              "        \n",
              "  <svg xmlns=\"http://www.w3.org/2000/svg\" height=\"24px\"viewBox=\"0 0 24 24\"\n",
              "       width=\"24px\">\n",
              "    <path d=\"M0 0h24v24H0V0z\" fill=\"none\"/>\n",
              "    <path d=\"M18.56 5.44l.94 2.06.94-2.06 2.06-.94-2.06-.94-.94-2.06-.94 2.06-2.06.94zm-11 1L8.5 8.5l.94-2.06 2.06-.94-2.06-.94L8.5 2.5l-.94 2.06-2.06.94zm10 10l.94 2.06.94-2.06 2.06-.94-2.06-.94-.94-2.06-.94 2.06-2.06.94z\"/><path d=\"M17.41 7.96l-1.37-1.37c-.4-.4-.92-.59-1.43-.59-.52 0-1.04.2-1.43.59L10.3 9.45l-7.72 7.72c-.78.78-.78 2.05 0 2.83L4 21.41c.39.39.9.59 1.41.59.51 0 1.02-.2 1.41-.59l7.78-7.78 2.81-2.81c.8-.78.8-2.07 0-2.86zM5.41 20L4 18.59l7.72-7.72 1.47 1.35L5.41 20z\"/>\n",
              "  </svg>\n",
              "      </button>\n",
              "      \n",
              "  <style>\n",
              "    .colab-df-container {\n",
              "      display:flex;\n",
              "      flex-wrap:wrap;\n",
              "      gap: 12px;\n",
              "    }\n",
              "\n",
              "    .colab-df-convert {\n",
              "      background-color: #E8F0FE;\n",
              "      border: none;\n",
              "      border-radius: 50%;\n",
              "      cursor: pointer;\n",
              "      display: none;\n",
              "      fill: #1967D2;\n",
              "      height: 32px;\n",
              "      padding: 0 0 0 0;\n",
              "      width: 32px;\n",
              "    }\n",
              "\n",
              "    .colab-df-convert:hover {\n",
              "      background-color: #E2EBFA;\n",
              "      box-shadow: 0px 1px 2px rgba(60, 64, 67, 0.3), 0px 1px 3px 1px rgba(60, 64, 67, 0.15);\n",
              "      fill: #174EA6;\n",
              "    }\n",
              "\n",
              "    [theme=dark] .colab-df-convert {\n",
              "      background-color: #3B4455;\n",
              "      fill: #D2E3FC;\n",
              "    }\n",
              "\n",
              "    [theme=dark] .colab-df-convert:hover {\n",
              "      background-color: #434B5C;\n",
              "      box-shadow: 0px 1px 3px 1px rgba(0, 0, 0, 0.15);\n",
              "      filter: drop-shadow(0px 1px 2px rgba(0, 0, 0, 0.3));\n",
              "      fill: #FFFFFF;\n",
              "    }\n",
              "  </style>\n",
              "\n",
              "      <script>\n",
              "        const buttonEl =\n",
              "          document.querySelector('#df-75a8f090-3e63-4d88-b555-0fab562f41b9 button.colab-df-convert');\n",
              "        buttonEl.style.display =\n",
              "          google.colab.kernel.accessAllowed ? 'block' : 'none';\n",
              "\n",
              "        async function convertToInteractive(key) {\n",
              "          const element = document.querySelector('#df-75a8f090-3e63-4d88-b555-0fab562f41b9');\n",
              "          const dataTable =\n",
              "            await google.colab.kernel.invokeFunction('convertToInteractive',\n",
              "                                                     [key], {});\n",
              "          if (!dataTable) return;\n",
              "\n",
              "          const docLinkHtml = 'Like what you see? Visit the ' +\n",
              "            '<a target=\"_blank\" href=https://colab.research.google.com/notebooks/data_table.ipynb>data table notebook</a>'\n",
              "            + ' to learn more about interactive tables.';\n",
              "          element.innerHTML = '';\n",
              "          dataTable['output_type'] = 'display_data';\n",
              "          await google.colab.output.renderOutput(dataTable, element);\n",
              "          const docLink = document.createElement('div');\n",
              "          docLink.innerHTML = docLinkHtml;\n",
              "          element.appendChild(docLink);\n",
              "        }\n",
              "      </script>\n",
              "    </div>\n",
              "  </div>\n",
              "  "
            ]
          },
          "metadata": {},
          "execution_count": 7
        }
      ]
    },
    {
      "cell_type": "code",
      "source": [
        "# Split the combined column into separate columns\n",
        "train[['label', 'twt']] = train['label,twt'].str.split(',', 1, expand=True)\n",
        "test[['label', 'twt']] = test['label,twt'].str.split(',', 1, expand=True)\n",
        "\n",
        "# Remove the combined column\n",
        "train.drop('label,twt', axis=1, inplace=True)\n",
        "test.drop('label,twt', axis=1, inplace=True)"
      ],
      "metadata": {
        "colab": {
          "base_uri": "https://localhost:8080/"
        },
        "id": "xLFzA1o-JNsA",
        "outputId": "77faa995-474e-47fd-e9c2-b3aef1b9aa13"
      },
      "execution_count": 8,
      "outputs": [
        {
          "output_type": "stream",
          "name": "stderr",
          "text": [
            "<ipython-input-8-63954661ec8a>:2: FutureWarning: In a future version of pandas all arguments of StringMethods.split except for the argument 'pat' will be keyword-only.\n",
            "  train[['label', 'twt']] = train['label,twt'].str.split(',', 1, expand=True)\n",
            "<ipython-input-8-63954661ec8a>:3: FutureWarning: In a future version of pandas all arguments of StringMethods.split except for the argument 'pat' will be keyword-only.\n",
            "  test[['label', 'twt']] = test['label,twt'].str.split(',', 1, expand=True)\n"
          ]
        }
      ]
    },
    {
      "cell_type": "code",
      "source": [
        "train.head()"
      ],
      "metadata": {
        "colab": {
          "base_uri": "https://localhost:8080/",
          "height": 206
        },
        "id": "gM7Mj11RJQ_X",
        "outputId": "5f66ec75-5506-4e28-b06e-5c7caed6f04d"
      },
      "execution_count": 9,
      "outputs": [
        {
          "output_type": "execute_result",
          "data": {
            "text/plain": [
              "   label                                                twt\n",
              "0  anger  \"sok geura leungit atuh sia teh corona, matak ...\n",
              "1  anger  \"Nu katoel katuhu nu nyerina kenca, goblog was...\n",
              "2    joy  Bingah pisan patepang sareng pangerasa. Sing k...\n",
              "3   fear  asa hariwang kieu.. lalakon hirup teh asa nyor...\n",
              "4  anger  \"Orang mana sih anying, sampis pisan. Bunuh ae..."
            ],
            "text/html": [
              "\n",
              "  <div id=\"df-9fea8b12-1ea5-4474-b377-6068c7613a81\">\n",
              "    <div class=\"colab-df-container\">\n",
              "      <div>\n",
              "<style scoped>\n",
              "    .dataframe tbody tr th:only-of-type {\n",
              "        vertical-align: middle;\n",
              "    }\n",
              "\n",
              "    .dataframe tbody tr th {\n",
              "        vertical-align: top;\n",
              "    }\n",
              "\n",
              "    .dataframe thead th {\n",
              "        text-align: right;\n",
              "    }\n",
              "</style>\n",
              "<table border=\"1\" class=\"dataframe\">\n",
              "  <thead>\n",
              "    <tr style=\"text-align: right;\">\n",
              "      <th></th>\n",
              "      <th>label</th>\n",
              "      <th>twt</th>\n",
              "    </tr>\n",
              "  </thead>\n",
              "  <tbody>\n",
              "    <tr>\n",
              "      <th>0</th>\n",
              "      <td>anger</td>\n",
              "      <td>\"sok geura leungit atuh sia teh corona, matak ...</td>\n",
              "    </tr>\n",
              "    <tr>\n",
              "      <th>1</th>\n",
              "      <td>anger</td>\n",
              "      <td>\"Nu katoel katuhu nu nyerina kenca, goblog was...</td>\n",
              "    </tr>\n",
              "    <tr>\n",
              "      <th>2</th>\n",
              "      <td>joy</td>\n",
              "      <td>Bingah pisan patepang sareng pangerasa. Sing k...</td>\n",
              "    </tr>\n",
              "    <tr>\n",
              "      <th>3</th>\n",
              "      <td>fear</td>\n",
              "      <td>asa hariwang kieu.. lalakon hirup teh asa nyor...</td>\n",
              "    </tr>\n",
              "    <tr>\n",
              "      <th>4</th>\n",
              "      <td>anger</td>\n",
              "      <td>\"Orang mana sih anying, sampis pisan. Bunuh ae...</td>\n",
              "    </tr>\n",
              "  </tbody>\n",
              "</table>\n",
              "</div>\n",
              "      <button class=\"colab-df-convert\" onclick=\"convertToInteractive('df-9fea8b12-1ea5-4474-b377-6068c7613a81')\"\n",
              "              title=\"Convert this dataframe to an interactive table.\"\n",
              "              style=\"display:none;\">\n",
              "        \n",
              "  <svg xmlns=\"http://www.w3.org/2000/svg\" height=\"24px\"viewBox=\"0 0 24 24\"\n",
              "       width=\"24px\">\n",
              "    <path d=\"M0 0h24v24H0V0z\" fill=\"none\"/>\n",
              "    <path d=\"M18.56 5.44l.94 2.06.94-2.06 2.06-.94-2.06-.94-.94-2.06-.94 2.06-2.06.94zm-11 1L8.5 8.5l.94-2.06 2.06-.94-2.06-.94L8.5 2.5l-.94 2.06-2.06.94zm10 10l.94 2.06.94-2.06 2.06-.94-2.06-.94-.94-2.06-.94 2.06-2.06.94z\"/><path d=\"M17.41 7.96l-1.37-1.37c-.4-.4-.92-.59-1.43-.59-.52 0-1.04.2-1.43.59L10.3 9.45l-7.72 7.72c-.78.78-.78 2.05 0 2.83L4 21.41c.39.39.9.59 1.41.59.51 0 1.02-.2 1.41-.59l7.78-7.78 2.81-2.81c.8-.78.8-2.07 0-2.86zM5.41 20L4 18.59l7.72-7.72 1.47 1.35L5.41 20z\"/>\n",
              "  </svg>\n",
              "      </button>\n",
              "      \n",
              "  <style>\n",
              "    .colab-df-container {\n",
              "      display:flex;\n",
              "      flex-wrap:wrap;\n",
              "      gap: 12px;\n",
              "    }\n",
              "\n",
              "    .colab-df-convert {\n",
              "      background-color: #E8F0FE;\n",
              "      border: none;\n",
              "      border-radius: 50%;\n",
              "      cursor: pointer;\n",
              "      display: none;\n",
              "      fill: #1967D2;\n",
              "      height: 32px;\n",
              "      padding: 0 0 0 0;\n",
              "      width: 32px;\n",
              "    }\n",
              "\n",
              "    .colab-df-convert:hover {\n",
              "      background-color: #E2EBFA;\n",
              "      box-shadow: 0px 1px 2px rgba(60, 64, 67, 0.3), 0px 1px 3px 1px rgba(60, 64, 67, 0.15);\n",
              "      fill: #174EA6;\n",
              "    }\n",
              "\n",
              "    [theme=dark] .colab-df-convert {\n",
              "      background-color: #3B4455;\n",
              "      fill: #D2E3FC;\n",
              "    }\n",
              "\n",
              "    [theme=dark] .colab-df-convert:hover {\n",
              "      background-color: #434B5C;\n",
              "      box-shadow: 0px 1px 3px 1px rgba(0, 0, 0, 0.15);\n",
              "      filter: drop-shadow(0px 1px 2px rgba(0, 0, 0, 0.3));\n",
              "      fill: #FFFFFF;\n",
              "    }\n",
              "  </style>\n",
              "\n",
              "      <script>\n",
              "        const buttonEl =\n",
              "          document.querySelector('#df-9fea8b12-1ea5-4474-b377-6068c7613a81 button.colab-df-convert');\n",
              "        buttonEl.style.display =\n",
              "          google.colab.kernel.accessAllowed ? 'block' : 'none';\n",
              "\n",
              "        async function convertToInteractive(key) {\n",
              "          const element = document.querySelector('#df-9fea8b12-1ea5-4474-b377-6068c7613a81');\n",
              "          const dataTable =\n",
              "            await google.colab.kernel.invokeFunction('convertToInteractive',\n",
              "                                                     [key], {});\n",
              "          if (!dataTable) return;\n",
              "\n",
              "          const docLinkHtml = 'Like what you see? Visit the ' +\n",
              "            '<a target=\"_blank\" href=https://colab.research.google.com/notebooks/data_table.ipynb>data table notebook</a>'\n",
              "            + ' to learn more about interactive tables.';\n",
              "          element.innerHTML = '';\n",
              "          dataTable['output_type'] = 'display_data';\n",
              "          await google.colab.output.renderOutput(dataTable, element);\n",
              "          const docLink = document.createElement('div');\n",
              "          docLink.innerHTML = docLinkHtml;\n",
              "          element.appendChild(docLink);\n",
              "        }\n",
              "      </script>\n",
              "    </div>\n",
              "  </div>\n",
              "  "
            ]
          },
          "metadata": {},
          "execution_count": 9
        }
      ]
    },
    {
      "cell_type": "code",
      "source": [
        "test.head()"
      ],
      "metadata": {
        "colab": {
          "base_uri": "https://localhost:8080/",
          "height": 206
        },
        "id": "pCS32t0W-uCk",
        "outputId": "eb344402-0935-4bc0-9a1b-67756e30748e"
      },
      "execution_count": 10,
      "outputs": [
        {
          "output_type": "execute_result",
          "data": {
            "text/plain": [
              "     label                                                twt\n",
              "0     fear  \"meuni asa rame nya crime dimamana... kemarin ...\n",
              "1      joy  \"Merinding ningali mic check rrq. Pernah ngasa...\n",
              "2  sadness  \"mentang2 mamah ges dulur sabelah, meuni te di...\n",
              "3     fear  meni serem atuh pas buka grup keluarga isinya ...\n",
              "4  sadness  \"Meni sedih udah mah ga boleh keluar, di dalem..."
            ],
            "text/html": [
              "\n",
              "  <div id=\"df-b3680cbd-6181-4dde-b829-143f1a038c54\">\n",
              "    <div class=\"colab-df-container\">\n",
              "      <div>\n",
              "<style scoped>\n",
              "    .dataframe tbody tr th:only-of-type {\n",
              "        vertical-align: middle;\n",
              "    }\n",
              "\n",
              "    .dataframe tbody tr th {\n",
              "        vertical-align: top;\n",
              "    }\n",
              "\n",
              "    .dataframe thead th {\n",
              "        text-align: right;\n",
              "    }\n",
              "</style>\n",
              "<table border=\"1\" class=\"dataframe\">\n",
              "  <thead>\n",
              "    <tr style=\"text-align: right;\">\n",
              "      <th></th>\n",
              "      <th>label</th>\n",
              "      <th>twt</th>\n",
              "    </tr>\n",
              "  </thead>\n",
              "  <tbody>\n",
              "    <tr>\n",
              "      <th>0</th>\n",
              "      <td>fear</td>\n",
              "      <td>\"meuni asa rame nya crime dimamana... kemarin ...</td>\n",
              "    </tr>\n",
              "    <tr>\n",
              "      <th>1</th>\n",
              "      <td>joy</td>\n",
              "      <td>\"Merinding ningali mic check rrq. Pernah ngasa...</td>\n",
              "    </tr>\n",
              "    <tr>\n",
              "      <th>2</th>\n",
              "      <td>sadness</td>\n",
              "      <td>\"mentang2 mamah ges dulur sabelah, meuni te di...</td>\n",
              "    </tr>\n",
              "    <tr>\n",
              "      <th>3</th>\n",
              "      <td>fear</td>\n",
              "      <td>meni serem atuh pas buka grup keluarga isinya ...</td>\n",
              "    </tr>\n",
              "    <tr>\n",
              "      <th>4</th>\n",
              "      <td>sadness</td>\n",
              "      <td>\"Meni sedih udah mah ga boleh keluar, di dalem...</td>\n",
              "    </tr>\n",
              "  </tbody>\n",
              "</table>\n",
              "</div>\n",
              "      <button class=\"colab-df-convert\" onclick=\"convertToInteractive('df-b3680cbd-6181-4dde-b829-143f1a038c54')\"\n",
              "              title=\"Convert this dataframe to an interactive table.\"\n",
              "              style=\"display:none;\">\n",
              "        \n",
              "  <svg xmlns=\"http://www.w3.org/2000/svg\" height=\"24px\"viewBox=\"0 0 24 24\"\n",
              "       width=\"24px\">\n",
              "    <path d=\"M0 0h24v24H0V0z\" fill=\"none\"/>\n",
              "    <path d=\"M18.56 5.44l.94 2.06.94-2.06 2.06-.94-2.06-.94-.94-2.06-.94 2.06-2.06.94zm-11 1L8.5 8.5l.94-2.06 2.06-.94-2.06-.94L8.5 2.5l-.94 2.06-2.06.94zm10 10l.94 2.06.94-2.06 2.06-.94-2.06-.94-.94-2.06-.94 2.06-2.06.94z\"/><path d=\"M17.41 7.96l-1.37-1.37c-.4-.4-.92-.59-1.43-.59-.52 0-1.04.2-1.43.59L10.3 9.45l-7.72 7.72c-.78.78-.78 2.05 0 2.83L4 21.41c.39.39.9.59 1.41.59.51 0 1.02-.2 1.41-.59l7.78-7.78 2.81-2.81c.8-.78.8-2.07 0-2.86zM5.41 20L4 18.59l7.72-7.72 1.47 1.35L5.41 20z\"/>\n",
              "  </svg>\n",
              "      </button>\n",
              "      \n",
              "  <style>\n",
              "    .colab-df-container {\n",
              "      display:flex;\n",
              "      flex-wrap:wrap;\n",
              "      gap: 12px;\n",
              "    }\n",
              "\n",
              "    .colab-df-convert {\n",
              "      background-color: #E8F0FE;\n",
              "      border: none;\n",
              "      border-radius: 50%;\n",
              "      cursor: pointer;\n",
              "      display: none;\n",
              "      fill: #1967D2;\n",
              "      height: 32px;\n",
              "      padding: 0 0 0 0;\n",
              "      width: 32px;\n",
              "    }\n",
              "\n",
              "    .colab-df-convert:hover {\n",
              "      background-color: #E2EBFA;\n",
              "      box-shadow: 0px 1px 2px rgba(60, 64, 67, 0.3), 0px 1px 3px 1px rgba(60, 64, 67, 0.15);\n",
              "      fill: #174EA6;\n",
              "    }\n",
              "\n",
              "    [theme=dark] .colab-df-convert {\n",
              "      background-color: #3B4455;\n",
              "      fill: #D2E3FC;\n",
              "    }\n",
              "\n",
              "    [theme=dark] .colab-df-convert:hover {\n",
              "      background-color: #434B5C;\n",
              "      box-shadow: 0px 1px 3px 1px rgba(0, 0, 0, 0.15);\n",
              "      filter: drop-shadow(0px 1px 2px rgba(0, 0, 0, 0.3));\n",
              "      fill: #FFFFFF;\n",
              "    }\n",
              "  </style>\n",
              "\n",
              "      <script>\n",
              "        const buttonEl =\n",
              "          document.querySelector('#df-b3680cbd-6181-4dde-b829-143f1a038c54 button.colab-df-convert');\n",
              "        buttonEl.style.display =\n",
              "          google.colab.kernel.accessAllowed ? 'block' : 'none';\n",
              "\n",
              "        async function convertToInteractive(key) {\n",
              "          const element = document.querySelector('#df-b3680cbd-6181-4dde-b829-143f1a038c54');\n",
              "          const dataTable =\n",
              "            await google.colab.kernel.invokeFunction('convertToInteractive',\n",
              "                                                     [key], {});\n",
              "          if (!dataTable) return;\n",
              "\n",
              "          const docLinkHtml = 'Like what you see? Visit the ' +\n",
              "            '<a target=\"_blank\" href=https://colab.research.google.com/notebooks/data_table.ipynb>data table notebook</a>'\n",
              "            + ' to learn more about interactive tables.';\n",
              "          element.innerHTML = '';\n",
              "          dataTable['output_type'] = 'display_data';\n",
              "          await google.colab.output.renderOutput(dataTable, element);\n",
              "          const docLink = document.createElement('div');\n",
              "          docLink.innerHTML = docLinkHtml;\n",
              "          element.appendChild(docLink);\n",
              "        }\n",
              "      </script>\n",
              "    </div>\n",
              "  </div>\n",
              "  "
            ]
          },
          "metadata": {},
          "execution_count": 10
        }
      ]
    },
    {
      "cell_type": "code",
      "source": [
        "train.info()"
      ],
      "metadata": {
        "colab": {
          "base_uri": "https://localhost:8080/"
        },
        "id": "5OSZKLYm49Bj",
        "outputId": "5a79b2aa-7f57-4739-e86d-6af3f8c37eda"
      },
      "execution_count": 11,
      "outputs": [
        {
          "output_type": "stream",
          "name": "stdout",
          "text": [
            "<class 'pandas.core.frame.DataFrame'>\n",
            "RangeIndex: 2106 entries, 0 to 2105\n",
            "Data columns (total 2 columns):\n",
            " #   Column  Non-Null Count  Dtype \n",
            "---  ------  --------------  ----- \n",
            " 0   label   2106 non-null   object\n",
            " 1   twt     2106 non-null   object\n",
            "dtypes: object(2)\n",
            "memory usage: 33.0+ KB\n"
          ]
        }
      ]
    },
    {
      "cell_type": "code",
      "source": [
        "test.info()"
      ],
      "metadata": {
        "colab": {
          "base_uri": "https://localhost:8080/"
        },
        "id": "-UMzGsds_LZU",
        "outputId": "c061ef59-5203-4b96-9017-6b7e4951c0cd"
      },
      "execution_count": 12,
      "outputs": [
        {
          "output_type": "stream",
          "name": "stdout",
          "text": [
            "<class 'pandas.core.frame.DataFrame'>\n",
            "RangeIndex: 412 entries, 0 to 411\n",
            "Data columns (total 2 columns):\n",
            " #   Column  Non-Null Count  Dtype \n",
            "---  ------  --------------  ----- \n",
            " 0   label   412 non-null    object\n",
            " 1   twt     412 non-null    object\n",
            "dtypes: object(2)\n",
            "memory usage: 6.6+ KB\n"
          ]
        }
      ]
    },
    {
      "cell_type": "code",
      "source": [
        "train.isnull().sum()"
      ],
      "metadata": {
        "colab": {
          "base_uri": "https://localhost:8080/"
        },
        "id": "IkvVC_V44-XK",
        "outputId": "c2a0ebb8-9f8c-4e25-a8f4-53190cc15041"
      },
      "execution_count": 13,
      "outputs": [
        {
          "output_type": "execute_result",
          "data": {
            "text/plain": [
              "label    0\n",
              "twt      0\n",
              "dtype: int64"
            ]
          },
          "metadata": {},
          "execution_count": 13
        }
      ]
    },
    {
      "cell_type": "code",
      "source": [
        "test.isnull().sum()"
      ],
      "metadata": {
        "colab": {
          "base_uri": "https://localhost:8080/"
        },
        "id": "dkB0iW7S_IHc",
        "outputId": "1c1d6135-7d3f-4084-c679-10ce8c54a469"
      },
      "execution_count": 14,
      "outputs": [
        {
          "output_type": "execute_result",
          "data": {
            "text/plain": [
              "label    0\n",
              "twt      0\n",
              "dtype: int64"
            ]
          },
          "metadata": {},
          "execution_count": 14
        }
      ]
    },
    {
      "cell_type": "code",
      "source": [
        "# Convert labels to categorical format\n",
        "label_encoder = LabelEncoder()\n",
        "train_labels = label_encoder.fit_transform(train['label'])\n",
        "test_labels = label_encoder.fit_transform(test['label'])\n",
        "train_labels = to_categorical(train_labels)\n",
        "test_labels = to_categorical(test_labels)\n"
      ],
      "metadata": {
        "id": "HKgBAm-3_P6T"
      },
      "execution_count": 15,
      "outputs": []
    },
    {
      "cell_type": "code",
      "source": [
        "# Compile regular expressions\n",
        "preprocess_regex = re.compile(r'http\\S+|www\\S+|https\\S+|@[^\\s]+|[^a-zA-Z\\s]')\n",
        "\n",
        "stopsunda = open('stopwordv1.txt', 'r').read().split()\n",
        "tokenizer = Tokenizer()\n",
        "\n",
        "# Create a stemmer instance\n",
        "stemmer = StemmerFactory().create_stemmer()\n",
        "# Create a lemmatizer instance\n",
        "lemmatizer = nltk.stem.WordNetLemmatizer()\n",
        "\n",
        "# Preprocess and stem the text\n",
        "def preprocess_text(text):\n",
        "    # Convert to lowercase\n",
        "    text = text.lower()\n",
        "\n",
        "    # Remove URLs, mentions, special characters, and extra whitespaces\n",
        "    text = preprocess_regex.sub(' ', text).strip()\n",
        "\n",
        "    # Remove stopwords and stem the text\n",
        "    tokens = text.split()\n",
        "    tokens = [stemmer.stem(token) for token in tokens if token not in stopsunda]\n",
        "\n",
        "    # Lemmatization\n",
        "    tokens = [lemmatizer.lemmatize(token) for token in tokens]\n",
        "\n",
        "    return ' '.join(tokens)\n"
      ],
      "metadata": {
        "id": "Nxf6ED1ml3J-"
      },
      "execution_count": 16,
      "outputs": []
    },
    {
      "cell_type": "code",
      "source": [
        "train['twt'] = train['twt'].apply(preprocess_text)\n",
        "test['twt'] = test['twt'].apply(preprocess_text)"
      ],
      "metadata": {
        "id": "eDujj7W-l7T0"
      },
      "execution_count": 17,
      "outputs": []
    },
    {
      "cell_type": "code",
      "source": [
        "# Create a tokenizer and fit on the preprocessed text\n",
        "tokenizer = Tokenizer()\n",
        "tokenizer.fit_on_texts(train['twt'])\n",
        "tokenizer.fit_on_texts(test['twt'])\n",
        "\n",
        "# Convert the preprocessed text to sequences\n",
        "sequences_train = tokenizer.texts_to_sequences(train['twt'])\n",
        "sequences_test = tokenizer.texts_to_sequences(test['twt'])\n"
      ],
      "metadata": {
        "id": "F41KN-te_W2V"
      },
      "execution_count": 18,
      "outputs": []
    },
    {
      "cell_type": "code",
      "source": [
        "# Pad sequences to have the same length\n",
        "max_sequence_length = 200\n",
        "padded_sequences_train = pad_sequences(sequences_train, maxlen=max_sequence_length)\n",
        "padded_sequences_test = pad_sequences(sequences_test, maxlen=max_sequence_length)\n"
      ],
      "metadata": {
        "id": "k7AaCtS7_cPE"
      },
      "execution_count": 19,
      "outputs": []
    },
    {
      "cell_type": "code",
      "source": [
        "# Convert the preprocessed text to TF-IDF features\n",
        "tfidf_vectorizer = TfidfVectorizer()\n",
        "features_train = tfidf_vectorizer.fit_transform(train['twt'])\n",
        "features_test = tfidf_vectorizer.transform(test['twt'])"
      ],
      "metadata": {
        "id": "uT3dd7NsPm5o"
      },
      "execution_count": 20,
      "outputs": []
    },
    {
      "cell_type": "code",
      "source": [
        "X_train = features_train\n",
        "y_train = train_labels\n",
        "\n",
        "X_test = features_test\n",
        "y_test = test_labels\n",
        "\n",
        "X_train.sort_indices()\n",
        "X_test.sort_indices()"
      ],
      "metadata": {
        "id": "bGMl3bNz_fDs"
      },
      "execution_count": 21,
      "outputs": []
    },
    {
      "cell_type": "code",
      "source": [
        "print(\"Training X Shape:\",X_train.shape)\n",
        "print(\"Testing X Shape:\",X_test.shape)"
      ],
      "metadata": {
        "id": "kV_mk93OCgDx",
        "colab": {
          "base_uri": "https://localhost:8080/"
        },
        "outputId": "2341091b-1850-4b8f-e874-632a15b6cf57"
      },
      "execution_count": 22,
      "outputs": [
        {
          "output_type": "stream",
          "name": "stdout",
          "text": [
            "Training X Shape: (2106, 6472)\n",
            "Testing X Shape: (412, 6472)\n"
          ]
        }
      ]
    },
    {
      "cell_type": "markdown",
      "source": [
        "##ANN"
      ],
      "metadata": {
        "id": "lJHQw_vH0mx5"
      }
    },
    {
      "cell_type": "code",
      "source": [
        "ann = Sequential()\n",
        "ann.add(Dense(64, activation='relu'))\n",
        "# Adding dropout to prevent overfitting\n",
        "ann.add(Dropout(0.5))\n",
        "ann.add(Dense(32, activation='relu'))\n",
        "\n",
        "ann.add(Dense(len(label_encoder.classes_), activation='sigmoid'))\n",
        "\n",
        "ann.compile(optimizer='adam', loss='binary_crossentropy', metrics=['accuracy'])"
      ],
      "metadata": {
        "id": "Cq_yn2PM_y1N"
      },
      "execution_count": 23,
      "outputs": []
    },
    {
      "cell_type": "code",
      "source": [
        "ann.fit(X_train, y_train, epochs=150,validation_data=(X_test,y_test))"
      ],
      "metadata": {
        "id": "SbLyJj4z_8Qu",
        "colab": {
          "base_uri": "https://localhost:8080/"
        },
        "outputId": "37269c50-756a-45e3-9353-1590b3549d61"
      },
      "execution_count": 24,
      "outputs": [
        {
          "output_type": "stream",
          "name": "stdout",
          "text": [
            "Epoch 1/150\n",
            "66/66 [==============================] - 4s 20ms/step - loss: 0.6532 - accuracy: 0.2635 - val_loss: 0.5708 - val_accuracy: 0.3301\n",
            "Epoch 2/150\n",
            "66/66 [==============================] - 1s 13ms/step - loss: 0.4992 - accuracy: 0.6087 - val_loss: 0.4187 - val_accuracy: 0.8714\n",
            "Epoch 3/150\n",
            "66/66 [==============================] - 1s 12ms/step - loss: 0.3130 - accuracy: 0.9221 - val_loss: 0.2436 - val_accuracy: 0.9053\n",
            "Epoch 4/150\n",
            "66/66 [==============================] - 1s 13ms/step - loss: 0.1507 - accuracy: 0.9729 - val_loss: 0.1559 - val_accuracy: 0.9150\n",
            "Epoch 5/150\n",
            "66/66 [==============================] - 1s 18ms/step - loss: 0.0757 - accuracy: 0.9881 - val_loss: 0.1257 - val_accuracy: 0.9199\n",
            "Epoch 6/150\n",
            "66/66 [==============================] - 1s 17ms/step - loss: 0.0434 - accuracy: 0.9957 - val_loss: 0.1119 - val_accuracy: 0.9272\n",
            "Epoch 7/150\n",
            "66/66 [==============================] - 1s 15ms/step - loss: 0.0273 - accuracy: 0.9991 - val_loss: 0.1043 - val_accuracy: 0.9345\n",
            "Epoch 8/150\n",
            "66/66 [==============================] - 1s 18ms/step - loss: 0.0190 - accuracy: 0.9972 - val_loss: 0.0990 - val_accuracy: 0.9345\n",
            "Epoch 9/150\n",
            "66/66 [==============================] - 1s 12ms/step - loss: 0.0135 - accuracy: 0.9991 - val_loss: 0.1029 - val_accuracy: 0.9320\n",
            "Epoch 10/150\n",
            "66/66 [==============================] - 1s 14ms/step - loss: 0.0103 - accuracy: 1.0000 - val_loss: 0.0982 - val_accuracy: 0.9369\n",
            "Epoch 11/150\n",
            "66/66 [==============================] - 1s 13ms/step - loss: 0.0082 - accuracy: 1.0000 - val_loss: 0.1050 - val_accuracy: 0.9320\n",
            "Epoch 12/150\n",
            "66/66 [==============================] - 1s 12ms/step - loss: 0.0068 - accuracy: 1.0000 - val_loss: 0.1029 - val_accuracy: 0.9320\n",
            "Epoch 13/150\n",
            "66/66 [==============================] - 1s 13ms/step - loss: 0.0051 - accuracy: 0.9995 - val_loss: 0.1013 - val_accuracy: 0.9345\n",
            "Epoch 14/150\n",
            "66/66 [==============================] - 1s 12ms/step - loss: 0.0052 - accuracy: 0.9991 - val_loss: 0.1057 - val_accuracy: 0.9320\n",
            "Epoch 15/150\n",
            "66/66 [==============================] - 1s 13ms/step - loss: 0.0038 - accuracy: 1.0000 - val_loss: 0.1035 - val_accuracy: 0.9393\n",
            "Epoch 16/150\n",
            "66/66 [==============================] - 1s 14ms/step - loss: 0.0035 - accuracy: 1.0000 - val_loss: 0.1074 - val_accuracy: 0.9345\n",
            "Epoch 17/150\n",
            "66/66 [==============================] - 1s 16ms/step - loss: 0.0025 - accuracy: 1.0000 - val_loss: 0.1089 - val_accuracy: 0.9345\n",
            "Epoch 18/150\n",
            "66/66 [==============================] - 1s 16ms/step - loss: 0.0028 - accuracy: 1.0000 - val_loss: 0.1082 - val_accuracy: 0.9393\n",
            "Epoch 19/150\n",
            "66/66 [==============================] - 1s 20ms/step - loss: 0.0026 - accuracy: 1.0000 - val_loss: 0.1097 - val_accuracy: 0.9369\n",
            "Epoch 20/150\n",
            "66/66 [==============================] - 1s 19ms/step - loss: 0.0018 - accuracy: 1.0000 - val_loss: 0.1111 - val_accuracy: 0.9369\n",
            "Epoch 21/150\n",
            "66/66 [==============================] - 1s 16ms/step - loss: 0.0019 - accuracy: 1.0000 - val_loss: 0.1090 - val_accuracy: 0.9393\n",
            "Epoch 22/150\n",
            "66/66 [==============================] - 1s 20ms/step - loss: 0.0015 - accuracy: 1.0000 - val_loss: 0.1101 - val_accuracy: 0.9393\n",
            "Epoch 23/150\n",
            "66/66 [==============================] - 1s 16ms/step - loss: 0.0017 - accuracy: 1.0000 - val_loss: 0.1118 - val_accuracy: 0.9393\n",
            "Epoch 24/150\n",
            "66/66 [==============================] - 1s 15ms/step - loss: 0.0011 - accuracy: 1.0000 - val_loss: 0.1118 - val_accuracy: 0.9393\n",
            "Epoch 25/150\n",
            "66/66 [==============================] - 1s 15ms/step - loss: 0.0012 - accuracy: 1.0000 - val_loss: 0.1158 - val_accuracy: 0.9345\n",
            "Epoch 26/150\n",
            "66/66 [==============================] - 1s 14ms/step - loss: 0.0014 - accuracy: 1.0000 - val_loss: 0.1194 - val_accuracy: 0.9296\n",
            "Epoch 27/150\n",
            "66/66 [==============================] - 1s 14ms/step - loss: 0.0013 - accuracy: 0.9995 - val_loss: 0.1202 - val_accuracy: 0.9296\n",
            "Epoch 28/150\n",
            "66/66 [==============================] - 1s 14ms/step - loss: 0.0013 - accuracy: 0.9995 - val_loss: 0.1221 - val_accuracy: 0.9296\n",
            "Epoch 29/150\n",
            "66/66 [==============================] - 1s 13ms/step - loss: 0.0011 - accuracy: 1.0000 - val_loss: 0.1189 - val_accuracy: 0.9296\n",
            "Epoch 30/150\n",
            "66/66 [==============================] - 1s 13ms/step - loss: 8.3438e-04 - accuracy: 1.0000 - val_loss: 0.1222 - val_accuracy: 0.9296\n",
            "Epoch 31/150\n",
            "66/66 [==============================] - 1s 19ms/step - loss: 8.6227e-04 - accuracy: 1.0000 - val_loss: 0.1189 - val_accuracy: 0.9369\n",
            "Epoch 32/150\n",
            "66/66 [==============================] - 1s 18ms/step - loss: 6.8730e-04 - accuracy: 1.0000 - val_loss: 0.1228 - val_accuracy: 0.9296\n",
            "Epoch 33/150\n",
            "66/66 [==============================] - 1s 18ms/step - loss: 7.2459e-04 - accuracy: 1.0000 - val_loss: 0.1193 - val_accuracy: 0.9369\n",
            "Epoch 34/150\n",
            "66/66 [==============================] - 1s 16ms/step - loss: 5.8894e-04 - accuracy: 1.0000 - val_loss: 0.1206 - val_accuracy: 0.9320\n",
            "Epoch 35/150\n",
            "66/66 [==============================] - 1s 15ms/step - loss: 6.6914e-04 - accuracy: 1.0000 - val_loss: 0.1208 - val_accuracy: 0.9369\n",
            "Epoch 36/150\n",
            "66/66 [==============================] - 1s 13ms/step - loss: 4.7437e-04 - accuracy: 1.0000 - val_loss: 0.1211 - val_accuracy: 0.9369\n",
            "Epoch 37/150\n",
            "66/66 [==============================] - 1s 13ms/step - loss: 5.1766e-04 - accuracy: 1.0000 - val_loss: 0.1235 - val_accuracy: 0.9369\n",
            "Epoch 38/150\n",
            "66/66 [==============================] - 1s 14ms/step - loss: 6.7428e-04 - accuracy: 1.0000 - val_loss: 0.1212 - val_accuracy: 0.9369\n",
            "Epoch 39/150\n",
            "66/66 [==============================] - 1s 12ms/step - loss: 6.8997e-04 - accuracy: 1.0000 - val_loss: 0.1233 - val_accuracy: 0.9369\n",
            "Epoch 40/150\n",
            "66/66 [==============================] - 1s 8ms/step - loss: 4.5583e-04 - accuracy: 1.0000 - val_loss: 0.1260 - val_accuracy: 0.9369\n",
            "Epoch 41/150\n",
            "66/66 [==============================] - 1s 8ms/step - loss: 4.9082e-04 - accuracy: 1.0000 - val_loss: 0.1295 - val_accuracy: 0.9369\n",
            "Epoch 42/150\n",
            "66/66 [==============================] - 1s 8ms/step - loss: 4.1792e-04 - accuracy: 1.0000 - val_loss: 0.1311 - val_accuracy: 0.9345\n",
            "Epoch 43/150\n",
            "66/66 [==============================] - 1s 8ms/step - loss: 6.6530e-04 - accuracy: 1.0000 - val_loss: 0.1271 - val_accuracy: 0.9369\n",
            "Epoch 44/150\n",
            "66/66 [==============================] - 1s 8ms/step - loss: 4.9136e-04 - accuracy: 1.0000 - val_loss: 0.1254 - val_accuracy: 0.9369\n",
            "Epoch 45/150\n",
            "66/66 [==============================] - 1s 8ms/step - loss: 4.4896e-04 - accuracy: 1.0000 - val_loss: 0.1305 - val_accuracy: 0.9369\n",
            "Epoch 46/150\n",
            "66/66 [==============================] - 1s 8ms/step - loss: 4.2419e-04 - accuracy: 1.0000 - val_loss: 0.1341 - val_accuracy: 0.9320\n",
            "Epoch 47/150\n",
            "66/66 [==============================] - 1s 8ms/step - loss: 2.8882e-04 - accuracy: 1.0000 - val_loss: 0.1314 - val_accuracy: 0.9345\n",
            "Epoch 48/150\n",
            "66/66 [==============================] - 0s 7ms/step - loss: 4.0779e-04 - accuracy: 1.0000 - val_loss: 0.1293 - val_accuracy: 0.9369\n",
            "Epoch 49/150\n",
            "66/66 [==============================] - 1s 7ms/step - loss: 1.9928e-04 - accuracy: 1.0000 - val_loss: 0.1302 - val_accuracy: 0.9369\n",
            "Epoch 50/150\n",
            "66/66 [==============================] - 1s 11ms/step - loss: 2.5597e-04 - accuracy: 1.0000 - val_loss: 0.1388 - val_accuracy: 0.9320\n",
            "Epoch 51/150\n",
            "66/66 [==============================] - 1s 11ms/step - loss: 2.0846e-04 - accuracy: 1.0000 - val_loss: 0.1382 - val_accuracy: 0.9320\n",
            "Epoch 52/150\n",
            "66/66 [==============================] - 1s 11ms/step - loss: 2.4496e-04 - accuracy: 1.0000 - val_loss: 0.1358 - val_accuracy: 0.9345\n",
            "Epoch 53/150\n",
            "66/66 [==============================] - 1s 10ms/step - loss: 3.6715e-04 - accuracy: 1.0000 - val_loss: 0.1320 - val_accuracy: 0.9369\n",
            "Epoch 54/150\n",
            "66/66 [==============================] - 1s 8ms/step - loss: 1.8423e-04 - accuracy: 1.0000 - val_loss: 0.1325 - val_accuracy: 0.9369\n",
            "Epoch 55/150\n",
            "66/66 [==============================] - 1s 8ms/step - loss: 2.3388e-04 - accuracy: 1.0000 - val_loss: 0.1351 - val_accuracy: 0.9345\n",
            "Epoch 56/150\n",
            "66/66 [==============================] - 1s 8ms/step - loss: 2.4193e-04 - accuracy: 1.0000 - val_loss: 0.1294 - val_accuracy: 0.9369\n",
            "Epoch 57/150\n",
            "66/66 [==============================] - 1s 8ms/step - loss: 2.0662e-04 - accuracy: 1.0000 - val_loss: 0.1386 - val_accuracy: 0.9345\n",
            "Epoch 58/150\n",
            "66/66 [==============================] - 1s 8ms/step - loss: 2.5978e-04 - accuracy: 1.0000 - val_loss: 0.1451 - val_accuracy: 0.9345\n",
            "Epoch 59/150\n",
            "66/66 [==============================] - 1s 8ms/step - loss: 3.5983e-04 - accuracy: 1.0000 - val_loss: 0.1441 - val_accuracy: 0.9369\n",
            "Epoch 60/150\n",
            "66/66 [==============================] - 1s 7ms/step - loss: 1.3341e-04 - accuracy: 1.0000 - val_loss: 0.1454 - val_accuracy: 0.9369\n",
            "Epoch 61/150\n",
            "66/66 [==============================] - 1s 8ms/step - loss: 2.7918e-04 - accuracy: 1.0000 - val_loss: 0.1484 - val_accuracy: 0.9369\n",
            "Epoch 62/150\n",
            "66/66 [==============================] - 1s 7ms/step - loss: 2.5582e-04 - accuracy: 1.0000 - val_loss: 0.1509 - val_accuracy: 0.9369\n",
            "Epoch 63/150\n",
            "66/66 [==============================] - 1s 8ms/step - loss: 1.5831e-04 - accuracy: 1.0000 - val_loss: 0.1439 - val_accuracy: 0.9369\n",
            "Epoch 64/150\n",
            "66/66 [==============================] - 1s 8ms/step - loss: 2.0085e-04 - accuracy: 1.0000 - val_loss: 0.1438 - val_accuracy: 0.9393\n",
            "Epoch 65/150\n",
            "66/66 [==============================] - 1s 9ms/step - loss: 1.6618e-04 - accuracy: 1.0000 - val_loss: 0.1448 - val_accuracy: 0.9369\n",
            "Epoch 66/150\n",
            "66/66 [==============================] - 1s 9ms/step - loss: 3.5911e-04 - accuracy: 0.9995 - val_loss: 0.1533 - val_accuracy: 0.9345\n",
            "Epoch 67/150\n",
            "66/66 [==============================] - 1s 8ms/step - loss: 1.3265e-04 - accuracy: 1.0000 - val_loss: 0.1670 - val_accuracy: 0.9223\n",
            "Epoch 68/150\n",
            "66/66 [==============================] - 1s 8ms/step - loss: 2.7448e-04 - accuracy: 1.0000 - val_loss: 0.1489 - val_accuracy: 0.9345\n",
            "Epoch 69/150\n",
            "66/66 [==============================] - 0s 7ms/step - loss: 1.5579e-04 - accuracy: 1.0000 - val_loss: 0.1420 - val_accuracy: 0.9393\n",
            "Epoch 70/150\n",
            "66/66 [==============================] - 1s 9ms/step - loss: 1.9152e-04 - accuracy: 1.0000 - val_loss: 0.1536 - val_accuracy: 0.9345\n",
            "Epoch 71/150\n",
            "66/66 [==============================] - 1s 12ms/step - loss: 1.2390e-04 - accuracy: 1.0000 - val_loss: 0.1520 - val_accuracy: 0.9320\n",
            "Epoch 72/150\n",
            "66/66 [==============================] - 1s 11ms/step - loss: 1.2540e-04 - accuracy: 1.0000 - val_loss: 0.1567 - val_accuracy: 0.9296\n",
            "Epoch 73/150\n",
            "66/66 [==============================] - 1s 11ms/step - loss: 7.0140e-05 - accuracy: 1.0000 - val_loss: 0.1582 - val_accuracy: 0.9296\n",
            "Epoch 74/150\n",
            "66/66 [==============================] - 1s 8ms/step - loss: 1.4746e-04 - accuracy: 1.0000 - val_loss: 0.1490 - val_accuracy: 0.9320\n",
            "Epoch 75/150\n",
            "66/66 [==============================] - 1s 8ms/step - loss: 1.7806e-04 - accuracy: 1.0000 - val_loss: 0.1451 - val_accuracy: 0.9345\n",
            "Epoch 76/150\n",
            "66/66 [==============================] - 1s 8ms/step - loss: 1.4584e-04 - accuracy: 1.0000 - val_loss: 0.1404 - val_accuracy: 0.9369\n",
            "Epoch 77/150\n",
            "66/66 [==============================] - 1s 8ms/step - loss: 2.0111e-04 - accuracy: 1.0000 - val_loss: 0.1473 - val_accuracy: 0.9320\n",
            "Epoch 78/150\n",
            "66/66 [==============================] - 1s 8ms/step - loss: 8.9661e-05 - accuracy: 1.0000 - val_loss: 0.1511 - val_accuracy: 0.9320\n",
            "Epoch 79/150\n",
            "66/66 [==============================] - 1s 8ms/step - loss: 1.1678e-04 - accuracy: 1.0000 - val_loss: 0.1587 - val_accuracy: 0.9320\n",
            "Epoch 80/150\n",
            "66/66 [==============================] - 1s 8ms/step - loss: 1.2847e-04 - accuracy: 1.0000 - val_loss: 0.1537 - val_accuracy: 0.9345\n",
            "Epoch 81/150\n",
            "66/66 [==============================] - 1s 8ms/step - loss: 9.9640e-05 - accuracy: 1.0000 - val_loss: 0.1577 - val_accuracy: 0.9345\n",
            "Epoch 82/150\n",
            "66/66 [==============================] - 1s 8ms/step - loss: 5.5183e-05 - accuracy: 1.0000 - val_loss: 0.1550 - val_accuracy: 0.9345\n",
            "Epoch 83/150\n",
            "66/66 [==============================] - 1s 8ms/step - loss: 1.3361e-04 - accuracy: 1.0000 - val_loss: 0.1593 - val_accuracy: 0.9296\n",
            "Epoch 84/150\n",
            "66/66 [==============================] - 1s 8ms/step - loss: 1.0101e-04 - accuracy: 1.0000 - val_loss: 0.1576 - val_accuracy: 0.9296\n",
            "Epoch 85/150\n",
            "66/66 [==============================] - 1s 8ms/step - loss: 2.2613e-04 - accuracy: 1.0000 - val_loss: 0.1725 - val_accuracy: 0.9320\n",
            "Epoch 86/150\n",
            "66/66 [==============================] - 1s 9ms/step - loss: 5.0543e-05 - accuracy: 1.0000 - val_loss: 0.1711 - val_accuracy: 0.9320\n",
            "Epoch 87/150\n",
            "66/66 [==============================] - 1s 9ms/step - loss: 7.6638e-05 - accuracy: 1.0000 - val_loss: 0.1654 - val_accuracy: 0.9345\n",
            "Epoch 88/150\n",
            "66/66 [==============================] - 1s 9ms/step - loss: 5.2672e-05 - accuracy: 1.0000 - val_loss: 0.1671 - val_accuracy: 0.9345\n",
            "Epoch 89/150\n",
            "66/66 [==============================] - 1s 10ms/step - loss: 1.2395e-04 - accuracy: 1.0000 - val_loss: 0.1622 - val_accuracy: 0.9345\n",
            "Epoch 90/150\n",
            "66/66 [==============================] - 1s 13ms/step - loss: 9.3982e-05 - accuracy: 1.0000 - val_loss: 0.1681 - val_accuracy: 0.9320\n",
            "Epoch 91/150\n",
            "66/66 [==============================] - 1s 13ms/step - loss: 1.6379e-04 - accuracy: 1.0000 - val_loss: 0.1672 - val_accuracy: 0.9320\n",
            "Epoch 92/150\n",
            "66/66 [==============================] - 1s 12ms/step - loss: 8.5659e-05 - accuracy: 1.0000 - val_loss: 0.1481 - val_accuracy: 0.9369\n",
            "Epoch 93/150\n",
            "66/66 [==============================] - 1s 8ms/step - loss: 1.0222e-04 - accuracy: 1.0000 - val_loss: 0.1562 - val_accuracy: 0.9345\n",
            "Epoch 94/150\n",
            "66/66 [==============================] - 1s 8ms/step - loss: 1.3097e-04 - accuracy: 1.0000 - val_loss: 0.1547 - val_accuracy: 0.9345\n",
            "Epoch 95/150\n",
            "66/66 [==============================] - 1s 8ms/step - loss: 1.7935e-04 - accuracy: 1.0000 - val_loss: 0.1518 - val_accuracy: 0.9369\n",
            "Epoch 96/150\n",
            "66/66 [==============================] - 1s 8ms/step - loss: 3.8847e-05 - accuracy: 1.0000 - val_loss: 0.1576 - val_accuracy: 0.9369\n",
            "Epoch 97/150\n",
            "66/66 [==============================] - 0s 7ms/step - loss: 8.7053e-05 - accuracy: 1.0000 - val_loss: 0.1619 - val_accuracy: 0.9369\n",
            "Epoch 98/150\n",
            "66/66 [==============================] - 0s 7ms/step - loss: 1.0840e-04 - accuracy: 1.0000 - val_loss: 0.1558 - val_accuracy: 0.9369\n",
            "Epoch 99/150\n",
            "66/66 [==============================] - 0s 7ms/step - loss: 6.4871e-05 - accuracy: 1.0000 - val_loss: 0.1772 - val_accuracy: 0.9320\n",
            "Epoch 100/150\n",
            "66/66 [==============================] - 1s 8ms/step - loss: 1.5929e-04 - accuracy: 1.0000 - val_loss: 0.1732 - val_accuracy: 0.9345\n",
            "Epoch 101/150\n",
            "66/66 [==============================] - 1s 8ms/step - loss: 3.7856e-05 - accuracy: 1.0000 - val_loss: 0.1705 - val_accuracy: 0.9369\n",
            "Epoch 102/150\n",
            "66/66 [==============================] - 1s 8ms/step - loss: 3.7534e-05 - accuracy: 1.0000 - val_loss: 0.1741 - val_accuracy: 0.9369\n",
            "Epoch 103/150\n",
            "66/66 [==============================] - 1s 8ms/step - loss: 8.7954e-05 - accuracy: 1.0000 - val_loss: 0.1679 - val_accuracy: 0.9345\n",
            "Epoch 104/150\n",
            "66/66 [==============================] - 1s 9ms/step - loss: 5.3255e-05 - accuracy: 1.0000 - val_loss: 0.1665 - val_accuracy: 0.9345\n",
            "Epoch 105/150\n",
            "66/66 [==============================] - 1s 8ms/step - loss: 3.4628e-05 - accuracy: 1.0000 - val_loss: 0.1734 - val_accuracy: 0.9296\n",
            "Epoch 106/150\n",
            "66/66 [==============================] - 0s 7ms/step - loss: 9.9927e-05 - accuracy: 1.0000 - val_loss: 0.1772 - val_accuracy: 0.9320\n",
            "Epoch 107/150\n",
            "66/66 [==============================] - 1s 8ms/step - loss: 5.5336e-05 - accuracy: 1.0000 - val_loss: 0.1722 - val_accuracy: 0.9345\n",
            "Epoch 108/150\n",
            "66/66 [==============================] - 0s 7ms/step - loss: 3.6541e-05 - accuracy: 1.0000 - val_loss: 0.1732 - val_accuracy: 0.9345\n",
            "Epoch 109/150\n",
            "66/66 [==============================] - 1s 9ms/step - loss: 3.0252e-05 - accuracy: 1.0000 - val_loss: 0.1720 - val_accuracy: 0.9345\n",
            "Epoch 110/150\n",
            "66/66 [==============================] - 1s 10ms/step - loss: 1.4837e-04 - accuracy: 1.0000 - val_loss: 0.1992 - val_accuracy: 0.9272\n",
            "Epoch 111/150\n",
            "66/66 [==============================] - 1s 12ms/step - loss: 2.4244e-05 - accuracy: 1.0000 - val_loss: 0.1984 - val_accuracy: 0.9296\n",
            "Epoch 112/150\n",
            "66/66 [==============================] - 1s 12ms/step - loss: 7.3297e-05 - accuracy: 1.0000 - val_loss: 0.2007 - val_accuracy: 0.9223\n",
            "Epoch 113/150\n",
            "66/66 [==============================] - 0s 7ms/step - loss: 8.9916e-05 - accuracy: 1.0000 - val_loss: 0.2114 - val_accuracy: 0.9175\n",
            "Epoch 114/150\n",
            "66/66 [==============================] - 1s 8ms/step - loss: 1.9357e-05 - accuracy: 1.0000 - val_loss: 0.2102 - val_accuracy: 0.9175\n",
            "Epoch 115/150\n",
            "66/66 [==============================] - 1s 8ms/step - loss: 4.9395e-05 - accuracy: 1.0000 - val_loss: 0.2047 - val_accuracy: 0.9248\n",
            "Epoch 116/150\n",
            "66/66 [==============================] - 1s 8ms/step - loss: 2.7984e-05 - accuracy: 1.0000 - val_loss: 0.2049 - val_accuracy: 0.9248\n",
            "Epoch 117/150\n",
            "66/66 [==============================] - 1s 8ms/step - loss: 2.7835e-05 - accuracy: 1.0000 - val_loss: 0.2052 - val_accuracy: 0.9248\n",
            "Epoch 118/150\n",
            "66/66 [==============================] - 1s 12ms/step - loss: 3.9136e-05 - accuracy: 1.0000 - val_loss: 0.1996 - val_accuracy: 0.9296\n",
            "Epoch 119/150\n",
            "66/66 [==============================] - 1s 12ms/step - loss: 2.5401e-05 - accuracy: 1.0000 - val_loss: 0.2005 - val_accuracy: 0.9296\n",
            "Epoch 120/150\n",
            "66/66 [==============================] - 1s 11ms/step - loss: 4.5949e-05 - accuracy: 1.0000 - val_loss: 0.1956 - val_accuracy: 0.9369\n",
            "Epoch 121/150\n",
            "66/66 [==============================] - 1s 8ms/step - loss: 3.1058e-05 - accuracy: 1.0000 - val_loss: 0.2065 - val_accuracy: 0.9248\n",
            "Epoch 122/150\n",
            "66/66 [==============================] - 1s 8ms/step - loss: 3.2834e-05 - accuracy: 1.0000 - val_loss: 0.2053 - val_accuracy: 0.9248\n",
            "Epoch 123/150\n",
            "66/66 [==============================] - 1s 8ms/step - loss: 8.2730e-05 - accuracy: 1.0000 - val_loss: 0.1845 - val_accuracy: 0.9345\n",
            "Epoch 124/150\n",
            "66/66 [==============================] - 1s 8ms/step - loss: 3.6822e-05 - accuracy: 1.0000 - val_loss: 0.1855 - val_accuracy: 0.9345\n",
            "Epoch 125/150\n",
            "66/66 [==============================] - 1s 8ms/step - loss: 2.1462e-05 - accuracy: 1.0000 - val_loss: 0.1884 - val_accuracy: 0.9345\n",
            "Epoch 126/150\n",
            "66/66 [==============================] - 1s 9ms/step - loss: 4.5323e-04 - accuracy: 0.9995 - val_loss: 0.2034 - val_accuracy: 0.9320\n",
            "Epoch 127/150\n",
            "66/66 [==============================] - 1s 12ms/step - loss: 6.2969e-05 - accuracy: 1.0000 - val_loss: 0.1944 - val_accuracy: 0.9369\n",
            "Epoch 128/150\n",
            "66/66 [==============================] - 1s 11ms/step - loss: 2.6476e-05 - accuracy: 1.0000 - val_loss: 0.1943 - val_accuracy: 0.9345\n",
            "Epoch 129/150\n",
            "66/66 [==============================] - 1s 11ms/step - loss: 9.6134e-06 - accuracy: 1.0000 - val_loss: 0.1964 - val_accuracy: 0.9345\n",
            "Epoch 130/150\n",
            "66/66 [==============================] - 1s 12ms/step - loss: 3.7562e-05 - accuracy: 1.0000 - val_loss: 0.1894 - val_accuracy: 0.9320\n",
            "Epoch 131/150\n",
            "66/66 [==============================] - 1s 9ms/step - loss: 2.2931e-05 - accuracy: 1.0000 - val_loss: 0.1902 - val_accuracy: 0.9345\n",
            "Epoch 132/150\n",
            "66/66 [==============================] - 1s 8ms/step - loss: 1.3863e-05 - accuracy: 1.0000 - val_loss: 0.1933 - val_accuracy: 0.9320\n",
            "Epoch 133/150\n",
            "66/66 [==============================] - 1s 8ms/step - loss: 1.2714e-05 - accuracy: 1.0000 - val_loss: 0.1916 - val_accuracy: 0.9345\n",
            "Epoch 134/150\n",
            "66/66 [==============================] - 1s 8ms/step - loss: 1.4400e-05 - accuracy: 1.0000 - val_loss: 0.1918 - val_accuracy: 0.9345\n",
            "Epoch 135/150\n",
            "66/66 [==============================] - 1s 8ms/step - loss: 1.5221e-05 - accuracy: 1.0000 - val_loss: 0.1905 - val_accuracy: 0.9345\n",
            "Epoch 136/150\n",
            "66/66 [==============================] - 1s 8ms/step - loss: 1.0680e-05 - accuracy: 1.0000 - val_loss: 0.1900 - val_accuracy: 0.9345\n",
            "Epoch 137/150\n",
            "66/66 [==============================] - 1s 9ms/step - loss: 2.0249e-05 - accuracy: 1.0000 - val_loss: 0.1942 - val_accuracy: 0.9296\n",
            "Epoch 138/150\n",
            "66/66 [==============================] - 1s 8ms/step - loss: 6.0016e-05 - accuracy: 1.0000 - val_loss: 0.2143 - val_accuracy: 0.9223\n",
            "Epoch 139/150\n",
            "66/66 [==============================] - 1s 9ms/step - loss: 1.0075e-05 - accuracy: 1.0000 - val_loss: 0.2117 - val_accuracy: 0.9223\n",
            "Epoch 140/150\n",
            "66/66 [==============================] - 1s 9ms/step - loss: 3.7037e-05 - accuracy: 1.0000 - val_loss: 0.2114 - val_accuracy: 0.9223\n",
            "Epoch 141/150\n",
            "66/66 [==============================] - 1s 10ms/step - loss: 2.6026e-05 - accuracy: 1.0000 - val_loss: 0.1932 - val_accuracy: 0.9345\n",
            "Epoch 142/150\n",
            "66/66 [==============================] - 1s 10ms/step - loss: 3.1555e-05 - accuracy: 1.0000 - val_loss: 0.1887 - val_accuracy: 0.9369\n",
            "Epoch 143/150\n",
            "66/66 [==============================] - 1s 9ms/step - loss: 5.5757e-05 - accuracy: 1.0000 - val_loss: 0.1752 - val_accuracy: 0.9369\n",
            "Epoch 144/150\n",
            "66/66 [==============================] - 1s 8ms/step - loss: 1.4272e-05 - accuracy: 1.0000 - val_loss: 0.1735 - val_accuracy: 0.9442\n",
            "Epoch 145/150\n",
            "66/66 [==============================] - 1s 8ms/step - loss: 1.2256e-05 - accuracy: 1.0000 - val_loss: 0.1775 - val_accuracy: 0.9393\n",
            "Epoch 146/150\n",
            "66/66 [==============================] - 1s 9ms/step - loss: 5.6110e-06 - accuracy: 1.0000 - val_loss: 0.1840 - val_accuracy: 0.9369\n",
            "Epoch 147/150\n",
            "66/66 [==============================] - 1s 13ms/step - loss: 3.5522e-05 - accuracy: 1.0000 - val_loss: 0.1774 - val_accuracy: 0.9393\n",
            "Epoch 148/150\n",
            "66/66 [==============================] - 1s 12ms/step - loss: 9.3819e-05 - accuracy: 1.0000 - val_loss: 0.1797 - val_accuracy: 0.9345\n",
            "Epoch 149/150\n",
            "66/66 [==============================] - 1s 12ms/step - loss: 3.7357e-06 - accuracy: 1.0000 - val_loss: 0.1794 - val_accuracy: 0.9369\n",
            "Epoch 150/150\n",
            "66/66 [==============================] - 1s 8ms/step - loss: 6.8657e-05 - accuracy: 1.0000 - val_loss: 0.1737 - val_accuracy: 0.9369\n"
          ]
        },
        {
          "output_type": "execute_result",
          "data": {
            "text/plain": [
              "<keras.callbacks.History at 0x7fbb625e0490>"
            ]
          },
          "metadata": {},
          "execution_count": 24
        }
      ]
    },
    {
      "cell_type": "code",
      "source": [
        "losses = pd.DataFrame(ann.history.history)\n",
        "losses.plot()"
      ],
      "metadata": {
        "id": "W5H4dnR2FDFK",
        "colab": {
          "base_uri": "https://localhost:8080/",
          "height": 447
        },
        "outputId": "fb17bba7-bda4-42d1-8eda-7a0fa3069506"
      },
      "execution_count": 25,
      "outputs": [
        {
          "output_type": "execute_result",
          "data": {
            "text/plain": [
              "<Axes: >"
            ]
          },
          "metadata": {},
          "execution_count": 25
        },
        {
          "output_type": "display_data",
          "data": {
            "text/plain": [
              "<Figure size 640x480 with 1 Axes>"
            ],
            "image/png": "[encoded data removed]"
          },
          "metadata": {}
        }
      ]
    },
    {
      "cell_type": "code",
      "source": [
        "# Evaluate the model\n",
        "loss, accuracy = ann.evaluate(X_test, y_test)\n",
        "print(\"Test Loss:\", loss)\n",
        "print(\"Test Accuracy:\", accuracy)"
      ],
      "metadata": {
        "id": "g28MRuJOFMW_",
        "colab": {
          "base_uri": "https://localhost:8080/"
        },
        "outputId": "f819c72e-55cd-4419-84d9-0fc0941fe8b6"
      },
      "execution_count": 26,
      "outputs": [
        {
          "output_type": "stream",
          "name": "stdout",
          "text": [
            "13/13 [==============================] - 0s 2ms/step - loss: 0.1737 - accuracy: 0.9369\n",
            "Test Loss: 0.17367112636566162\n",
            "Test Accuracy: 0.9368932247161865\n"
          ]
        }
      ]
    },
    {
      "cell_type": "code",
      "source": [
        "y_pred = ann.predict(X_test)\n",
        "y_pred_classes = np.argmax(y_pred, axis=1)\n",
        "y_true_classes = np.argmax(y_test, axis=1)\n",
        "y_pred_classes = np.argmax(y_pred, axis=1)\n",
        "y_true_classes = np.argmax(y_test, axis=1)\n",
        "from sklearn.metrics import confusion_matrix\n",
        "import matplotlib.pyplot as plt\n",
        "import seaborn as sns\n",
        "cm = confusion_matrix(y_true_classes, y_pred_classes)\n",
        "plt.figure(figsize=(8, 6))\n",
        "sns.heatmap(cm, annot=True, fmt=\"d\", cmap=\"Blues\", xticklabels=label_encoder.classes_, yticklabels=label_encoder.classes_)\n",
        "plt.xlabel('Predicted Labels')\n",
        "plt.ylabel('True Labels')\n",
        "plt.title('Confusion Matrix')\n",
        "plt.show()"
      ],
      "metadata": {
        "id": "1cG2Ic0-7J1a",
        "colab": {
          "base_uri": "https://localhost:8080/",
          "height": 581
        },
        "outputId": "b9e9d24d-9327-4ccb-c295-5239d1e5d42a"
      },
      "execution_count": 27,
      "outputs": [
        {
          "output_type": "stream",
          "name": "stdout",
          "text": [
            "13/13 [==============================] - 0s 2ms/step\n"
          ]
        },
        {
          "output_type": "display_data",
          "data": {
            "text/plain": [
              "<Figure size 800x600 with 2 Axes>"
            ],
            "image/png": "[encoded data removed]"
          },
          "metadata": {}
        }
      ]
    },
    {
      "cell_type": "markdown",
      "source": [
        "##RNN"
      ],
      "metadata": {
        "id": "J1XXBfUd0s2k"
      }
    },
    {
      "cell_type": "code",
      "source": [
        "# Convert the padded sequences to numpy arrays\n",
        "X_train = np.array(padded_sequences_train)\n",
        "X_test = np.array(padded_sequences_test)\n",
        "\n",
        "# Define the RNN model\n",
        "embedding_dim = 200\n",
        "vocab_size = len(tokenizer.word_index) + 1\n",
        "hidden_units = 128  # Number of hidden units in the RNN layer\n",
        "\n",
        "rnn = Sequential()\n",
        "rnn.add(Embedding(vocab_size, embedding_dim, input_length=max_sequence_length))\n",
        "rnn.add(LSTM(hidden_units,dropout=0.5))\n",
        "rnn.add(Dense(32, activation='relu'))\n",
        "rnn.add(Dense(8, activation='relu'))\n",
        "rnn.add(Dense(len(label_encoder.classes_), activation='softmax'))\n",
        "\n",
        "# Compile the model\n",
        "rnn.compile(optimizer='adam', loss='categorical_crossentropy', metrics=['accuracy'])\n"
      ],
      "metadata": {
        "id": "uJMmFzKX_ix8"
      },
      "execution_count": 28,
      "outputs": []
    },
    {
      "cell_type": "code",
      "source": [
        "# Train the model\n",
        "batch_size = 64\n",
        "epochs = 100\n",
        "rnn.fit(X_train, y_train, batch_size=batch_size, epochs=epochs, validation_data=(X_test, y_test))\n"
      ],
      "metadata": {
        "id": "a9Gz78P1_ka0",
        "colab": {
          "base_uri": "https://localhost:8080/",
          "height": 1000
        },
        "outputId": "dd7f66d8-643e-4002-a722-81bdc8a90930"
      },
      "execution_count": 29,
      "outputs": [
        {
          "output_type": "stream",
          "name": "stdout",
          "text": [
            "Epoch 1/100\n",
            "33/33 [==============================] - 30s 782ms/step - loss: 1.3439 - accuracy: 0.3319 - val_loss: 1.2606 - val_accuracy: 0.4078\n",
            "Epoch 2/100\n",
            "33/33 [==============================] - 24s 742ms/step - loss: 0.9799 - accuracy: 0.4706 - val_loss: 0.9213 - val_accuracy: 0.4709\n",
            "Epoch 3/100\n",
            "33/33 [==============================] - 23s 688ms/step - loss: 0.6821 - accuracy: 0.6296 - val_loss: 0.8133 - val_accuracy: 0.6286\n",
            "Epoch 4/100\n",
            "33/33 [==============================] - 24s 745ms/step - loss: 0.5049 - accuracy: 0.7104 - val_loss: 0.7743 - val_accuracy: 0.6796\n",
            "Epoch 5/100\n",
            "33/33 [==============================] - 22s 662ms/step - loss: 0.4018 - accuracy: 0.7882 - val_loss: 0.7038 - val_accuracy: 0.7646\n",
            "Epoch 6/100\n",
            "33/33 [==============================] - 25s 761ms/step - loss: 0.3227 - accuracy: 0.8979 - val_loss: 0.7931 - val_accuracy: 0.8252\n",
            "Epoch 7/100\n",
            "33/33 [==============================] - 23s 713ms/step - loss: 0.1398 - accuracy: 0.9710 - val_loss: 0.7690 - val_accuracy: 0.8301\n",
            "Epoch 8/100\n",
            "33/33 [==============================] - 23s 698ms/step - loss: 0.0341 - accuracy: 0.9938 - val_loss: 0.8378 - val_accuracy: 0.8471\n",
            "Epoch 9/100\n",
            "33/33 [==============================] - 26s 802ms/step - loss: 0.3695 - accuracy: 0.8936 - val_loss: 0.6514 - val_accuracy: 0.8010\n",
            "Epoch 10/100\n",
            "33/33 [==============================] - 22s 665ms/step - loss: 0.1272 - accuracy: 0.9824 - val_loss: 0.5760 - val_accuracy: 0.8544\n",
            "Epoch 11/100\n",
            "33/33 [==============================] - 26s 793ms/step - loss: 0.0381 - accuracy: 0.9943 - val_loss: 0.5418 - val_accuracy: 0.8665\n",
            "Epoch 12/100\n",
            "33/33 [==============================] - 25s 765ms/step - loss: 0.0159 - accuracy: 0.9986 - val_loss: 0.5569 - val_accuracy: 0.8519\n",
            "Epoch 13/100\n",
            "33/33 [==============================] - 24s 729ms/step - loss: 0.0086 - accuracy: 1.0000 - val_loss: 0.5748 - val_accuracy: 0.8641\n",
            "Epoch 14/100\n",
            "33/33 [==============================] - 25s 740ms/step - loss: 0.0053 - accuracy: 1.0000 - val_loss: 0.5737 - val_accuracy: 0.8592\n",
            "Epoch 15/100\n",
            "33/33 [==============================] - 25s 753ms/step - loss: 0.0041 - accuracy: 1.0000 - val_loss: 0.5848 - val_accuracy: 0.8617\n",
            "Epoch 16/100\n",
            "33/33 [==============================] - 23s 714ms/step - loss: 0.0029 - accuracy: 1.0000 - val_loss: 0.5949 - val_accuracy: 0.8568\n",
            "Epoch 17/100\n",
            "33/33 [==============================] - 25s 761ms/step - loss: 0.0026 - accuracy: 1.0000 - val_loss: 0.5973 - val_accuracy: 0.8592\n",
            "Epoch 18/100\n",
            "33/33 [==============================] - 27s 817ms/step - loss: 0.0021 - accuracy: 1.0000 - val_loss: 0.5973 - val_accuracy: 0.8592\n",
            "Epoch 19/100\n",
            "33/33 [==============================] - 26s 766ms/step - loss: 0.0015 - accuracy: 1.0000 - val_loss: 0.6019 - val_accuracy: 0.8592\n",
            "Epoch 20/100\n",
            "33/33 [==============================] - 25s 770ms/step - loss: 0.0014 - accuracy: 1.0000 - val_loss: 0.6057 - val_accuracy: 0.8617\n",
            "Epoch 21/100\n",
            "33/33 [==============================] - 26s 792ms/step - loss: 0.0011 - accuracy: 1.0000 - val_loss: 0.6119 - val_accuracy: 0.8617\n",
            "Epoch 22/100\n",
            " 3/33 [=>............................] - ETA: 17s - loss: 7.5696e-04 - accuracy: 1.0000"
          ]
        },
        {
          "output_type": "error",
          "ename": "KeyboardInterrupt",
          "evalue": "ignored",
          "traceback": [
            "\u001b[0;31m---------------------------------------------------------------------------\u001b[0m",
            "\u001b[0;31mKeyboardInterrupt\u001b[0m                         Traceback (most recent call last)",
            "\u001b[0;32m<ipython-input-29-779e2c8341cb>\u001b[0m in \u001b[0;36m<cell line: 4>\u001b[0;34m()\u001b[0m\n\u001b[1;32m      2\u001b[0m \u001b[0mbatch_size\u001b[0m \u001b[0;34m=\u001b[0m \u001b[0;36m64\u001b[0m\u001b[0;34m\u001b[0m\u001b[0;34m\u001b[0m\u001b[0m\n\u001b[1;32m      3\u001b[0m \u001b[0mepochs\u001b[0m \u001b[0;34m=\u001b[0m \u001b[0;36m100\u001b[0m\u001b[0;34m\u001b[0m\u001b[0;34m\u001b[0m\u001b[0m\n\u001b[0;32m----> 4\u001b[0;31m \u001b[0mrnn\u001b[0m\u001b[0;34m.\u001b[0m\u001b[0mfit\u001b[0m\u001b[0;34m(\u001b[0m\u001b[0mX_train\u001b[0m\u001b[0;34m,\u001b[0m \u001b[0my_train\u001b[0m\u001b[0;34m,\u001b[0m \u001b[0mbatch_size\u001b[0m\u001b[0;34m=\u001b[0m\u001b[0mbatch_size\u001b[0m\u001b[0;34m,\u001b[0m \u001b[0mepochs\u001b[0m\u001b[0;34m=\u001b[0m\u001b[0mepochs\u001b[0m\u001b[0;34m,\u001b[0m \u001b[0mvalidation_data\u001b[0m\u001b[0;34m=\u001b[0m\u001b[0;34m(\u001b[0m\u001b[0mX_test\u001b[0m\u001b[0;34m,\u001b[0m \u001b[0my_test\u001b[0m\u001b[0;34m)\u001b[0m\u001b[0;34m)\u001b[0m\u001b[0;34m\u001b[0m\u001b[0;34m\u001b[0m\u001b[0m\n\u001b[0m",
            "\u001b[0;32m/usr/local/lib/python3.10/dist-packages/keras/utils/traceback_utils.py\u001b[0m in \u001b[0;36merror_handler\u001b[0;34m(*args, **kwargs)\u001b[0m\n\u001b[1;32m     63\u001b[0m         \u001b[0mfiltered_tb\u001b[0m \u001b[0;34m=\u001b[0m \u001b[0;32mNone\u001b[0m\u001b[0;34m\u001b[0m\u001b[0;34m\u001b[0m\u001b[0m\n\u001b[1;32m     64\u001b[0m         \u001b[0;32mtry\u001b[0m\u001b[0;34m:\u001b[0m\u001b[0;34m\u001b[0m\u001b[0;34m\u001b[0m\u001b[0m\n\u001b[0;32m---> 65\u001b[0;31m             \u001b[0;32mreturn\u001b[0m \u001b[0mfn\u001b[0m\u001b[0;34m(\u001b[0m\u001b[0;34m*\u001b[0m\u001b[0margs\u001b[0m\u001b[0;34m,\u001b[0m \u001b[0;34m**\u001b[0m\u001b[0mkwargs\u001b[0m\u001b[0;34m)\u001b[0m\u001b[0;34m\u001b[0m\u001b[0;34m\u001b[0m\u001b[0m\n\u001b[0m\u001b[1;32m     66\u001b[0m         \u001b[0;32mexcept\u001b[0m \u001b[0mException\u001b[0m \u001b[0;32mas\u001b[0m \u001b[0me\u001b[0m\u001b[0;34m:\u001b[0m\u001b[0;34m\u001b[0m\u001b[0;34m\u001b[0m\u001b[0m\n\u001b[1;32m     67\u001b[0m             \u001b[0mfiltered_tb\u001b[0m \u001b[0;34m=\u001b[0m \u001b[0m_process_traceback_frames\u001b[0m\u001b[0;34m(\u001b[0m\u001b[0me\u001b[0m\u001b[0;34m.\u001b[0m\u001b[0m__traceback__\u001b[0m\u001b[0;34m)\u001b[0m\u001b[0;34m\u001b[0m\u001b[0;34m\u001b[0m\u001b[0m\n",
            "\u001b[0;32m/usr/local/lib/python3.10/dist-packages/keras/engine/training.py\u001b[0m in \u001b[0;36mfit\u001b[0;34m(self, x, y, batch_size, epochs, verbose, callbacks, validation_split, validation_data, shuffle, class_weight, sample_weight, initial_epoch, steps_per_epoch, validation_steps, validation_batch_size, validation_freq, max_queue_size, workers, use_multiprocessing)\u001b[0m\n\u001b[1;32m   1683\u001b[0m                         ):\n\u001b[1;32m   1684\u001b[0m                             \u001b[0mcallbacks\u001b[0m\u001b[0;34m.\u001b[0m\u001b[0mon_train_batch_begin\u001b[0m\u001b[0;34m(\u001b[0m\u001b[0mstep\u001b[0m\u001b[0;34m)\u001b[0m\u001b[0;34m\u001b[0m\u001b[0;34m\u001b[0m\u001b[0m\n\u001b[0;32m-> 1685\u001b[0;31m                             \u001b[0mtmp_logs\u001b[0m \u001b[0;34m=\u001b[0m \u001b[0mself\u001b[0m\u001b[0;34m.\u001b[0m\u001b[0mtrain_function\u001b[0m\u001b[0;34m(\u001b[0m\u001b[0miterator\u001b[0m\u001b[0;34m)\u001b[0m\u001b[0;34m\u001b[0m\u001b[0;34m\u001b[0m\u001b[0m\n\u001b[0m\u001b[1;32m   1686\u001b[0m                             \u001b[0;32mif\u001b[0m \u001b[0mdata_handler\u001b[0m\u001b[0;34m.\u001b[0m\u001b[0mshould_sync\u001b[0m\u001b[0;34m:\u001b[0m\u001b[0;34m\u001b[0m\u001b[0;34m\u001b[0m\u001b[0m\n\u001b[1;32m   1687\u001b[0m                                 \u001b[0mcontext\u001b[0m\u001b[0;34m.\u001b[0m\u001b[0masync_wait\u001b[0m\u001b[0;34m(\u001b[0m\u001b[0;34m)\u001b[0m\u001b[0;34m\u001b[0m\u001b[0;34m\u001b[0m\u001b[0m\n",
            "\u001b[0;32m/usr/local/lib/python3.10/dist-packages/tensorflow/python/util/traceback_utils.py\u001b[0m in \u001b[0;36merror_handler\u001b[0;34m(*args, **kwargs)\u001b[0m\n\u001b[1;32m    148\u001b[0m     \u001b[0mfiltered_tb\u001b[0m \u001b[0;34m=\u001b[0m \u001b[0;32mNone\u001b[0m\u001b[0;34m\u001b[0m\u001b[0;34m\u001b[0m\u001b[0m\n\u001b[1;32m    149\u001b[0m     \u001b[0;32mtry\u001b[0m\u001b[0;34m:\u001b[0m\u001b[0;34m\u001b[0m\u001b[0;34m\u001b[0m\u001b[0m\n\u001b[0;32m--> 150\u001b[0;31m       \u001b[0;32mreturn\u001b[0m \u001b[0mfn\u001b[0m\u001b[0;34m(\u001b[0m\u001b[0;34m*\u001b[0m\u001b[0margs\u001b[0m\u001b[0;34m,\u001b[0m \u001b[0;34m**\u001b[0m\u001b[0mkwargs\u001b[0m\u001b[0;34m)\u001b[0m\u001b[0;34m\u001b[0m\u001b[0;34m\u001b[0m\u001b[0m\n\u001b[0m\u001b[1;32m    151\u001b[0m     \u001b[0;32mexcept\u001b[0m \u001b[0mException\u001b[0m \u001b[0;32mas\u001b[0m \u001b[0me\u001b[0m\u001b[0;34m:\u001b[0m\u001b[0;34m\u001b[0m\u001b[0;34m\u001b[0m\u001b[0m\n\u001b[1;32m    152\u001b[0m       \u001b[0mfiltered_tb\u001b[0m \u001b[0;34m=\u001b[0m \u001b[0m_process_traceback_frames\u001b[0m\u001b[0;34m(\u001b[0m\u001b[0me\u001b[0m\u001b[0;34m.\u001b[0m\u001b[0m__traceback__\u001b[0m\u001b[0;34m)\u001b[0m\u001b[0;34m\u001b[0m\u001b[0;34m\u001b[0m\u001b[0m\n",
            "\u001b[0;32m/usr/local/lib/python3.10/dist-packages/tensorflow/python/eager/polymorphic_function/polymorphic_function.py\u001b[0m in \u001b[0;36m__call__\u001b[0;34m(self, *args, **kwds)\u001b[0m\n\u001b[1;32m    892\u001b[0m \u001b[0;34m\u001b[0m\u001b[0m\n\u001b[1;32m    893\u001b[0m       \u001b[0;32mwith\u001b[0m \u001b[0mOptionalXlaContext\u001b[0m\u001b[0;34m(\u001b[0m\u001b[0mself\u001b[0m\u001b[0;34m.\u001b[0m\u001b[0m_jit_compile\u001b[0m\u001b[0;34m)\u001b[0m\u001b[0;34m:\u001b[0m\u001b[0;34m\u001b[0m\u001b[0;34m\u001b[0m\u001b[0m\n\u001b[0;32m--> 894\u001b[0;31m         \u001b[0mresult\u001b[0m \u001b[0;34m=\u001b[0m \u001b[0mself\u001b[0m\u001b[0;34m.\u001b[0m\u001b[0m_call\u001b[0m\u001b[0;34m(\u001b[0m\u001b[0;34m*\u001b[0m\u001b[0margs\u001b[0m\u001b[0;34m,\u001b[0m \u001b[0;34m**\u001b[0m\u001b[0mkwds\u001b[0m\u001b[0;34m)\u001b[0m\u001b[0;34m\u001b[0m\u001b[0;34m\u001b[0m\u001b[0m\n\u001b[0m\u001b[1;32m    895\u001b[0m \u001b[0;34m\u001b[0m\u001b[0m\n\u001b[1;32m    896\u001b[0m       \u001b[0mnew_tracing_count\u001b[0m \u001b[0;34m=\u001b[0m \u001b[0mself\u001b[0m\u001b[0;34m.\u001b[0m\u001b[0mexperimental_get_tracing_count\u001b[0m\u001b[0;34m(\u001b[0m\u001b[0;34m)\u001b[0m\u001b[0;34m\u001b[0m\u001b[0;34m\u001b[0m\u001b[0m\n",
            "\u001b[0;32m/usr/local/lib/python3.10/dist-packages/tensorflow/python/eager/polymorphic_function/polymorphic_function.py\u001b[0m in \u001b[0;36m_call\u001b[0;34m(self, *args, **kwds)\u001b[0m\n\u001b[1;32m    924\u001b[0m       \u001b[0;31m# In this case we have created variables on the first call, so we run the\u001b[0m\u001b[0;34m\u001b[0m\u001b[0;34m\u001b[0m\u001b[0m\n\u001b[1;32m    925\u001b[0m       \u001b[0;31m# defunned version which is guaranteed to never create variables.\u001b[0m\u001b[0;34m\u001b[0m\u001b[0;34m\u001b[0m\u001b[0m\n\u001b[0;32m--> 926\u001b[0;31m       \u001b[0;32mreturn\u001b[0m \u001b[0mself\u001b[0m\u001b[0;34m.\u001b[0m\u001b[0m_no_variable_creation_fn\u001b[0m\u001b[0;34m(\u001b[0m\u001b[0;34m*\u001b[0m\u001b[0margs\u001b[0m\u001b[0;34m,\u001b[0m \u001b[0;34m**\u001b[0m\u001b[0mkwds\u001b[0m\u001b[0;34m)\u001b[0m  \u001b[0;31m# pylint: disable=not-callable\u001b[0m\u001b[0;34m\u001b[0m\u001b[0;34m\u001b[0m\u001b[0m\n\u001b[0m\u001b[1;32m    927\u001b[0m     \u001b[0;32melif\u001b[0m \u001b[0mself\u001b[0m\u001b[0;34m.\u001b[0m\u001b[0m_variable_creation_fn\u001b[0m \u001b[0;32mis\u001b[0m \u001b[0;32mnot\u001b[0m \u001b[0;32mNone\u001b[0m\u001b[0;34m:\u001b[0m\u001b[0;34m\u001b[0m\u001b[0;34m\u001b[0m\u001b[0m\n\u001b[1;32m    928\u001b[0m       \u001b[0;31m# Release the lock early so that multiple threads can perform the call\u001b[0m\u001b[0;34m\u001b[0m\u001b[0;34m\u001b[0m\u001b[0m\n",
            "\u001b[0;32m/usr/local/lib/python3.10/dist-packages/tensorflow/python/eager/polymorphic_function/tracing_compiler.py\u001b[0m in \u001b[0;36m__call__\u001b[0;34m(self, *args, **kwargs)\u001b[0m\n\u001b[1;32m    141\u001b[0m       (concrete_function,\n\u001b[1;32m    142\u001b[0m        filtered_flat_args) = self._maybe_define_function(args, kwargs)\n\u001b[0;32m--> 143\u001b[0;31m     return concrete_function._call_flat(\n\u001b[0m\u001b[1;32m    144\u001b[0m         filtered_flat_args, captured_inputs=concrete_function.captured_inputs)  # pylint: disable=protected-access\n\u001b[1;32m    145\u001b[0m \u001b[0;34m\u001b[0m\u001b[0m\n",
            "\u001b[0;32m/usr/local/lib/python3.10/dist-packages/tensorflow/python/eager/polymorphic_function/monomorphic_function.py\u001b[0m in \u001b[0;36m_call_flat\u001b[0;34m(self, args, captured_inputs, cancellation_manager)\u001b[0m\n\u001b[1;32m   1755\u001b[0m         and executing_eagerly):\n\u001b[1;32m   1756\u001b[0m       \u001b[0;31m# No tape is watching; skip to running the function.\u001b[0m\u001b[0;34m\u001b[0m\u001b[0;34m\u001b[0m\u001b[0m\n\u001b[0;32m-> 1757\u001b[0;31m       return self._build_call_outputs(self._inference_function.call(\n\u001b[0m\u001b[1;32m   1758\u001b[0m           ctx, args, cancellation_manager=cancellation_manager))\n\u001b[1;32m   1759\u001b[0m     forward_backward = self._select_forward_and_backward_functions(\n",
            "\u001b[0;32m/usr/local/lib/python3.10/dist-packages/tensorflow/python/eager/polymorphic_function/monomorphic_function.py\u001b[0m in \u001b[0;36mcall\u001b[0;34m(self, ctx, args, cancellation_manager)\u001b[0m\n\u001b[1;32m    379\u001b[0m       \u001b[0;32mwith\u001b[0m \u001b[0m_InterpolateFunctionError\u001b[0m\u001b[0;34m(\u001b[0m\u001b[0mself\u001b[0m\u001b[0;34m)\u001b[0m\u001b[0;34m:\u001b[0m\u001b[0;34m\u001b[0m\u001b[0;34m\u001b[0m\u001b[0m\n\u001b[1;32m    380\u001b[0m         \u001b[0;32mif\u001b[0m \u001b[0mcancellation_manager\u001b[0m \u001b[0;32mis\u001b[0m \u001b[0;32mNone\u001b[0m\u001b[0;34m:\u001b[0m\u001b[0;34m\u001b[0m\u001b[0;34m\u001b[0m\u001b[0m\n\u001b[0;32m--> 381\u001b[0;31m           outputs = execute.execute(\n\u001b[0m\u001b[1;32m    382\u001b[0m               \u001b[0mstr\u001b[0m\u001b[0;34m(\u001b[0m\u001b[0mself\u001b[0m\u001b[0;34m.\u001b[0m\u001b[0msignature\u001b[0m\u001b[0;34m.\u001b[0m\u001b[0mname\u001b[0m\u001b[0;34m)\u001b[0m\u001b[0;34m,\u001b[0m\u001b[0;34m\u001b[0m\u001b[0;34m\u001b[0m\u001b[0m\n\u001b[1;32m    383\u001b[0m               \u001b[0mnum_outputs\u001b[0m\u001b[0;34m=\u001b[0m\u001b[0mself\u001b[0m\u001b[0;34m.\u001b[0m\u001b[0m_num_outputs\u001b[0m\u001b[0;34m,\u001b[0m\u001b[0;34m\u001b[0m\u001b[0;34m\u001b[0m\u001b[0m\n",
            "\u001b[0;32m/usr/local/lib/python3.10/dist-packages/tensorflow/python/eager/execute.py\u001b[0m in \u001b[0;36mquick_execute\u001b[0;34m(op_name, num_outputs, inputs, attrs, ctx, name)\u001b[0m\n\u001b[1;32m     50\u001b[0m   \u001b[0;32mtry\u001b[0m\u001b[0;34m:\u001b[0m\u001b[0;34m\u001b[0m\u001b[0;34m\u001b[0m\u001b[0m\n\u001b[1;32m     51\u001b[0m     \u001b[0mctx\u001b[0m\u001b[0;34m.\u001b[0m\u001b[0mensure_initialized\u001b[0m\u001b[0;34m(\u001b[0m\u001b[0;34m)\u001b[0m\u001b[0;34m\u001b[0m\u001b[0;34m\u001b[0m\u001b[0m\n\u001b[0;32m---> 52\u001b[0;31m     tensors = pywrap_tfe.TFE_Py_Execute(ctx._handle, device_name, op_name,\n\u001b[0m\u001b[1;32m     53\u001b[0m                                         inputs, attrs, num_outputs)\n\u001b[1;32m     54\u001b[0m   \u001b[0;32mexcept\u001b[0m \u001b[0mcore\u001b[0m\u001b[0;34m.\u001b[0m\u001b[0m_NotOkStatusException\u001b[0m \u001b[0;32mas\u001b[0m \u001b[0me\u001b[0m\u001b[0;34m:\u001b[0m\u001b[0;34m\u001b[0m\u001b[0;34m\u001b[0m\u001b[0m\n",
            "\u001b[0;31mKeyboardInterrupt\u001b[0m: "
          ]
        }
      ]
    },
    {
      "cell_type": "code",
      "source": [
        "losses = pd.DataFrame(rnn.history.history)\n",
        "losses.plot()"
      ],
      "metadata": {
        "id": "tVQh9r8L2F10",
        "colab": {
          "base_uri": "https://localhost:8080/",
          "height": 450
        },
        "outputId": "624789c0-7e76-4182-ba35-f29bea9b1c30"
      },
      "execution_count": 30,
      "outputs": [
        {
          "output_type": "execute_result",
          "data": {
            "text/plain": [
              "<Axes: >"
            ]
          },
          "metadata": {},
          "execution_count": 30
        },
        {
          "output_type": "display_data",
          "data": {
            "text/plain": [
              "<Figure size 640x480 with 1 Axes>"
            ],
            "image/png": "[encoded data removed]"
          },
          "metadata": {}
        }
      ]
    },
    {
      "cell_type": "code",
      "source": [
        "# Evaluate the model\n",
        "loss, accuracy = rnn.evaluate(X_test, y_test)\n",
        "print(\"Test Loss:\", loss)\n",
        "print(\"Test Accuracy:\", accuracy)"
      ],
      "metadata": {
        "id": "jSW5Ph0pJTon",
        "colab": {
          "base_uri": "https://localhost:8080/"
        },
        "outputId": "7981afff-64bc-40ba-a535-b20b9af5b110"
      },
      "execution_count": 32,
      "outputs": [
        {
          "output_type": "stream",
          "name": "stdout",
          "text": [
            "13/13 [==============================] - 2s 131ms/step - loss: 0.6115 - accuracy: 0.8617\n",
            "Test Loss: 0.6115293502807617\n",
            "Test Accuracy: 0.8616504669189453\n"
          ]
        }
      ]
    },
    {
      "cell_type": "code",
      "source": [
        "y_pred = rnn.predict(X_test)\n",
        "y_pred_classes = np.argmax(y_pred, axis=1)\n",
        "y_true_classes = np.argmax(y_test, axis=1)\n",
        "y_pred_classes = np.argmax(y_pred, axis=1)\n",
        "y_true_classes = np.argmax(y_test, axis=1)\n",
        "from sklearn.metrics import confusion_matrix\n",
        "import matplotlib.pyplot as plt\n",
        "import seaborn as sns\n",
        "cm = confusion_matrix(y_true_classes, y_pred_classes)\n",
        "plt.figure(figsize=(8, 6))\n",
        "sns.heatmap(cm, annot=True, fmt=\"d\", cmap=\"Blues\", xticklabels=label_encoder.classes_, yticklabels=label_encoder.classes_)\n",
        "plt.xlabel('Predicted Labels')\n",
        "plt.ylabel('True Labels')\n",
        "plt.title('Confusion Matrix')\n",
        "plt.show()\n"
      ],
      "metadata": {
        "id": "qxHlsX5234Nc",
        "colab": {
          "base_uri": "https://localhost:8080/",
          "height": 581
        },
        "outputId": "ec910537-c73b-4467-b6a7-f6ad0e7e9d95"
      },
      "execution_count": 33,
      "outputs": [
        {
          "output_type": "stream",
          "name": "stdout",
          "text": [
            "13/13 [==============================] - 2s 124ms/step\n"
          ]
        },
        {
          "output_type": "display_data",
          "data": {
            "text/plain": [
              "<Figure size 800x600 with 2 Axes>"
            ],
            "image/png": "[encoded data removed]"
          },
          "metadata": {}
        }
      ]
    }
  ]
}